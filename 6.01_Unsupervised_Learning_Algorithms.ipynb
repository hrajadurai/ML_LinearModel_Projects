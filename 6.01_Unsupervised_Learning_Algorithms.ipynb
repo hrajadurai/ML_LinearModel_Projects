{
 "cells": [
  {
   "cell_type": "markdown",
   "metadata": {
    "id": "aMe6D8Ic5r4z"
   },
   "source": [
    "# __Unsupervised Learning__ #"
   ]
  },
  {
   "cell_type": "markdown",
   "metadata": {
    "id": "J6wMdvye5s58"
   },
   "source": [
    "##__Agenda__##"
   ]
  },
  {
   "cell_type": "markdown",
   "metadata": {
    "id": "s82d7R305s8g"
   },
   "source": [
    "- Unsupervised Learning\n",
    "- Types of Unsupervised Learning\n",
    "  - Clustering\n",
    "  - Association\n",
    "- Use Cases\n",
    "- Performance Parameters\n",
    "  - Silhouette Coefficient\n",
    "  - Dunn’s Index\n",
    "- Types of Clustering\n",
    "  - Density clustering\n",
    "  - Distribution clustering\n",
    "  - Centroid-based clustering\n",
    "  - Hierarchical clustering\n",
    "- K-Means Clustering\n",
    "- K-Medoids Algorithm\n",
    "- Outliers\n",
    "  - Outlier Detection Algorithms in PyOD\n",
    "\n"
   ]
  },
  {
   "cell_type": "markdown",
   "metadata": {
    "id": "e9ofsxni5s-y"
   },
   "source": [
    "##__1. Unsupervised Learning__##"
   ]
  },
  {
   "cell_type": "markdown",
   "metadata": {
    "id": "ja8IgJzx5tBO"
   },
   "source": [
    "Unsupervised learning is a machine learning type where the model learns from unlabeled data to find patterns within it."
   ]
  },
  {
   "cell_type": "markdown",
   "metadata": {
    "id": "NEAwU1fC5tEl"
   },
   "source": [
    "- It deals with unlabeled datasets.\n",
    "- It enables algorithms to work independently to discover hidden information in the data without guidance.\n",
    "- It classifies unsorted information according to patterns, differences, or similarities.\n"
   ]
  },
  {
   "cell_type": "markdown",
   "metadata": {
    "id": "aOdWfLO05tQ6"
   },
   "source": [
    "![link text](https://labcontent.simplicdn.net/data-content/content-assets/Data_and_AI/ML/New/Lesson_06_Unsupervised_Learning/unsupervised_learning.png)"
   ]
  },
  {
   "cell_type": "markdown",
   "metadata": {
    "id": "kQ1As400OA28"
   },
   "source": [
    "Example: A data scientist inputs information about elderly people admitted to the hospital. The algorithm receives no external input to influence categorization.\n"
   ]
  },
  {
   "cell_type": "markdown",
   "metadata": {
    "id": "o4k9IQ5YOA5K"
   },
   "source": [
    "Unsupervised learning algorithms are used to detect the following in the data:\n",
    "- Patterns\n",
    "- Differences\n",
    "- Similarities\n"
   ]
  },
  {
   "cell_type": "markdown",
   "metadata": {
    "id": "kNXS48GdOA7m"
   },
   "source": [
    "Categorization of the given data can be based on age, average time spent in the hospital, and the types of diseases patients suffer from."
   ]
  },
  {
   "cell_type": "markdown",
   "metadata": {
    "id": "f2YNbXlfOA-k"
   },
   "source": [
    "The final categorization of a dataset aids in deriving conclusions based on different patterns generated from the data.\n"
   ]
  },
  {
   "cell_type": "markdown",
   "metadata": {
    "id": "gS02o51OP8HJ"
   },
   "source": [
    "\n",
    "Clusters formed according to the dataset yield the following inferences:"
   ]
  },
  {
   "cell_type": "markdown",
   "metadata": {
    "id": "Pqm_0DeqOBB-"
   },
   "source": [
    "![link text](https://labcontent.simplicdn.net/data-content/content-assets/Data_and_AI/ML/New/Lesson_06_Unsupervised_Learning/ul_example.png)"
   ]
  },
  {
   "cell_type": "markdown",
   "metadata": {
    "id": "BlmtJ61MOBMA"
   },
   "source": [
    "![link text](https://labcontent.simplicdn.net/data-content/content-assets/Data_and_AI/ML/New/Lesson_06_Unsupervised_Learning/ul_example2.png)"
   ]
  },
  {
   "cell_type": "markdown",
   "metadata": {
    "id": "9gf4EkVUOBRT"
   },
   "source": [
    "- Three clusters are formed based on the average time spent in the hospital.\n"
   ]
  },
  {
   "cell_type": "markdown",
   "metadata": {
    "id": "822RqODFOBT3"
   },
   "source": [
    "- The death rate for patients suffering from cancer and heart disease  decreased after 1970."
   ]
  },
  {
   "cell_type": "markdown",
   "metadata": {
    "id": "KjvfEPRKOBXc"
   },
   "source": [
    "- The average hospital stay duration has decreased.\n"
   ]
  },
  {
   "cell_type": "markdown",
   "metadata": {
    "id": "QHg9eW5WOBa9"
   },
   "source": [
    "- Life expectancy for a 65-year-old is higher today compared to earlier years."
   ]
  },
  {
   "cell_type": "markdown",
   "metadata": {
    "id": "cYpPvyL5QD_W"
   },
   "source": [
    "- A decreasing death rate indicates progress in medical science.\n"
   ]
  },
  {
   "cell_type": "markdown",
   "metadata": {
    "id": "vcjvA1vqQECT"
   },
   "source": [
    "In unsupervised learning, the model derives insights from the data without being taught anything.\n",
    "- It uncovers several previously unknown patterns in the dataset.\n",
    "- It helps in finding features that may be useful for categorization.\n"
   ]
  },
  {
   "cell_type": "markdown",
   "metadata": {
    "id": "e8_2ubuJQZRW"
   },
   "source": [
    "##__2. Types of Unsupervised Algorithms__##"
   ]
  },
  {
   "cell_type": "markdown",
   "metadata": {
    "id": "qbgjgYTpQZT-"
   },
   "source": [
    "Several primary types of unsupervised learning algorithms extract patterns from unlabeled or uncategorized data. They use clustering and association techniques to find the structure of the dataset and group them based on similarity.\n",
    "\n",
    "- Clustering\n",
    "- Association\n"
   ]
  },
  {
   "cell_type": "markdown",
   "metadata": {
    "id": "jnO08AXTQZWu"
   },
   "source": [
    "###__2.1 Clustering__###"
   ]
  },
  {
   "cell_type": "markdown",
   "metadata": {
    "id": "3OjJ4Kq3Rfch"
   },
   "source": [
    "Clustering is a technique in unsupervised learning where data points are grouped together based on their similarities, aiming to discover inherent patterns or structures within the data."
   ]
  },
  {
   "cell_type": "markdown",
   "metadata": {
    "id": "hCbr6QycRrXk"
   },
   "source": [
    "![link text](https://labcontent.simplicdn.net/data-content/content-assets/Data_and_AI/ML/New/Lesson_06_Unsupervised_Learning/clustering.png)"
   ]
  },
  {
   "cell_type": "markdown",
   "metadata": {
    "id": "huBv-QDwQZYt"
   },
   "source": [
    "- Clustering techniques divide a set of data points into multiple clusters, ensuring similarity within each cluster.\n",
    "- Its goal is to segregate data points with similar traits.\n",
    "\n"
   ]
  },
  {
   "cell_type": "markdown",
   "metadata": {
    "id": "aEsZNtR1TfbW"
   },
   "source": [
    "The most common clustering algorithms used in unsupervised learning are:\n",
    "- K-means clustering\n",
    "- K-medoids\n",
    "- Density-based spatial clustering of applications with noise (DBSCAN)\n",
    "- Agglomerative clustering\n"
   ]
  },
  {
   "cell_type": "markdown",
   "metadata": {
    "id": "2z3iaaYfQZbO"
   },
   "source": [
    "###__2.2 Association__###"
   ]
  },
  {
   "cell_type": "markdown",
   "metadata": {
    "id": "dCTnZuTTQZdb"
   },
   "source": [
    "Association refers to a type of unsupervised learning technique used to identify relationships or associations between variables within a dataset. It is often used in market basket analysis or recommendation systems to discover frequent patterns or item sets."
   ]
  },
  {
   "cell_type": "markdown",
   "metadata": {
    "id": "GWxApHySQZhF"
   },
   "source": [
    "![link text](https://labcontent.simplicdn.net/data-content/content-assets/Data_and_AI/ML/New/Lesson_06_Unsupervised_Learning/association.png)"
   ]
  },
  {
   "cell_type": "markdown",
   "metadata": {
    "id": "h5gBdkZHQZjz"
   },
   "source": [
    "- An association rule involves finding the relationship between variables in a large dataset.\n",
    "- It determines the dependencies of one data item over another.\n"
   ]
  },
  {
   "cell_type": "markdown",
   "metadata": {
    "id": "Kb-GYkvoQEFu"
   },
   "source": [
    "Some of the commonly used unsupervised learning algorithms are:\n",
    "- Principal component analysis (PCA)\n",
    "- Balanced iterative reducing and clustering using hierarchies (BIRCH)\n",
    "- Apriori"
   ]
  },
  {
   "cell_type": "markdown",
   "metadata": {
    "id": "LxrO4EhmUlAL"
   },
   "source": [
    "##__3. Use Cases of Unsupervised Learning Models__##\n"
   ]
  },
  {
   "cell_type": "markdown",
   "metadata": {
    "id": "c2vHH9T-TCFm"
   },
   "source": [
    "Unsupervised learning models are used when:\n",
    "- Anomalies in the dataset is detected.\n",
    "- Data inputs in a large dataset with many features must be reduced to a manageable size.\n",
    "- Data points must be grouped based on similar traits.\n",
    "- The relationship between different features of a large dataset should be determined.\n"
   ]
  },
  {
   "cell_type": "markdown",
   "metadata": {
    "id": "zbDyOgqiTCIS"
   },
   "source": [
    "Unsupervised learning algorithms have many critical real-world applications, including:\n",
    "- Market basket\n",
    "analysis\n",
    "- Fraud\n",
    "detection\n",
    "- Malware\n",
    "detection\n",
    "- Customer\n",
    "segmentation\n",
    "- Targeted marketing campaigns\n"
   ]
  },
  {
   "cell_type": "markdown",
   "metadata": {
    "id": "6AMFU_Q2TCK_"
   },
   "source": [
    "##__4. Performance Parameters__##"
   ]
  },
  {
   "cell_type": "markdown",
   "metadata": {
    "id": "tNAURA10TCNK"
   },
   "source": [
    "The output in unsupervised learning is probabilistic, and hence, evaluating the performance of the model becomes important."
   ]
  },
  {
   "cell_type": "markdown",
   "metadata": {
    "id": "PFqkiZQaTCRi"
   },
   "source": [
    "Various metrics are used to evaluate the performance of a model.\n",
    "The two commonly used metrics for performance parameters are:\n",
    "- Silhouette Coefficient\n",
    "- Dunn’s Index\n"
   ]
  },
  {
   "cell_type": "markdown",
   "metadata": {
    "id": "6Nnz8RVyTCUt"
   },
   "source": [
    "###__4.1 Silhouette Coefficient__###"
   ]
  },
  {
   "cell_type": "markdown",
   "metadata": {
    "id": "2EX0dLUJTCWU"
   },
   "source": [
    "It is a measure of the similarity of a sample to its cluster when compared to other clusters.\n",
    "- The value of the coefficient ranges from -1 to +1.\n",
    "- A lower value indicates that the sample is less cohesive with its own cluster.\n",
    "- A higher value indicates high cohesion.\n"
   ]
  },
  {
   "cell_type": "markdown",
   "metadata": {
    "id": "0ut8oqFOTCYW"
   },
   "source": [
    "The coefficient is the average distance between a sample and all remaining points in the same cluster, divided by the average distance between the sample and all the points in the next closest cluster.\n"
   ]
  },
  {
   "cell_type": "markdown",
   "metadata": {
    "id": "2UyFqz74TCaK"
   },
   "source": [
    "![link text](https://labcontent.simplicdn.net/data-content/content-assets/Data_and_AI/ML/New/Lesson_06_Unsupervised_Learning/sillhouette_coefficient_formula.png)"
   ]
  },
  {
   "cell_type": "markdown",
   "metadata": {
    "id": "wc_FBc-FTCb2"
   },
   "source": [
    "Where, a represents cohesion and b represents separation.\n",
    "\n",
    "a is the average distance between the sample and all the remaining points in the same cluster.\n",
    "b is the average distance between the sample and the points in the next closest cluster.\n"
   ]
  },
  {
   "cell_type": "markdown",
   "metadata": {
    "id": "9NZlYXKSTCeT"
   },
   "source": [
    "- The score lies between -1 and +1.\n",
    "- A score of +1 indicates a highly dense cluster, and\n",
    " -1 indicates an incorrect cluster.\n",
    "- If the score is around zero, you can infer that the clusters overlap.\n",
    "- The higher the score, the denser and more well-separated the cluster.\n"
   ]
  },
  {
   "cell_type": "markdown",
   "metadata": {
    "id": "dVHs2YZXTCiF"
   },
   "source": [
    "###__4.2 Dunn’s Index__###"
   ]
  },
  {
   "cell_type": "markdown",
   "metadata": {
    "id": "IlpS1423TCk0"
   },
   "source": [
    "Dunn’s index (DI) determines sets of clusters that are cohesive and well separated.\n"
   ]
  },
  {
   "cell_type": "markdown",
   "metadata": {
    "id": "VeJ-Xv49TCoP"
   },
   "source": [
    "![link text](https://labcontent.simplicdn.net/data-content/content-assets/Data_and_AI/ML/updated/Lesson_06/dunnsindex.png)"
   ]
  },
  {
   "cell_type": "markdown",
   "metadata": {
    "id": "JFSd1VuYYwm0"
   },
   "source": [
    "  - Intercluster distance refers to the separation or distance between different clusters in a clustering analysis.\n",
    "\n",
    "  - Intracluster distance refers to the average distance between data points within the same cluster in a clustering analysis."
   ]
  },
  {
   "cell_type": "markdown",
   "metadata": {
    "id": "uIXsoc1EYwp9"
   },
   "source": [
    "- The score lies between -1 and +1.\n",
    "- A higher DI value indicates better clustering.\n"
   ]
  },
  {
   "cell_type": "markdown",
   "metadata": {
    "id": "MMCqQFt0YwtR"
   },
   "source": [
    "##__5. Types of Clustering__##"
   ]
  },
  {
   "cell_type": "markdown",
   "metadata": {
    "id": "K2ILEN8dZvVe"
   },
   "source": [
    "There are various types of clustering methods to choose from, depending on the type of problem to be solved. The most common ones are:\n",
    "- Centroid-based clustering\n",
    "- Density-based clustering\n",
    "- Distributed clustering\n",
    "- Hierarchical clustering\n"
   ]
  },
  {
   "cell_type": "markdown",
   "metadata": {
    "id": "wuErZGenZvYZ"
   },
   "source": [
    "###__5.1 Centroid-based Clustering__###"
   ]
  },
  {
   "cell_type": "markdown",
   "metadata": {
    "id": "14qo9liYZvaw"
   },
   "source": [
    "It is one of the iterative clustering algorithms in which clusters are formed based on the proximity of data points to their centroid. The K-means algorithm is one of the most popular examples of this clustering.\n"
   ]
  },
  {
   "cell_type": "markdown",
   "metadata": {
    "id": "WdHGUZK4ZvdN"
   },
   "source": [
    "![link text](https://labcontent.simplicdn.net/data-content/content-assets/Data_and_AI/ML/New/Lesson_06_Unsupervised_Learning/centroid_based_clustering.png)"
   ]
  },
  {
   "cell_type": "markdown",
   "metadata": {
    "id": "4QGV9ukVZvfi"
   },
   "source": [
    "###__5.2 Density-based Clustering__###"
   ]
  },
  {
   "cell_type": "markdown",
   "metadata": {
    "id": "fLg44QHVZvik"
   },
   "source": [
    "It identifies distinct clusters in the data based on the idea that clusters in a dataset are contiguous areas of high density, separated by sparse areas.\n"
   ]
  },
  {
   "cell_type": "markdown",
   "metadata": {
    "id": "oXeNb94vZvlr"
   },
   "source": [
    "![link text](https://labcontent.simplicdn.net/data-content/content-assets/Data_and_AI/ML/New/Lesson_06_Unsupervised_Learning/density_based_clustering.png)"
   ]
  },
  {
   "cell_type": "markdown",
   "metadata": {
    "id": "Fde4KNdzZvnt"
   },
   "source": [
    "Example: Data scientists use this clustering to identify malfunctioning servers, group genes with similar expression patterns, and detect anomalies in biomedical images.\n"
   ]
  },
  {
   "cell_type": "markdown",
   "metadata": {
    "id": "OF5wMs2jZvqX"
   },
   "source": [
    "###__5.3 Distributed Clustering__###"
   ]
  },
  {
   "cell_type": "markdown",
   "metadata": {
    "id": "ZrjoW8-HZvt0"
   },
   "source": [
    "It is a method of grouping data based on the probability that they belong to the same distribution, which can be Gaussian."
   ]
  },
  {
   "cell_type": "markdown",
   "metadata": {
    "id": "25mpHFxpbX5l"
   },
   "source": [
    "![link text](https://labcontent.simplicdn.net/data-content/content-assets/Data_and_AI/ML/New/Lesson_06_Unsupervised_Learning/distribution_clustering.png)"
   ]
  },
  {
   "cell_type": "markdown",
   "metadata": {
    "id": "u9AqdQEobX8H"
   },
   "source": [
    "It generates clusters that assume concisely defined mathematical models for underlying the data, which is a strong assumption for some data distributions.\n"
   ]
  },
  {
   "cell_type": "markdown",
   "metadata": {
    "id": "H5lqSVNhbX-k"
   },
   "source": [
    "###__5.4 Hierarchical Clustering__###"
   ]
  },
  {
   "cell_type": "markdown",
   "metadata": {
    "id": "wySFcQPKbYBP"
   },
   "source": [
    "Hierarchical cluster analysis (HCA) groups data points in a hierarchical fashion. At each level of the hierarchy, the algorithm merges the two most similar data points.\n"
   ]
  },
  {
   "cell_type": "markdown",
   "metadata": {
    "id": "-cMxtrT-bYDy"
   },
   "source": [
    "It adopts either of the following approaches for grouping data:\n",
    "- Agglomerative Hierarchical Cluster Analysis: Bottom-to-top approach\n",
    "- Divisive Hierarchical Cluster Analysis: Top-to-bottom approach\n",
    "\n",
    "\n"
   ]
  },
  {
   "cell_type": "markdown",
   "metadata": {
    "id": "rPNrUZ1zbYF5"
   },
   "source": [
    "####__5.4.1 Working__####"
   ]
  },
  {
   "cell_type": "markdown",
   "metadata": {
    "id": "XPrUil27cIXX"
   },
   "source": [
    "Consider a dataset of n different types of animals.\n",
    "- Assume that each animal is a distinct cluster by itself, that is, n clusters.\n",
    "- Take the two closest data points and make them into a cluster. Now, there are n-1 clusters.\n",
    "- Repeat the process as mammals are grouped into one cluster, reptiles into another, fish into a third cluster, and so on.\n",
    "- Group mammals, reptiles, and fish into the vertebrate cluster and insects, corals, and arachnids into the invertebrate cluster.\n",
    "\n"
   ]
  },
  {
   "cell_type": "markdown",
   "metadata": {
    "id": "aQn8X4RXcIa1"
   },
   "source": [
    "Hierarchical clustering is the result of the of the creation of a tree-shaped structure known as a dendrogram.\n",
    "\n",
    "- A dendrogram is a visual interpretation of the hierarchical connections between items.\n",
    "- The goal is to find the best approach to assigning items to a cluster.\n"
   ]
  },
  {
   "cell_type": "markdown",
   "metadata": {
    "id": "ma0EgZzycIeT"
   },
   "source": [
    "![link text](https://labcontent.simplicdn.net/data-content/content-assets/Data_and_AI/ML/New/Lesson_06_Unsupervised_Learning/dendogram.png)"
   ]
  },
  {
   "cell_type": "markdown",
   "metadata": {
    "id": "quwZMxHXcIhS"
   },
   "source": [
    "####__5.4.2 Choosing the Number of Clusters__####\n",
    "\n",
    "Consider the following diagram:\n"
   ]
  },
  {
   "cell_type": "markdown",
   "metadata": {
    "id": "9zr1Pp6icIkf"
   },
   "source": [
    "![link text](https://labcontent.simplicdn.net/data-content/content-assets/Data_and_AI/ML/New/Lesson_06_Unsupervised_Learning/choosing_number_of_clusters.png)"
   ]
  },
  {
   "cell_type": "markdown",
   "metadata": {
    "id": "pd1BQYzwcI0Y"
   },
   "source": [
    "To choose the number of clusters to be created:\n",
    "- Identify the longest line that traverses the maximum vertical distance without intersecting any of the merging points in the dendrogram.\n",
    "- Draw a horizontal line where the line can traverse the maximum vertical distance without intersecting the merging point.\n",
    "- The number of vertical lines it intersects is the optimal number of clusters.\n"
   ]
  },
  {
   "cell_type": "markdown",
   "metadata": {
    "id": "3L7OrnKqcI3y"
   },
   "source": [
    "Let us see the implementation of hierarchical clustering."
   ]
  },
  {
   "cell_type": "markdown",
   "metadata": {
    "id": "nuIN5K-NeX8j"
   },
   "source": [
    "- Import the pandas, NumPy, and matplotlib.pyplot libraries.\n",
    "- Configure matplotlib settings.\n"
   ]
  },
  {
   "cell_type": "code",
   "execution_count": 1,
   "metadata": {
    "id": "l28GB-q80z84"
   },
   "outputs": [],
   "source": [
    "import matplotlib.pyplot as plt\n",
    "import pandas as pd\n",
    "import numpy as np"
   ]
  },
  {
   "cell_type": "markdown",
   "metadata": {
    "id": "-a7J0SbAeadW"
   },
   "source": [
    "\n",
    "- Load the Mall_customers.csv dataset.\n",
    "- Display the first few rows of the dataset.\n",
    "- Extract the necessary columns and store them in a variable called df.\n"
   ]
  },
  {
   "cell_type": "code",
   "execution_count": 2,
   "metadata": {
    "id": "415hp9Hv0z86"
   },
   "outputs": [],
   "source": [
    "df = pd.read_csv('Mall_customers.csv')"
   ]
  },
  {
   "cell_type": "code",
   "execution_count": 3,
   "metadata": {
    "colab": {
     "base_uri": "https://localhost:8080/",
     "height": 206
    },
    "id": "Tg5VGuLc0z86",
    "outputId": "ea02ea38-69ee-48ef-900d-0f6106a815c3"
   },
   "outputs": [
    {
     "data": {
      "text/html": [
       "<div>\n",
       "<style scoped>\n",
       "    .dataframe tbody tr th:only-of-type {\n",
       "        vertical-align: middle;\n",
       "    }\n",
       "\n",
       "    .dataframe tbody tr th {\n",
       "        vertical-align: top;\n",
       "    }\n",
       "\n",
       "    .dataframe thead th {\n",
       "        text-align: right;\n",
       "    }\n",
       "</style>\n",
       "<table border=\"1\" class=\"dataframe\">\n",
       "  <thead>\n",
       "    <tr style=\"text-align: right;\">\n",
       "      <th></th>\n",
       "      <th>CustomerID</th>\n",
       "      <th>Gender</th>\n",
       "      <th>Age</th>\n",
       "      <th>Annual Income (k$)</th>\n",
       "      <th>Spending Score (1-100)</th>\n",
       "    </tr>\n",
       "  </thead>\n",
       "  <tbody>\n",
       "    <tr>\n",
       "      <th>0</th>\n",
       "      <td>1</td>\n",
       "      <td>Male</td>\n",
       "      <td>19</td>\n",
       "      <td>15</td>\n",
       "      <td>39</td>\n",
       "    </tr>\n",
       "    <tr>\n",
       "      <th>1</th>\n",
       "      <td>2</td>\n",
       "      <td>Male</td>\n",
       "      <td>21</td>\n",
       "      <td>15</td>\n",
       "      <td>81</td>\n",
       "    </tr>\n",
       "    <tr>\n",
       "      <th>2</th>\n",
       "      <td>3</td>\n",
       "      <td>Female</td>\n",
       "      <td>20</td>\n",
       "      <td>16</td>\n",
       "      <td>6</td>\n",
       "    </tr>\n",
       "    <tr>\n",
       "      <th>3</th>\n",
       "      <td>4</td>\n",
       "      <td>Female</td>\n",
       "      <td>23</td>\n",
       "      <td>16</td>\n",
       "      <td>77</td>\n",
       "    </tr>\n",
       "    <tr>\n",
       "      <th>4</th>\n",
       "      <td>5</td>\n",
       "      <td>Female</td>\n",
       "      <td>31</td>\n",
       "      <td>17</td>\n",
       "      <td>40</td>\n",
       "    </tr>\n",
       "  </tbody>\n",
       "</table>\n",
       "</div>"
      ],
      "text/plain": [
       "   CustomerID  Gender  Age  Annual Income (k$)  Spending Score (1-100)\n",
       "0           1    Male   19                  15                      39\n",
       "1           2    Male   21                  15                      81\n",
       "2           3  Female   20                  16                       6\n",
       "3           4  Female   23                  16                      77\n",
       "4           5  Female   31                  17                      40"
      ]
     },
     "execution_count": 3,
     "metadata": {},
     "output_type": "execute_result"
    }
   ],
   "source": [
    "df.head()"
   ]
  },
  {
   "cell_type": "markdown",
   "metadata": {
    "id": "KNMKCeBk-igI"
   },
   "source": [
    "__Observations:__\n",
    "- Here, you are using customer data from a mall.\n",
    "- You know their gender, age, income, and spending score."
   ]
  },
  {
   "cell_type": "code",
   "execution_count": 4,
   "metadata": {
    "colab": {
     "base_uri": "https://localhost:8080/"
    },
    "id": "7xlZzJ7_BUOE",
    "outputId": "8cb3f623-55ce-45f6-8a19-bbd0702a02b3"
   },
   "outputs": [
    {
     "name": "stdout",
     "output_type": "stream",
     "text": [
      "<class 'pandas.core.frame.DataFrame'>\n",
      "RangeIndex: 200 entries, 0 to 199\n",
      "Data columns (total 5 columns):\n",
      " #   Column                  Non-Null Count  Dtype \n",
      "---  ------                  --------------  ----- \n",
      " 0   CustomerID              200 non-null    int64 \n",
      " 1   Gender                  200 non-null    object\n",
      " 2   Age                     200 non-null    int64 \n",
      " 3   Annual Income (k$)      200 non-null    int64 \n",
      " 4   Spending Score (1-100)  200 non-null    int64 \n",
      "dtypes: int64(4), object(1)\n",
      "memory usage: 7.9+ KB\n"
     ]
    }
   ],
   "source": [
    "df.info()"
   ]
  },
  {
   "cell_type": "markdown",
   "metadata": {
    "id": "oyE6aZsGBfgI"
   },
   "source": [
    "__Observation:__\n",
    "- Here, you can see that there are non-null values or no missing values.\n",
    "\n",
    "\n",
    "- Create a df1."
   ]
  },
  {
   "cell_type": "code",
   "execution_count": 5,
   "metadata": {
    "id": "zc1ikEMn0z87"
   },
   "outputs": [
    {
     "data": {
      "text/html": [
       "<div>\n",
       "<style scoped>\n",
       "    .dataframe tbody tr th:only-of-type {\n",
       "        vertical-align: middle;\n",
       "    }\n",
       "\n",
       "    .dataframe tbody tr th {\n",
       "        vertical-align: top;\n",
       "    }\n",
       "\n",
       "    .dataframe thead th {\n",
       "        text-align: right;\n",
       "    }\n",
       "</style>\n",
       "<table border=\"1\" class=\"dataframe\">\n",
       "  <thead>\n",
       "    <tr style=\"text-align: right;\">\n",
       "      <th></th>\n",
       "      <th>Annual Income (k$)</th>\n",
       "      <th>Spending Score (1-100)</th>\n",
       "    </tr>\n",
       "  </thead>\n",
       "  <tbody>\n",
       "    <tr>\n",
       "      <th>0</th>\n",
       "      <td>15</td>\n",
       "      <td>39</td>\n",
       "    </tr>\n",
       "    <tr>\n",
       "      <th>1</th>\n",
       "      <td>15</td>\n",
       "      <td>81</td>\n",
       "    </tr>\n",
       "    <tr>\n",
       "      <th>2</th>\n",
       "      <td>16</td>\n",
       "      <td>6</td>\n",
       "    </tr>\n",
       "    <tr>\n",
       "      <th>3</th>\n",
       "      <td>16</td>\n",
       "      <td>77</td>\n",
       "    </tr>\n",
       "    <tr>\n",
       "      <th>4</th>\n",
       "      <td>17</td>\n",
       "      <td>40</td>\n",
       "    </tr>\n",
       "  </tbody>\n",
       "</table>\n",
       "</div>"
      ],
      "text/plain": [
       "   Annual Income (k$)  Spending Score (1-100)\n",
       "0                  15                      39\n",
       "1                  15                      81\n",
       "2                  16                       6\n",
       "3                  16                      77\n",
       "4                  17                      40"
      ]
     },
     "execution_count": 5,
     "metadata": {},
     "output_type": "execute_result"
    }
   ],
   "source": [
    "df1 = df.iloc[:, 3:5]\n",
    "df1.head()"
   ]
  },
  {
   "cell_type": "markdown",
   "metadata": {
    "id": "-QrtTwNJDRyl"
   },
   "source": [
    "__Observation:__\n",
    "- Here, you can see the annual income and spending score data."
   ]
  },
  {
   "cell_type": "markdown",
   "metadata": {
    "id": "lcssp-yvecfb"
   },
   "source": [
    "\n",
    "- Import the scipy.cluster.hierarchy library.\n",
    "- Create a dendrogram of the dataset.\n"
   ]
  },
  {
   "cell_type": "code",
   "execution_count": 12,
   "metadata": {
    "colab": {
     "base_uri": "https://localhost:8080/",
     "height": 621
    },
    "id": "nd4U4E3c0z87",
    "outputId": "dc7081a9-9287-42cf-e42b-bf0733e8f68b"
   },
   "outputs": [
    {
     "data": {
      "image/png": "[encoded data removed]",
      "text/plain": [
       "<Figure size 1152x504 with 1 Axes>"
      ]
     },
     "metadata": {
      "needs_background": "light"
     },
     "output_type": "display_data"
    }
   ],
   "source": [
    "import scipy.cluster.hierarchy as shc\n",
    "\n",
    "plt.figure(figsize=(16, 7))\n",
    "plt.title(\"Customer Dendograms\")\n",
    "dend = shc.dendrogram(shc.linkage(df1, method='ward'))\n",
    "plt.xticks(rotation=90)\n",
    "plt.show()"
   ]
  },
  {
   "cell_type": "markdown",
   "metadata": {
    "id": "xSI5XszYDlsM"
   },
   "source": [
    "__Observations:__\n",
    "- Here, you can see the dendrogram for customer data.\n",
    "- There are different clusters that have been created.\n",
    "- Blue represents one cluster; red represents one cluster; and the entire green represents one whole cluster.\n"
   ]
  },
  {
   "cell_type": "markdown",
   "metadata": {
    "id": "eukmb9NYefD0"
   },
   "source": [
    "\n",
    "- Import AgglomerativeClustering from sklearn.cluster.\n",
    "- Fit and predict the clusters using agglomerative clustering.\n",
    "- Display the predicted cluster labels.\n"
   ]
  },
  {
   "cell_type": "code",
   "execution_count": 13,
   "metadata": {
    "colab": {
     "base_uri": "https://localhost:8080/"
    },
    "id": "7R_6iEE80z88",
    "outputId": "e96b097e-1de5-4820-ec54-6295e43a2aee"
   },
   "outputs": [],
   "source": [
    "from sklearn.cluster import AgglomerativeClustering\n",
    "\n",
    "model = AgglomerativeClustering(n_clusters=3, metric='euclidean', linkage='ward')\n",
    "labels_=model.fit_predict(df1)"
   ]
  },
  {
   "cell_type": "code",
   "execution_count": 14,
   "metadata": {
    "colab": {
     "base_uri": "https://localhost:8080/"
    },
    "id": "xMW3-WR30z88",
    "outputId": "cf2bef94-81e9-4c3b-86c8-8b8b4124031c"
   },
   "outputs": [
    {
     "data": {
      "text/plain": [
       "array([0, 0, 0, 0, 0, 0, 0, 0, 0, 0, 0, 0, 0, 0, 0, 0, 0, 0, 0, 0, 0, 0,\n",
       "       0, 0, 0, 0, 0, 0, 0, 0, 0, 0, 0, 0, 0, 0, 0, 0, 0, 0, 0, 0, 0, 0,\n",
       "       0, 0, 0, 0, 0, 0, 0, 0, 0, 0, 0, 0, 0, 0, 0, 0, 0, 0, 0, 0, 0, 0,\n",
       "       0, 0, 0, 0, 0, 0, 0, 0, 0, 0, 0, 0, 0, 0, 0, 0, 0, 0, 0, 0, 0, 0,\n",
       "       0, 0, 0, 0, 0, 0, 0, 0, 0, 0, 0, 0, 0, 0, 0, 0, 0, 0, 0, 0, 0, 0,\n",
       "       0, 0, 0, 0, 0, 0, 0, 0, 0, 0, 0, 0, 0, 2, 0, 2, 0, 2, 1, 2, 1, 2,\n",
       "       0, 2, 1, 2, 1, 2, 1, 2, 1, 2, 0, 2, 1, 2, 0, 2, 1, 2, 1, 2, 1, 2,\n",
       "       1, 2, 1, 2, 1, 2, 0, 2, 1, 2, 1, 2, 1, 2, 1, 2, 1, 2, 1, 2, 1, 2,\n",
       "       1, 2, 1, 2, 1, 2, 1, 2, 1, 2, 1, 2, 1, 2, 1, 2, 1, 2, 1, 2, 1, 2,\n",
       "       1, 2])"
      ]
     },
     "execution_count": 14,
     "metadata": {},
     "output_type": "execute_result"
    }
   ],
   "source": [
    "labels_"
   ]
  },
  {
   "cell_type": "code",
   "execution_count": 17,
   "metadata": {},
   "outputs": [
    {
     "data": {
      "text/html": [
       "<div>\n",
       "<style scoped>\n",
       "    .dataframe tbody tr th:only-of-type {\n",
       "        vertical-align: middle;\n",
       "    }\n",
       "\n",
       "    .dataframe tbody tr th {\n",
       "        vertical-align: top;\n",
       "    }\n",
       "\n",
       "    .dataframe thead th {\n",
       "        text-align: right;\n",
       "    }\n",
       "</style>\n",
       "<table border=\"1\" class=\"dataframe\">\n",
       "  <thead>\n",
       "    <tr style=\"text-align: right;\">\n",
       "      <th></th>\n",
       "      <th>CustomerID</th>\n",
       "      <th>Gender</th>\n",
       "      <th>Age</th>\n",
       "      <th>Annual Income (k$)</th>\n",
       "      <th>Spending Score (1-100)</th>\n",
       "      <th>ClusterNumber</th>\n",
       "    </tr>\n",
       "  </thead>\n",
       "  <tbody>\n",
       "    <tr>\n",
       "      <th>0</th>\n",
       "      <td>1</td>\n",
       "      <td>Male</td>\n",
       "      <td>19</td>\n",
       "      <td>15</td>\n",
       "      <td>39</td>\n",
       "      <td>0</td>\n",
       "    </tr>\n",
       "    <tr>\n",
       "      <th>1</th>\n",
       "      <td>2</td>\n",
       "      <td>Male</td>\n",
       "      <td>21</td>\n",
       "      <td>15</td>\n",
       "      <td>81</td>\n",
       "      <td>0</td>\n",
       "    </tr>\n",
       "    <tr>\n",
       "      <th>2</th>\n",
       "      <td>3</td>\n",
       "      <td>Female</td>\n",
       "      <td>20</td>\n",
       "      <td>16</td>\n",
       "      <td>6</td>\n",
       "      <td>0</td>\n",
       "    </tr>\n",
       "    <tr>\n",
       "      <th>3</th>\n",
       "      <td>4</td>\n",
       "      <td>Female</td>\n",
       "      <td>23</td>\n",
       "      <td>16</td>\n",
       "      <td>77</td>\n",
       "      <td>0</td>\n",
       "    </tr>\n",
       "    <tr>\n",
       "      <th>4</th>\n",
       "      <td>5</td>\n",
       "      <td>Female</td>\n",
       "      <td>31</td>\n",
       "      <td>17</td>\n",
       "      <td>40</td>\n",
       "      <td>0</td>\n",
       "    </tr>\n",
       "    <tr>\n",
       "      <th>...</th>\n",
       "      <td>...</td>\n",
       "      <td>...</td>\n",
       "      <td>...</td>\n",
       "      <td>...</td>\n",
       "      <td>...</td>\n",
       "      <td>...</td>\n",
       "    </tr>\n",
       "    <tr>\n",
       "      <th>195</th>\n",
       "      <td>196</td>\n",
       "      <td>Female</td>\n",
       "      <td>35</td>\n",
       "      <td>120</td>\n",
       "      <td>79</td>\n",
       "      <td>2</td>\n",
       "    </tr>\n",
       "    <tr>\n",
       "      <th>196</th>\n",
       "      <td>197</td>\n",
       "      <td>Female</td>\n",
       "      <td>45</td>\n",
       "      <td>126</td>\n",
       "      <td>28</td>\n",
       "      <td>1</td>\n",
       "    </tr>\n",
       "    <tr>\n",
       "      <th>197</th>\n",
       "      <td>198</td>\n",
       "      <td>Male</td>\n",
       "      <td>32</td>\n",
       "      <td>126</td>\n",
       "      <td>74</td>\n",
       "      <td>2</td>\n",
       "    </tr>\n",
       "    <tr>\n",
       "      <th>198</th>\n",
       "      <td>199</td>\n",
       "      <td>Male</td>\n",
       "      <td>32</td>\n",
       "      <td>137</td>\n",
       "      <td>18</td>\n",
       "      <td>1</td>\n",
       "    </tr>\n",
       "    <tr>\n",
       "      <th>199</th>\n",
       "      <td>200</td>\n",
       "      <td>Male</td>\n",
       "      <td>30</td>\n",
       "      <td>137</td>\n",
       "      <td>83</td>\n",
       "      <td>2</td>\n",
       "    </tr>\n",
       "  </tbody>\n",
       "</table>\n",
       "<p>200 rows × 6 columns</p>\n",
       "</div>"
      ],
      "text/plain": [
       "     CustomerID  Gender  Age  Annual Income (k$)  Spending Score (1-100)  \\\n",
       "0             1    Male   19                  15                      39   \n",
       "1             2    Male   21                  15                      81   \n",
       "2             3  Female   20                  16                       6   \n",
       "3             4  Female   23                  16                      77   \n",
       "4             5  Female   31                  17                      40   \n",
       "..          ...     ...  ...                 ...                     ...   \n",
       "195         196  Female   35                 120                      79   \n",
       "196         197  Female   45                 126                      28   \n",
       "197         198    Male   32                 126                      74   \n",
       "198         199    Male   32                 137                      18   \n",
       "199         200    Male   30                 137                      83   \n",
       "\n",
       "     ClusterNumber  \n",
       "0                0  \n",
       "1                0  \n",
       "2                0  \n",
       "3                0  \n",
       "4                0  \n",
       "..             ...  \n",
       "195              2  \n",
       "196              1  \n",
       "197              2  \n",
       "198              1  \n",
       "199              2  \n",
       "\n",
       "[200 rows x 6 columns]"
      ]
     },
     "execution_count": 17,
     "metadata": {},
     "output_type": "execute_result"
    }
   ],
   "source": [
    "df_new = df.copy()\n",
    "df_new['ClusterNumber']=labels_\n",
    "\n",
    "df_new"
   ]
  },
  {
   "cell_type": "markdown",
   "metadata": {
    "id": "6ocXf_ZEIjvK"
   },
   "source": [
    "__Observation:__\n",
    "- Here, you can see the labels."
   ]
  },
  {
   "cell_type": "markdown",
   "metadata": {
    "id": "VofBoVa1eg_r"
   },
   "source": [
    "- Create a scatter plot of the dataset with colors corresponding to the predicted cluster labels.\n"
   ]
  },
  {
   "cell_type": "code",
   "execution_count": 19,
   "metadata": {
    "colab": {
     "base_uri": "https://localhost:8080/",
     "height": 616
    },
    "id": "DIf3f3rO0z88",
    "outputId": "7bb7761a-bba5-4c9e-901e-cacae319541d"
   },
   "outputs": [
    {
     "ename": "InvalidIndexError",
     "evalue": "(slice(None, None, None), 0)",
     "output_type": "error",
     "traceback": [
      "\u001b[0;31m---------------------------------------------------------------------------\u001b[0m",
      "\u001b[0;31mTypeError\u001b[0m                                 Traceback (most recent call last)",
      "\u001b[0;32m/usr/local/lib/python3.10/site-packages/pandas/core/indexes/base.py\u001b[0m in \u001b[0;36mget_loc\u001b[0;34m(self, key, method, tolerance)\u001b[0m\n\u001b[1;32m   3801\u001b[0m             \u001b[0;32mtry\u001b[0m\u001b[0;34m:\u001b[0m\u001b[0;34m\u001b[0m\u001b[0;34m\u001b[0m\u001b[0m\n\u001b[0;32m-> 3802\u001b[0;31m                 \u001b[0;32mreturn\u001b[0m \u001b[0mself\u001b[0m\u001b[0;34m.\u001b[0m\u001b[0m_engine\u001b[0m\u001b[0;34m.\u001b[0m\u001b[0mget_loc\u001b[0m\u001b[0;34m(\u001b[0m\u001b[0mcasted_key\u001b[0m\u001b[0;34m)\u001b[0m\u001b[0;34m\u001b[0m\u001b[0;34m\u001b[0m\u001b[0m\n\u001b[0m\u001b[1;32m   3803\u001b[0m             \u001b[0;32mexcept\u001b[0m \u001b[0mKeyError\u001b[0m \u001b[0;32mas\u001b[0m \u001b[0merr\u001b[0m\u001b[0;34m:\u001b[0m\u001b[0;34m\u001b[0m\u001b[0;34m\u001b[0m\u001b[0m\n",
      "\u001b[0;32m/usr/local/lib/python3.10/site-packages/pandas/_libs/index.pyx\u001b[0m in \u001b[0;36mpandas._libs.index.IndexEngine.get_loc\u001b[0;34m()\u001b[0m\n",
      "\u001b[0;32m/usr/local/lib/python3.10/site-packages/pandas/_libs/index.pyx\u001b[0m in \u001b[0;36mpandas._libs.index.IndexEngine.get_loc\u001b[0;34m()\u001b[0m\n",
      "\u001b[0;31mTypeError\u001b[0m: '(slice(None, None, None), 0)' is an invalid key",
      "\nDuring handling of the above exception, another exception occurred:\n",
      "\u001b[0;31mInvalidIndexError\u001b[0m                         Traceback (most recent call last)",
      "\u001b[0;32m/tmp/ipykernel_257/2288729207.py\u001b[0m in \u001b[0;36m<cell line: 2>\u001b[0;34m()\u001b[0m\n\u001b[1;32m      1\u001b[0m \u001b[0mplt\u001b[0m\u001b[0;34m.\u001b[0m\u001b[0mfigure\u001b[0m\u001b[0;34m(\u001b[0m\u001b[0mfigsize\u001b[0m\u001b[0;34m=\u001b[0m\u001b[0;34m(\u001b[0m\u001b[0;36m10\u001b[0m\u001b[0;34m,\u001b[0m \u001b[0;36m7\u001b[0m\u001b[0;34m)\u001b[0m\u001b[0;34m)\u001b[0m\u001b[0;34m\u001b[0m\u001b[0;34m\u001b[0m\u001b[0m\n\u001b[0;32m----> 2\u001b[0;31m \u001b[0mplt\u001b[0m\u001b[0;34m.\u001b[0m\u001b[0mscatter\u001b[0m\u001b[0;34m(\u001b[0m\u001b[0mdf1\u001b[0m\u001b[0;34m[\u001b[0m\u001b[0;34m:\u001b[0m\u001b[0;34m,\u001b[0m\u001b[0;36m0\u001b[0m\u001b[0;34m]\u001b[0m\u001b[0;34m,\u001b[0m \u001b[0mdf1\u001b[0m\u001b[0;34m[\u001b[0m\u001b[0;34m:\u001b[0m\u001b[0;34m,\u001b[0m\u001b[0;36m1\u001b[0m\u001b[0;34m]\u001b[0m\u001b[0;34m,\u001b[0m \u001b[0mc\u001b[0m\u001b[0;34m=\u001b[0m\u001b[0mmodel\u001b[0m\u001b[0;34m.\u001b[0m\u001b[0mlabels_\u001b[0m\u001b[0;34m)\u001b[0m\u001b[0;34m\u001b[0m\u001b[0;34m\u001b[0m\u001b[0m\n\u001b[0m",
      "\u001b[0;32m/usr/local/lib/python3.10/site-packages/pandas/core/frame.py\u001b[0m in \u001b[0;36m__getitem__\u001b[0;34m(self, key)\u001b[0m\n\u001b[1;32m   3805\u001b[0m             \u001b[0;32mif\u001b[0m \u001b[0mself\u001b[0m\u001b[0;34m.\u001b[0m\u001b[0mcolumns\u001b[0m\u001b[0;34m.\u001b[0m\u001b[0mnlevels\u001b[0m \u001b[0;34m>\u001b[0m \u001b[0;36m1\u001b[0m\u001b[0;34m:\u001b[0m\u001b[0;34m\u001b[0m\u001b[0;34m\u001b[0m\u001b[0m\n\u001b[1;32m   3806\u001b[0m                 \u001b[0;32mreturn\u001b[0m \u001b[0mself\u001b[0m\u001b[0;34m.\u001b[0m\u001b[0m_getitem_multilevel\u001b[0m\u001b[0;34m(\u001b[0m\u001b[0mkey\u001b[0m\u001b[0;34m)\u001b[0m\u001b[0;34m\u001b[0m\u001b[0;34m\u001b[0m\u001b[0m\n\u001b[0;32m-> 3807\u001b[0;31m             \u001b[0mindexer\u001b[0m \u001b[0;34m=\u001b[0m \u001b[0mself\u001b[0m\u001b[0;34m.\u001b[0m\u001b[0mcolumns\u001b[0m\u001b[0;34m.\u001b[0m\u001b[0mget_loc\u001b[0m\u001b[0;34m(\u001b[0m\u001b[0mkey\u001b[0m\u001b[0;34m)\u001b[0m\u001b[0;34m\u001b[0m\u001b[0;34m\u001b[0m\u001b[0m\n\u001b[0m\u001b[1;32m   3808\u001b[0m             \u001b[0;32mif\u001b[0m \u001b[0mis_integer\u001b[0m\u001b[0;34m(\u001b[0m\u001b[0mindexer\u001b[0m\u001b[0;34m)\u001b[0m\u001b[0;34m:\u001b[0m\u001b[0;34m\u001b[0m\u001b[0;34m\u001b[0m\u001b[0m\n\u001b[1;32m   3809\u001b[0m                 \u001b[0mindexer\u001b[0m \u001b[0;34m=\u001b[0m \u001b[0;34m[\u001b[0m\u001b[0mindexer\u001b[0m\u001b[0;34m]\u001b[0m\u001b[0;34m\u001b[0m\u001b[0;34m\u001b[0m\u001b[0m\n",
      "\u001b[0;32m/usr/local/lib/python3.10/site-packages/pandas/core/indexes/base.py\u001b[0m in \u001b[0;36mget_loc\u001b[0;34m(self, key, method, tolerance)\u001b[0m\n\u001b[1;32m   3807\u001b[0m                 \u001b[0;31m#  InvalidIndexError. Otherwise we fall through and re-raise\u001b[0m\u001b[0;34m\u001b[0m\u001b[0;34m\u001b[0m\u001b[0m\n\u001b[1;32m   3808\u001b[0m                 \u001b[0;31m#  the TypeError.\u001b[0m\u001b[0;34m\u001b[0m\u001b[0;34m\u001b[0m\u001b[0m\n\u001b[0;32m-> 3809\u001b[0;31m                 \u001b[0mself\u001b[0m\u001b[0;34m.\u001b[0m\u001b[0m_check_indexing_error\u001b[0m\u001b[0;34m(\u001b[0m\u001b[0mkey\u001b[0m\u001b[0;34m)\u001b[0m\u001b[0;34m\u001b[0m\u001b[0;34m\u001b[0m\u001b[0m\n\u001b[0m\u001b[1;32m   3810\u001b[0m                 \u001b[0;32mraise\u001b[0m\u001b[0;34m\u001b[0m\u001b[0;34m\u001b[0m\u001b[0m\n\u001b[1;32m   3811\u001b[0m \u001b[0;34m\u001b[0m\u001b[0m\n",
      "\u001b[0;32m/usr/local/lib/python3.10/site-packages/pandas/core/indexes/base.py\u001b[0m in \u001b[0;36m_check_indexing_error\u001b[0;34m(self, key)\u001b[0m\n\u001b[1;32m   5923\u001b[0m             \u001b[0;31m# if key is not a scalar, directly raise an error (the code below\u001b[0m\u001b[0;34m\u001b[0m\u001b[0;34m\u001b[0m\u001b[0m\n\u001b[1;32m   5924\u001b[0m             \u001b[0;31m# would convert to numpy arrays and raise later any way) - GH29926\u001b[0m\u001b[0;34m\u001b[0m\u001b[0;34m\u001b[0m\u001b[0m\n\u001b[0;32m-> 5925\u001b[0;31m             \u001b[0;32mraise\u001b[0m \u001b[0mInvalidIndexError\u001b[0m\u001b[0;34m(\u001b[0m\u001b[0mkey\u001b[0m\u001b[0;34m)\u001b[0m\u001b[0;34m\u001b[0m\u001b[0;34m\u001b[0m\u001b[0m\n\u001b[0m\u001b[1;32m   5926\u001b[0m \u001b[0;34m\u001b[0m\u001b[0m\n\u001b[1;32m   5927\u001b[0m     \u001b[0;34m@\u001b[0m\u001b[0mcache_readonly\u001b[0m\u001b[0;34m\u001b[0m\u001b[0;34m\u001b[0m\u001b[0m\n",
      "\u001b[0;31mInvalidIndexError\u001b[0m: (slice(None, None, None), 0)"
     ]
    },
    {
     "data": {
      "text/plain": [
       "<Figure size 720x504 with 0 Axes>"
      ]
     },
     "metadata": {},
     "output_type": "display_data"
    }
   ],
   "source": [
    "plt.figure(figsize=(10, 7))\n",
    "plt.scatter(df1[:,0], df1[:,1], c=model.labels_)"
   ]
  },
  {
   "cell_type": "markdown",
   "metadata": {
    "id": "5hHiCKeVGH7i"
   },
   "source": [
    "__Observations:__\n",
    "- Within the spread, you can see that five separate clusters have been created, forming the agglomerative cluster of five clusters.\n",
    "-  The cluster is represented by red, green, blue, violet, and yellow.\n"
   ]
  },
  {
   "cell_type": "markdown",
   "metadata": {
    "id": "bAc9vGwKcI9a"
   },
   "source": [
    "##__6. K-Means Clustering__##"
   ]
  },
  {
   "cell_type": "markdown",
   "metadata": {
    "id": "Lg4smuWpcJA-"
   },
   "source": [
    "K-means clustering is an unsupervised machine learning algorithm that partitions data into k clusters by minimizing the within-cluster variance.\n",
    "\n",
    "- It groups unlabeled data into clusters by identifying the k number of centroids.\n",
    "- It assigns every data point to the closest cluster by calculating and using the pairwise Euclidean distance between points.\n"
   ]
  },
  {
   "cell_type": "markdown",
   "metadata": {
    "id": "d5tOVPFGcJQM"
   },
   "source": [
    "Let us understand the workings of a k-means algorithm with the help of a flow chart."
   ]
  },
  {
   "cell_type": "markdown",
   "metadata": {
    "id": "4xEgUr-acJTX"
   },
   "source": [
    "![link text](https://labcontent.simplicdn.net/data-content/content-assets/Data_and_AI/ML/New/Lesson_06_Unsupervised_Learning/kmeans.png)"
   ]
  },
  {
   "cell_type": "markdown",
   "metadata": {
    "id": "CTMjZf65bYIv"
   },
   "source": [
    "![link text](https://labcontent.simplicdn.net/data-content/content-assets/Data_and_AI/ML/New/Lesson_06_Unsupervised_Learning/working_of_kmeans.png)"
   ]
  },
  {
   "cell_type": "markdown",
   "metadata": {
    "id": "0F3ISUjYbYLB"
   },
   "source": [
    "Step 1: Select the number of clusters, k. Take k = 2.\n",
    "\n",
    "Step 2: From the dataset, select k random points as centroids.\n",
    "\n",
    "Step 3: Assign all data points to the nearest available cluster centroid.\n",
    "\n",
    "Step 4: Calculate and place the newly generated centroid of each cluster.\n",
    "\n",
    "Step 5: Reassign each data point to the nearest centroid. If no reassignment occurs, stop; otherwise, return to step 4.\n"
   ]
  },
  {
   "cell_type": "markdown",
   "metadata": {
    "id": "3eHaUFaMiXHv"
   },
   "source": [
    "Now, let's see the implementation of the K-means clustering model."
   ]
  },
  {
   "cell_type": "markdown",
   "metadata": {
    "id": "UeSCLcJcezyU"
   },
   "source": [
    "- Import **pandas, NumPy, matplotlib, and KMeans** from sklearn.\n",
    "- Load the Mall_customers.csv dataset.\n"
   ]
  },
  {
   "cell_type": "code",
   "execution_count": 4,
   "metadata": {
    "id": "-dlx0qFFepNL"
   },
   "outputs": [],
   "source": [
    "import pandas as pd\n",
    "import numpy as np\n",
    "import matplotlib.pyplot as plt\n",
    "%matplotlib inline\n",
    "from sklearn.cluster import KMeans"
   ]
  },
  {
   "cell_type": "code",
   "execution_count": 5,
   "metadata": {
    "id": "_nR-pfjzepNM"
   },
   "outputs": [],
   "source": [
    "df = pd.read_csv('Mall_customers.csv')"
   ]
  },
  {
   "cell_type": "code",
   "execution_count": 12,
   "metadata": {
    "colab": {
     "base_uri": "https://localhost:8080/",
     "height": 206
    },
    "id": "km7OIyVpepNN",
    "outputId": "06c19553-8b00-472e-cf88-6e410df47086"
   },
   "outputs": [
    {
     "data": {
      "text/html": [
       "<div>\n",
       "<style scoped>\n",
       "    .dataframe tbody tr th:only-of-type {\n",
       "        vertical-align: middle;\n",
       "    }\n",
       "\n",
       "    .dataframe tbody tr th {\n",
       "        vertical-align: top;\n",
       "    }\n",
       "\n",
       "    .dataframe thead th {\n",
       "        text-align: right;\n",
       "    }\n",
       "</style>\n",
       "<table border=\"1\" class=\"dataframe\">\n",
       "  <thead>\n",
       "    <tr style=\"text-align: right;\">\n",
       "      <th></th>\n",
       "      <th>CustomerID</th>\n",
       "      <th>Gender</th>\n",
       "      <th>Age</th>\n",
       "      <th>Annual Income (k$)</th>\n",
       "      <th>Spending Score (1-100)</th>\n",
       "    </tr>\n",
       "  </thead>\n",
       "  <tbody>\n",
       "    <tr>\n",
       "      <th>0</th>\n",
       "      <td>1</td>\n",
       "      <td>Male</td>\n",
       "      <td>19</td>\n",
       "      <td>15</td>\n",
       "      <td>39</td>\n",
       "    </tr>\n",
       "    <tr>\n",
       "      <th>1</th>\n",
       "      <td>2</td>\n",
       "      <td>Male</td>\n",
       "      <td>21</td>\n",
       "      <td>15</td>\n",
       "      <td>81</td>\n",
       "    </tr>\n",
       "    <tr>\n",
       "      <th>2</th>\n",
       "      <td>3</td>\n",
       "      <td>Female</td>\n",
       "      <td>20</td>\n",
       "      <td>16</td>\n",
       "      <td>6</td>\n",
       "    </tr>\n",
       "    <tr>\n",
       "      <th>3</th>\n",
       "      <td>4</td>\n",
       "      <td>Female</td>\n",
       "      <td>23</td>\n",
       "      <td>16</td>\n",
       "      <td>77</td>\n",
       "    </tr>\n",
       "    <tr>\n",
       "      <th>4</th>\n",
       "      <td>5</td>\n",
       "      <td>Female</td>\n",
       "      <td>31</td>\n",
       "      <td>17</td>\n",
       "      <td>40</td>\n",
       "    </tr>\n",
       "  </tbody>\n",
       "</table>\n",
       "</div>"
      ],
      "text/plain": [
       "   CustomerID  Gender  Age  Annual Income (k$)  Spending Score (1-100)\n",
       "0           1    Male   19                  15                      39\n",
       "1           2    Male   21                  15                      81\n",
       "2           3  Female   20                  16                       6\n",
       "3           4  Female   23                  16                      77\n",
       "4           5  Female   31                  17                      40"
      ]
     },
     "execution_count": 12,
     "metadata": {},
     "output_type": "execute_result"
    }
   ],
   "source": [
    "df.head()"
   ]
  },
  {
   "cell_type": "markdown",
   "metadata": {
    "id": "sePTD1HdLPhz"
   },
   "source": [
    "__Observation:__\n",
    "- Here, you have the age, gender, income, and spending score of the customers."
   ]
  },
  {
   "cell_type": "markdown",
   "metadata": {
    "id": "7Carn1WSe3My"
   },
   "source": [
    "- Extract the relevant features from the dataset.\n"
   ]
  },
  {
   "cell_type": "code",
   "execution_count": 6,
   "metadata": {
    "id": "VfFJs0OLepNO"
   },
   "outputs": [],
   "source": [
    "X = df.iloc[:, [3, 4]].values"
   ]
  },
  {
   "cell_type": "code",
   "execution_count": 14,
   "metadata": {
    "id": "pL1837JHepNO"
   },
   "outputs": [],
   "source": [
    "from sklearn.cluster import KMeans"
   ]
  },
  {
   "cell_type": "markdown",
   "metadata": {
    "id": "_H7q4mLM0O1F"
   },
   "source": [
    "## Elbow method"
   ]
  },
  {
   "cell_type": "markdown",
   "metadata": {
    "id": "ANiSYGDK0-ny"
   },
   "source": [
    "- The elbow method involves plotting the number of clusters against the distortion or inertia to identify a significant flattening point, known as the elbow point.\n",
    "- The elbow point represents a trade-off between capturing meaningful patterns and avoiding excessive complexity, indicating the optimal number of clusters.\n",
    "- By choosing the value of k at the elbow point, you strike a balance between cluster quality and simplicity, resulting in a reasonable number of clusters."
   ]
  },
  {
   "cell_type": "markdown",
   "metadata": {
    "id": "xsvBC-Tce7ac"
   },
   "source": [
    "\n",
    "- Calculate the WCSS (within-cluster sum of squares) for different numbers of clusters.\n",
    "- Plot the WCSS values to find the optimal number of clusters.\n"
   ]
  },
  {
   "cell_type": "code",
   "execution_count": 15,
   "metadata": {
    "id": "GMG2QpHaepNO",
    "outputId": "1e6cec0e-6824-4e57-9556-b1a5b0af710a"
   },
   "outputs": [
    {
     "data": {
      "image/png": "[encoded data removed]",
      "text/plain": [
       "<Figure size 432x288 with 1 Axes>"
      ]
     },
     "metadata": {
      "needs_background": "light"
     },
     "output_type": "display_data"
    }
   ],
   "source": [
    "wcss = []\n",
    "for i in range(1, 11):\n",
    "    model = KMeans(n_clusters = i, init = 'k-means++', random_state = 42)\n",
    "    model.fit(X)\n",
    "    wcss.append(model.inertia_)\n",
    "plt.plot(range(1, 11), wcss)\n",
    "plt.title('The Elbow Method')\n",
    "plt.xlabel('Number of clusters')\n",
    "plt.ylabel('WCSS')\n",
    "plt.show()"
   ]
  },
  {
   "cell_type": "markdown",
   "metadata": {
    "id": "zRBrF_obfEYw"
   },
   "source": [
    "- Train the K-means model with the optimal number of clusters.\n"
   ]
  },
  {
   "cell_type": "code",
   "execution_count": 16,
   "metadata": {
    "id": "PId_ufOjepNP"
   },
   "outputs": [],
   "source": [
    "model = KMeans(n_clusters = 5, init = 'k-means++', random_state = 42)\n",
    "y_kmeans = model.fit_predict(X)"
   ]
  },
  {
   "cell_type": "markdown",
   "metadata": {
    "id": "p63Bj4qcfLMl"
   },
   "source": [
    "- Plot the clusters and their centroids on a scatter plot.\n",
    "- Assign the color for each point.\n",
    "- Consider the title, xlabel, and ylabel."
   ]
  },
  {
   "cell_type": "code",
   "execution_count": 17,
   "metadata": {
    "id": "2hdhINdXepNQ",
    "outputId": "148967c8-a02e-4eb0-b88b-cf6889492a02"
   },
   "outputs": [
    {
     "data": {
      "image/png": "[encoded data removed]",
      "text/plain": [
       "<Figure size 432x288 with 1 Axes>"
      ]
     },
     "metadata": {
      "needs_background": "light"
     },
     "output_type": "display_data"
    }
   ],
   "source": [
    "plt.scatter(X[y_kmeans == 0, 0], X[y_kmeans == 0, 1], s = 100, c = 'red', label = 'Cluster 1')\n",
    "plt.scatter(X[y_kmeans == 1, 0], X[y_kmeans == 1, 1], s = 100, c = 'blue', label = 'Cluster 2')\n",
    "plt.scatter(X[y_kmeans == 2, 0], X[y_kmeans == 2, 1], s = 100, c = 'green', label = 'Cluster 3')\n",
    "plt.scatter(X[y_kmeans == 3, 0], X[y_kmeans == 3, 1], s = 100, c = 'cyan', label = 'Cluster 4')\n",
    "plt.scatter(X[y_kmeans == 4, 0], X[y_kmeans == 4, 1], s = 100, c = 'magenta', label = 'Cluster 5')\n",
    "plt.scatter(model.cluster_centers_[:, 0], model.cluster_centers_[:, 1], s = 300, c = 'yellow', label = 'Centroids')\n",
    "plt.title('Clusters of customers')\n",
    "plt.xlabel('Annual Income (k$)')\n",
    "plt.ylabel('Spending Score (1-100)')\n",
    "plt.legend()\n",
    "plt.show()"
   ]
  },
  {
   "cell_type": "markdown",
   "metadata": {
    "id": "HgxQDKpQN_35"
   },
   "source": [
    "__Observation:__\n",
    "- K-means clusters with K = 3."
   ]
  },
  {
   "cell_type": "markdown",
   "metadata": {
    "id": "FU0yaPJuiXNj"
   },
   "source": [
    "##__7. K-Medoids Algorithm__##\n"
   ]
  },
  {
   "cell_type": "markdown",
   "metadata": {
    "id": "7jEH1VM4iXQR"
   },
   "source": [
    "The k-medoids algorithm is a clustering method similar to k-means, but it uses the actual data points (medoids) to represent each cluster instead of the mean point of a cluster as a centroid."
   ]
  },
  {
   "cell_type": "markdown",
   "metadata": {
    "id": "5wuRhd0JiXSl"
   },
   "source": [
    "![link text](https://labcontent.simplicdn.net/data-content/content-assets/Data_and_AI/ML/New/Lesson_06_Unsupervised_Learning/kmedoids.png)"
   ]
  },
  {
   "cell_type": "markdown",
   "metadata": {
    "id": "EJVzQmF7iXU9"
   },
   "source": [
    "- The k-medoids algorithm is a classical partitioning technique where a dataset is grouped into k clusters.\n",
    "- k is predefined before executing the algorithm. The value of k can be validated by silhouette methods.\n",
    "- Medoids are representative objects of a dataset or a cluster within a dataset whose sum of dissimilarities to all the objects in the cluster is minimal.\n",
    "- This algorithm is similar to the k-means clustering algorithm and uses the concept of dissimilarity to form clustering groups.\n"
   ]
  },
  {
   "cell_type": "markdown",
   "metadata": {
    "id": "BPxIRjkAiXXj"
   },
   "source": [
    "###__7.1 K-Means vs. K-Medoids__###\n"
   ]
  },
  {
   "cell_type": "markdown",
   "metadata": {
    "id": "5j3cPIO2bYOW"
   },
   "source": [
    "1. K-means attempts to decrease the total squared error, whereas k-medoids decrease the sum of dissimilarities between points designated to be in a cluster.\n",
    "\n",
    "2. Unlike the k-means algorithm, k-medoids use data points as centers.\n",
    "\n",
    "3. K-medoids are flexible and can be used with any similarity measure, whereas k-means may fail to converge.\n",
    "\n",
    "4. K-means must only be used with distances consistent with the mean.\n"
   ]
  },
  {
   "cell_type": "code",
   "execution_count": 2,
   "metadata": {},
   "outputs": [
    {
     "name": "stdout",
     "output_type": "stream",
     "text": [
      "Defaulting to user installation because normal site-packages is not writeable\n",
      "Collecting scikit-learn-extra\n",
      "  Downloading scikit_learn_extra-0.3.0-cp310-cp310-manylinux_2_17_x86_64.manylinux2014_x86_64.whl.metadata (3.6 kB)\n",
      "Requirement already satisfied: numpy>=1.13.3 in /usr/local/lib/python3.10/site-packages (from scikit-learn-extra) (1.23.5)\n",
      "Requirement already satisfied: scipy>=0.19.1 in /usr/local/lib/python3.10/site-packages (from scikit-learn-extra) (1.9.3)\n",
      "Requirement already satisfied: scikit-learn>=0.23.0 in /usr/local/lib/python3.10/site-packages (from scikit-learn-extra) (1.3.1)\n",
      "Requirement already satisfied: joblib>=1.1.1 in /usr/local/lib/python3.10/site-packages (from scikit-learn>=0.23.0->scikit-learn-extra) (1.2.0)\n",
      "Requirement already satisfied: threadpoolctl>=2.0.0 in /usr/local/lib/python3.10/site-packages (from scikit-learn>=0.23.0->scikit-learn-extra) (3.1.0)\n",
      "Downloading scikit_learn_extra-0.3.0-cp310-cp310-manylinux_2_17_x86_64.manylinux2014_x86_64.whl (2.0 MB)\n",
      "\u001b[2K   \u001b[90m━━━━━━━━━━━━━━━━━━━━━━━━━━━━━━━━━━━━━━━━\u001b[0m \u001b[32m2.0/2.0 MB\u001b[0m \u001b[31m12.1 MB/s\u001b[0m eta \u001b[36m0:00:00\u001b[0m00:01\u001b[0m00:01\u001b[0m\n",
      "\u001b[?25hInstalling collected packages: scikit-learn-extra\n",
      "Successfully installed scikit-learn-extra-0.3.0\n",
      "\n",
      "\u001b[1m[\u001b[0m\u001b[34;49mnotice\u001b[0m\u001b[1;39;49m]\u001b[0m\u001b[39;49m A new release of pip is available: \u001b[0m\u001b[31;49m23.3\u001b[0m\u001b[39;49m -> \u001b[0m\u001b[32;49m24.1.1\u001b[0m\n",
      "\u001b[1m[\u001b[0m\u001b[34;49mnotice\u001b[0m\u001b[1;39;49m]\u001b[0m\u001b[39;49m To update, run: \u001b[0m\u001b[32;49mpip install --upgrade pip\u001b[0m\n"
     ]
    }
   ],
   "source": [
    "!pip install scikit-learn-extra"
   ]
  },
  {
   "cell_type": "code",
   "execution_count": 10,
   "metadata": {},
   "outputs": [],
   "source": [
    "from sklearn_extra.cluster import KMedoids\n",
    "\n",
    "km = KMedoids(n_clusters=3)\n",
    "km.fit(X)\n",
    "\n",
    "km.predict(X)\n",
    "\n",
    "from sklearn.metrics import silhouette_score\n",
    "\n",
    "silhouette_score(X,km.predict(X))"
   ]
  },
  {
   "cell_type": "markdown",
   "metadata": {
    "id": "sxe1qeRslrGz"
   },
   "source": [
    "##__8. Outliers__##"
   ]
  },
  {
   "cell_type": "markdown",
   "metadata": {
    "id": "JI7AaQhRlrLU"
   },
   "source": [
    "An outlier is any data point that greatly differs from the other observations in a dataset. Outliers can exist for reasons such as data entry errors or intentional manipulation of information."
   ]
  },
  {
   "cell_type": "markdown",
   "metadata": {
    "id": "4WUzaaqBlrTZ"
   },
   "source": [
    " Example: If a customer's usual transactions were for less than 1,000 but only one transaction of 10,000, it is an outlier."
   ]
  },
  {
   "cell_type": "markdown",
   "metadata": {
    "id": "m0za8oZqlrYD"
   },
   "source": [
    "Outliers are broadly divided into two categories:\n",
    "- Univariate: The data point containing the maximum value in one variable\n",
    "- Multivariate: The combined value of at least two variables\n",
    "\n"
   ]
  },
  {
   "cell_type": "markdown",
   "metadata": {
    "id": "7qaeZjoIlrbj"
   },
   "source": [
    "Detector algorithms recognize outliers in large datasets while graphs like box plots, histograms, and scatter plots detect outliers.\n"
   ]
  },
  {
   "cell_type": "markdown",
   "metadata": {
    "id": "5U-a85FWmGaF"
   },
   "source": [
    "###__8.1 Python Outlier Detection (PyOD)__###\n"
   ]
  },
  {
   "cell_type": "markdown",
   "metadata": {
    "id": "nEED5gZEmGdb"
   },
   "source": [
    "PyOD is a scalable library useful for detecting outliers and works with 20 different algorithms.\n",
    "\n",
    "Advantages of PyOD:\n",
    "\n",
    "It is open-source.\n",
    "\n",
    "It supports advanced models.\n",
    "\n",
    "Its performance is optimized.\n",
    "\n",
    "It is compatible with Python 2 and 3.\n"
   ]
  },
  {
   "cell_type": "markdown",
   "metadata": {
    "id": "AYAPh917mGgQ"
   },
   "source": [
    "####__Outlier Detection Algorithms in PyOD__####\n"
   ]
  },
  {
   "cell_type": "markdown",
   "metadata": {
    "id": "CeDeTZR3mGjV"
   },
   "source": [
    "Some outlier detection algorithms in PyOD are:\n",
    "\n",
    "Angle-based outlier detection (ABOD)\n",
    "\n",
    "Nearest neighbors detector\n",
    "\n",
    "Isolation forest\n",
    "\n",
    "Histogram-based outlier detection\n",
    "\n",
    "Local correlation integral (LOCI)\n",
    "\n",
    "Feature bagging\n",
    "\n",
    "Clustering-based local outlier factor (LOF)\n"
   ]
  },
  {
   "cell_type": "markdown",
   "metadata": {
    "id": "BDGQIsTRmGl8"
   },
   "source": [
    "####__Angle-based Outlier Detection (ABOD)__####"
   ]
  },
  {
   "cell_type": "markdown",
   "metadata": {
    "id": "pgKQB9mIoSvA"
   },
   "source": [
    "It considers the relationship between each data point and its nearest neighbor and performs well on multidimensional data.\n",
    "\n",
    "There are two versions of ABOD:\n",
    "\n",
    " Fast ABOD: Uses nearest neighbors to approximate\n",
    "\n",
    " Original ABOD: Considers all training points with quick complexity\n",
    "\n",
    "\n"
   ]
  },
  {
   "cell_type": "markdown",
   "metadata": {
    "id": "oCFIGfhVoS0O"
   },
   "source": [
    "####__Nearest Neighbor Detector__####\n"
   ]
  },
  {
   "cell_type": "markdown",
   "metadata": {
    "id": "vrepUUCxoS55"
   },
   "source": [
    "The principle behind the nearest neighbor method is to find a predefined number of training samples closest in distance to the new point and predict the label from these."
   ]
  },
  {
   "cell_type": "markdown",
   "metadata": {
    "id": "TbJb_t2UoS-K"
   },
   "source": [
    "![link text](https://labcontent.simplicdn.net/data-content/content-assets/Data_and_AI/ML/New/Lesson_06_Unsupervised_Learning/nearestneighbour_detecter.png)"
   ]
  },
  {
   "cell_type": "markdown",
   "metadata": {
    "id": "bcufAc3VoTDa"
   },
   "source": [
    "####__Isolation Forest__####\n"
   ]
  },
  {
   "cell_type": "markdown",
   "metadata": {
    "id": "uhrpr08loTH1"
   },
   "source": [
    "Isolation forest uses the scikit-learn library. It uses the data partitioning method with a set of trees. It gives an anomaly score to further identify outliers, which indicates how isolated the points are.\n",
    "\n"
   ]
  },
  {
   "cell_type": "markdown",
   "metadata": {
    "id": "OqDM2yoFoTMV"
   },
   "source": [
    "####__Histogram-based Outlier Detection__####\n"
   ]
  },
  {
   "cell_type": "markdown",
   "metadata": {
    "id": "gBte9AKBoTQO"
   },
   "source": [
    "It is the most efficient, unsupervised method to calculate outlier scores. It is faster than multivariate approaches but less precise.\n"
   ]
  },
  {
   "cell_type": "markdown",
   "metadata": {
    "id": "M6Tv64-BoTTU"
   },
   "source": [
    "![link text](https://labcontent.simplicdn.net/data-content/content-assets/Data_and_AI/ML/New/Lesson_06_Unsupervised_Learning/histogram_based_outlier_detection.png)"
   ]
  },
  {
   "cell_type": "markdown",
   "metadata": {
    "id": "F6f0-KMEmGoy"
   },
   "source": [
    "####__Local Correlation Integral (LOCI)__####\n"
   ]
  },
  {
   "cell_type": "markdown",
   "metadata": {
    "id": "AEQmyMRWpsBW"
   },
   "source": [
    "\n",
    "It is effective at detecting outliers and provides a LOCI plot for each point with exhaustive summary information."
   ]
  },
  {
   "cell_type": "markdown",
   "metadata": {
    "id": "BlaZfaCMpsM3"
   },
   "source": [
    "####__Feature Bagging__####\n"
   ]
  },
  {
   "cell_type": "markdown",
   "metadata": {
    "id": "Q2YfecAsqZ5Q"
   },
   "source": [
    "- It fits several base detectors on various subsamples of the dataset.\n",
    "- It uses aggregation or other combination methods for improved prediction accuracy.\n",
    "- It constructs n subsamples by randomly selecting a subset of features.\n",
    "- By default, the base estimator is LOF, although KNN or ABOD may also be used."
   ]
  },
  {
   "cell_type": "markdown",
   "metadata": {
    "id": "a5cIMSikqZ-Z"
   },
   "source": [
    "####__Clustering-based Local Outlier Factor__####\n"
   ]
  },
  {
   "cell_type": "markdown",
   "metadata": {
    "id": "77SIg94bqaCn"
   },
   "source": [
    "It classifies data into small and large clusters. It calculates the anomaly score based on the size of the cluster and the distance to the nearest largest cluster.\n"
   ]
  },
  {
   "cell_type": "markdown",
   "metadata": {
    "id": "-baRtw3ypsRA"
   },
   "source": [
    "Outlier detection is widely used in:\n"
   ]
  },
  {
   "cell_type": "markdown",
   "metadata": {
    "id": "T09NXgblbNFa"
   },
   "source": [
    "Finance fraud detection: Unique or uncommon transactions that are dissimilar from the others make it easy to identify frauds.\n",
    "\n",
    "Candidate selection: PyOD identifies a candidate application different from others to choose the best candidate.\n"
   ]
  },
  {
   "cell_type": "markdown",
   "metadata": {
    "id": "rUHn6UzPbNKt"
   },
   "source": [
    "Now, let's see the implementation of Nearest Neighbor for Anomaly Detection."
   ]
  },
  {
   "cell_type": "markdown",
   "metadata": {
    "id": "w8qWfFkLfp9v"
   },
   "source": [
    "- Import the **pandas, NumPy, matplotlib.pyplot, and sklearn.neighbors** libraries.\n",
    "- Load the **iris** dataset and create a DataFrame with only **sepal_length** and **sepal_width** columns.\n"
   ]
  },
  {
   "cell_type": "code",
   "execution_count": 1,
   "metadata": {
    "id": "zCkCG9bTfVBX"
   },
   "outputs": [],
   "source": [
    "import pandas as pd\n",
    "import numpy as np\n",
    "import matplotlib.pyplot as plt\n",
    "from sklearn.neighbors import NearestNeighbors"
   ]
  },
  {
   "cell_type": "code",
   "execution_count": 32,
   "metadata": {
    "id": "F29t_n3EfVBZ"
   },
   "outputs": [],
   "source": [
    "data = pd.read_csv(\"https://raw.githubusercontent.com/uiuc-cse/data-fa14/gh-pages/data/iris.csv\")"
   ]
  },
  {
   "cell_type": "code",
   "execution_count": 3,
   "metadata": {},
   "outputs": [
    {
     "data": {
      "text/html": [
       "<div>\n",
       "<style scoped>\n",
       "    .dataframe tbody tr th:only-of-type {\n",
       "        vertical-align: middle;\n",
       "    }\n",
       "\n",
       "    .dataframe tbody tr th {\n",
       "        vertical-align: top;\n",
       "    }\n",
       "\n",
       "    .dataframe thead th {\n",
       "        text-align: right;\n",
       "    }\n",
       "</style>\n",
       "<table border=\"1\" class=\"dataframe\">\n",
       "  <thead>\n",
       "    <tr style=\"text-align: right;\">\n",
       "      <th></th>\n",
       "      <th>sepal_length</th>\n",
       "      <th>sepal_width</th>\n",
       "      <th>petal_length</th>\n",
       "      <th>petal_width</th>\n",
       "      <th>species</th>\n",
       "    </tr>\n",
       "  </thead>\n",
       "  <tbody>\n",
       "    <tr>\n",
       "      <th>0</th>\n",
       "      <td>5.1</td>\n",
       "      <td>3.5</td>\n",
       "      <td>1.4</td>\n",
       "      <td>0.2</td>\n",
       "      <td>setosa</td>\n",
       "    </tr>\n",
       "    <tr>\n",
       "      <th>1</th>\n",
       "      <td>4.9</td>\n",
       "      <td>3.0</td>\n",
       "      <td>1.4</td>\n",
       "      <td>0.2</td>\n",
       "      <td>setosa</td>\n",
       "    </tr>\n",
       "  </tbody>\n",
       "</table>\n",
       "</div>"
      ],
      "text/plain": [
       "   sepal_length  sepal_width  petal_length  petal_width species\n",
       "0           5.1          3.5           1.4          0.2  setosa\n",
       "1           4.9          3.0           1.4          0.2  setosa"
      ]
     },
     "execution_count": 3,
     "metadata": {},
     "output_type": "execute_result"
    }
   ],
   "source": [
    "data.head(2)"
   ]
  },
  {
   "cell_type": "code",
   "execution_count": 4,
   "metadata": {
    "id": "F29t_n3EfVBZ"
   },
   "outputs": [],
   "source": [
    "df = data[[\"sepal_length\", \"sepal_width\"]]"
   ]
  },
  {
   "cell_type": "markdown",
   "metadata": {
    "id": "aZ3PJsTXfsgQ"
   },
   "source": [
    "\n",
    "- Create a scatterplot of the input data.\n"
   ]
  },
  {
   "cell_type": "code",
   "execution_count": 5,
   "metadata": {
    "id": "BecpQvSEfVBZ",
    "outputId": "76b6d34f-74b9-4a61-9147-432851ec6a23"
   },
   "outputs": [
    {
     "data": {
      "image/png": "[encoded data removed]",
      "text/plain": [
       "<Figure size 432x288 with 1 Axes>"
      ]
     },
     "metadata": {
      "needs_background": "light"
     },
     "output_type": "display_data"
    }
   ],
   "source": [
    "plt.scatter(df[\"sepal_length\"], df[\"sepal_width\"])\n",
    "plt.show()"
   ]
  },
  {
   "cell_type": "markdown",
   "metadata": {
    "id": "5N8x87NAS_n9"
   },
   "source": [
    "__Observations:__\n",
    "- Here, you can see the scatter plot of sepal length and sepal width.\n",
    "- You may observe some anomalies in the data, so let us try KNN to identify them."
   ]
  },
  {
   "cell_type": "markdown",
   "metadata": {
    "id": "BXvCQM2Qfugi"
   },
   "source": [
    "- Create an array for the input data.\n",
    "- Instantiate the NearestNeighbors model with 3 neighbors.\n",
    "- Fit the model to the input data."
   ]
  },
  {
   "cell_type": "code",
   "execution_count": 6,
   "metadata": {
    "id": "7bEme2H3fVBb"
   },
   "outputs": [],
   "source": [
    "X = df.values"
   ]
  },
  {
   "cell_type": "code",
   "execution_count": 7,
   "metadata": {
    "id": "4A8BNFqFfVBb",
    "outputId": "9ccda250-14e4-43b0-a8c4-1e148e607a5c"
   },
   "outputs": [
    {
     "data": {
      "text/html": [
       "<style>#sk-container-id-1 {color: black;}#sk-container-id-1 pre{padding: 0;}#sk-container-id-1 div.sk-toggleable {background-color: white;}#sk-container-id-1 label.sk-toggleable__label {cursor: pointer;display: block;width: 100%;margin-bottom: 0;padding: 0.3em;box-sizing: border-box;text-align: center;}#sk-container-id-1 label.sk-toggleable__label-arrow:before {content: \"▸\";float: left;margin-right: 0.25em;color: #696969;}#sk-container-id-1 label.sk-toggleable__label-arrow:hover:before {color: black;}#sk-container-id-1 div.sk-estimator:hover label.sk-toggleable__label-arrow:before {color: black;}#sk-container-id-1 div.sk-toggleable__content {max-height: 0;max-width: 0;overflow: hidden;text-align: left;background-color: #f0f8ff;}#sk-container-id-1 div.sk-toggleable__content pre {margin: 0.2em;color: black;border-radius: 0.25em;background-color: #f0f8ff;}#sk-container-id-1 input.sk-toggleable__control:checked~div.sk-toggleable__content {max-height: 200px;max-width: 100%;overflow: auto;}#sk-container-id-1 input.sk-toggleable__control:checked~label.sk-toggleable__label-arrow:before {content: \"▾\";}#sk-container-id-1 div.sk-estimator input.sk-toggleable__control:checked~label.sk-toggleable__label {background-color: #d4ebff;}#sk-container-id-1 div.sk-label input.sk-toggleable__control:checked~label.sk-toggleable__label {background-color: #d4ebff;}#sk-container-id-1 input.sk-hidden--visually {border: 0;clip: rect(1px 1px 1px 1px);clip: rect(1px, 1px, 1px, 1px);height: 1px;margin: -1px;overflow: hidden;padding: 0;position: absolute;width: 1px;}#sk-container-id-1 div.sk-estimator {font-family: monospace;background-color: #f0f8ff;border: 1px dotted black;border-radius: 0.25em;box-sizing: border-box;margin-bottom: 0.5em;}#sk-container-id-1 div.sk-estimator:hover {background-color: #d4ebff;}#sk-container-id-1 div.sk-parallel-item::after {content: \"\";width: 100%;border-bottom: 1px solid gray;flex-grow: 1;}#sk-container-id-1 div.sk-label:hover label.sk-toggleable__label {background-color: #d4ebff;}#sk-container-id-1 div.sk-serial::before {content: \"\";position: absolute;border-left: 1px solid gray;box-sizing: border-box;top: 0;bottom: 0;left: 50%;z-index: 0;}#sk-container-id-1 div.sk-serial {display: flex;flex-direction: column;align-items: center;background-color: white;padding-right: 0.2em;padding-left: 0.2em;position: relative;}#sk-container-id-1 div.sk-item {position: relative;z-index: 1;}#sk-container-id-1 div.sk-parallel {display: flex;align-items: stretch;justify-content: center;background-color: white;position: relative;}#sk-container-id-1 div.sk-item::before, #sk-container-id-1 div.sk-parallel-item::before {content: \"\";position: absolute;border-left: 1px solid gray;box-sizing: border-box;top: 0;bottom: 0;left: 50%;z-index: -1;}#sk-container-id-1 div.sk-parallel-item {display: flex;flex-direction: column;z-index: 1;position: relative;background-color: white;}#sk-container-id-1 div.sk-parallel-item:first-child::after {align-self: flex-end;width: 50%;}#sk-container-id-1 div.sk-parallel-item:last-child::after {align-self: flex-start;width: 50%;}#sk-container-id-1 div.sk-parallel-item:only-child::after {width: 0;}#sk-container-id-1 div.sk-dashed-wrapped {border: 1px dashed gray;margin: 0 0.4em 0.5em 0.4em;box-sizing: border-box;padding-bottom: 0.4em;background-color: white;}#sk-container-id-1 div.sk-label label {font-family: monospace;font-weight: bold;display: inline-block;line-height: 1.2em;}#sk-container-id-1 div.sk-label-container {text-align: center;}#sk-container-id-1 div.sk-container {/* jupyter's `normalize.less` sets `[hidden] { display: none; }` but bootstrap.min.css set `[hidden] { display: none !important; }` so we also need the `!important` here to be able to override the default hidden behavior on the sphinx rendered scikit-learn.org. See: https://github.com/scikit-learn/scikit-learn/issues/21755 */display: inline-block !important;position: relative;}#sk-container-id-1 div.sk-text-repr-fallback {display: none;}</style><div id=\"sk-container-id-1\" class=\"sk-top-container\"><div class=\"sk-text-repr-fallback\"><pre>NearestNeighbors(n_neighbors=3)</pre><b>In a Jupyter environment, please rerun this cell to show the HTML representation or trust the notebook. <br />On GitHub, the HTML representation is unable to render, please try loading this page with nbviewer.org.</b></div><div class=\"sk-container\" hidden><div class=\"sk-item\"><div class=\"sk-estimator sk-toggleable\"><input class=\"sk-toggleable__control sk-hidden--visually\" id=\"sk-estimator-id-1\" type=\"checkbox\" checked><label for=\"sk-estimator-id-1\" class=\"sk-toggleable__label sk-toggleable__label-arrow\">NearestNeighbors</label><div class=\"sk-toggleable__content\"><pre>NearestNeighbors(n_neighbors=3)</pre></div></div></div></div></div>"
      ],
      "text/plain": [
       "NearestNeighbors(n_neighbors=3)"
      ]
     },
     "execution_count": 7,
     "metadata": {},
     "output_type": "execute_result"
    }
   ],
   "source": [
    "nbrs = NearestNeighbors(n_neighbors = 3)\n",
    "nbrs.fit(X)"
   ]
  },
  {
   "cell_type": "markdown",
   "metadata": {
    "id": "LA2O5ocKfww6"
   },
   "source": [
    "- Get the distances and indices of the k-nearest neighbors from the model output.\n",
    "- Calculate the mean of the k-distances for each observation.\n",
    "- Plot the mean distances.\n",
    "- Determine the cutoff value for outliers (e.g., > 0.15).\n"
   ]
  },
  {
   "cell_type": "code",
   "execution_count": 15,
   "metadata": {},
   "outputs": [
    {
     "data": {
      "text/plain": [
       "array([[5.1, 3.5],\n",
       "       [4.9, 3. ],\n",
       "       [4.7, 3.2],\n",
       "       [4.6, 3.1],\n",
       "       [5. , 3.6],\n",
       "       [5.4, 3.9],\n",
       "       [4.6, 3.4],\n",
       "       [5. , 3.4],\n",
       "       [4.4, 2.9],\n",
       "       [4.9, 3.1],\n",
       "       [5.4, 3.7],\n",
       "       [4.8, 3.4],\n",
       "       [4.8, 3. ],\n",
       "       [4.3, 3. ],\n",
       "       [5.8, 4. ],\n",
       "       [5.7, 4.4],\n",
       "       [5.4, 3.9],\n",
       "       [5.1, 3.5],\n",
       "       [5.7, 3.8],\n",
       "       [5.1, 3.8],\n",
       "       [5.4, 3.4],\n",
       "       [5.1, 3.7],\n",
       "       [4.6, 3.6],\n",
       "       [5.1, 3.3],\n",
       "       [4.8, 3.4],\n",
       "       [5. , 3. ],\n",
       "       [5. , 3.4],\n",
       "       [5.2, 3.5],\n",
       "       [5.2, 3.4],\n",
       "       [4.7, 3.2],\n",
       "       [4.8, 3.1],\n",
       "       [5.4, 3.4],\n",
       "       [5.2, 4.1],\n",
       "       [5.5, 4.2],\n",
       "       [4.9, 3.1],\n",
       "       [5. , 3.2],\n",
       "       [5.5, 3.5],\n",
       "       [4.9, 3.1],\n",
       "       [4.4, 3. ],\n",
       "       [5.1, 3.4],\n",
       "       [5. , 3.5],\n",
       "       [4.5, 2.3],\n",
       "       [4.4, 3.2],\n",
       "       [5. , 3.5],\n",
       "       [5.1, 3.8],\n",
       "       [4.8, 3. ],\n",
       "       [5.1, 3.8],\n",
       "       [4.6, 3.2],\n",
       "       [5.3, 3.7],\n",
       "       [5. , 3.3],\n",
       "       [7. , 3.2],\n",
       "       [6.4, 3.2],\n",
       "       [6.9, 3.1],\n",
       "       [5.5, 2.3],\n",
       "       [6.5, 2.8],\n",
       "       [5.7, 2.8],\n",
       "       [6.3, 3.3],\n",
       "       [4.9, 2.4],\n",
       "       [6.6, 2.9],\n",
       "       [5.2, 2.7],\n",
       "       [5. , 2. ],\n",
       "       [5.9, 3. ],\n",
       "       [6. , 2.2],\n",
       "       [6.1, 2.9],\n",
       "       [5.6, 2.9],\n",
       "       [6.7, 3.1],\n",
       "       [5.6, 3. ],\n",
       "       [5.8, 2.7],\n",
       "       [6.2, 2.2],\n",
       "       [5.6, 2.5],\n",
       "       [5.9, 3.2],\n",
       "       [6.1, 2.8],\n",
       "       [6.3, 2.5],\n",
       "       [6.1, 2.8],\n",
       "       [6.4, 2.9],\n",
       "       [6.6, 3. ],\n",
       "       [6.8, 2.8],\n",
       "       [6.7, 3. ],\n",
       "       [6. , 2.9],\n",
       "       [5.7, 2.6],\n",
       "       [5.5, 2.4],\n",
       "       [5.5, 2.4],\n",
       "       [5.8, 2.7],\n",
       "       [6. , 2.7],\n",
       "       [5.4, 3. ],\n",
       "       [6. , 3.4],\n",
       "       [6.7, 3.1],\n",
       "       [6.3, 2.3],\n",
       "       [5.6, 3. ],\n",
       "       [5.5, 2.5],\n",
       "       [5.5, 2.6],\n",
       "       [6.1, 3. ],\n",
       "       [5.8, 2.6],\n",
       "       [5. , 2.3],\n",
       "       [5.6, 2.7],\n",
       "       [5.7, 3. ],\n",
       "       [5.7, 2.9],\n",
       "       [6.2, 2.9],\n",
       "       [5.1, 2.5],\n",
       "       [5.7, 2.8],\n",
       "       [6.3, 3.3],\n",
       "       [5.8, 2.7],\n",
       "       [7.1, 3. ],\n",
       "       [6.3, 2.9],\n",
       "       [6.5, 3. ],\n",
       "       [7.6, 3. ],\n",
       "       [4.9, 2.5],\n",
       "       [7.3, 2.9],\n",
       "       [6.7, 2.5],\n",
       "       [7.2, 3.6],\n",
       "       [6.5, 3.2],\n",
       "       [6.4, 2.7],\n",
       "       [6.8, 3. ],\n",
       "       [5.7, 2.5],\n",
       "       [5.8, 2.8],\n",
       "       [6.4, 3.2],\n",
       "       [6.5, 3. ],\n",
       "       [7.7, 3.8],\n",
       "       [7.7, 2.6],\n",
       "       [6. , 2.2],\n",
       "       [6.9, 3.2],\n",
       "       [5.6, 2.8],\n",
       "       [7.7, 2.8],\n",
       "       [6.3, 2.7],\n",
       "       [6.7, 3.3],\n",
       "       [7.2, 3.2],\n",
       "       [6.2, 2.8],\n",
       "       [6.1, 3. ],\n",
       "       [6.4, 2.8],\n",
       "       [7.2, 3. ],\n",
       "       [7.4, 2.8],\n",
       "       [7.9, 3.8],\n",
       "       [6.4, 2.8],\n",
       "       [6.3, 2.8],\n",
       "       [6.1, 2.6],\n",
       "       [7.7, 3. ],\n",
       "       [6.3, 3.4],\n",
       "       [6.4, 3.1],\n",
       "       [6. , 3. ],\n",
       "       [6.9, 3.1],\n",
       "       [6.7, 3.1],\n",
       "       [6.9, 3.1],\n",
       "       [5.8, 2.7],\n",
       "       [6.8, 3.2],\n",
       "       [6.7, 3.3],\n",
       "       [6.7, 3. ],\n",
       "       [6.3, 2.5],\n",
       "       [6.5, 3. ],\n",
       "       [6.2, 3.4],\n",
       "       [5.9, 3. ]])"
      ]
     },
     "execution_count": 15,
     "metadata": {},
     "output_type": "execute_result"
    }
   ],
   "source": [
    "X"
   ]
  },
  {
   "cell_type": "code",
   "execution_count": 8,
   "metadata": {
    "id": "QMwPTbfffVBb",
    "outputId": "d09ca294-4759-4474-fa68-593123b88348"
   },
   "outputs": [],
   "source": [
    "distances, indexes = nbrs.kneighbors(X)"
   ]
  },
  {
   "cell_type": "code",
   "execution_count": 12,
   "metadata": {
    "id": "QMwPTbfffVBb",
    "outputId": "d09ca294-4759-4474-fa68-593123b88348"
   },
   "outputs": [
    {
     "data": {
      "image/png": "[encoded data removed]",
      "text/plain": [
       "<Figure size 432x288 with 1 Axes>"
      ]
     },
     "metadata": {
      "needs_background": "light"
     },
     "output_type": "display_data"
    }
   ],
   "source": [
    "plt.plot(distances.mean(axis =1))\n",
    "plt.show()"
   ]
  },
  {
   "cell_type": "markdown",
   "metadata": {
    "id": "j80fNmWHTtDB"
   },
   "source": [
    "__Observations:__\n",
    "- Here, you can see the mean distance from the k-neighbors.\n",
    "- The point above 0.15 is considered an anomaly.\n"
   ]
  },
  {
   "cell_type": "code",
   "execution_count": 18,
   "metadata": {
    "id": "TUDrQhaOfVBc",
    "outputId": "cf1418ff-aa47-4a46-b32e-d70c5f79c901"
   },
   "outputs": [
    {
     "data": {
      "text/plain": [
       "(array([ 14,  15,  18,  22,  32,  33,  41,  59,  60, 108, 109, 117, 118,\n",
       "        131]),)"
      ]
     },
     "execution_count": 18,
     "metadata": {},
     "output_type": "execute_result"
    }
   ],
   "source": [
    "outlier_index = np.where(distances.mean(axis = 1) > 0.15)\n",
    "outlier_index"
   ]
  },
  {
   "cell_type": "markdown",
   "metadata": {
    "id": "TJGF8anaUabu"
   },
   "source": [
    "__Observation:__\n",
    "- These are the arrays that have anomalies."
   ]
  },
  {
   "cell_type": "markdown",
   "metadata": {
    "id": "VisdXy-Xf24T"
   },
   "source": [
    "- Filter the outlier values from the original data.\n",
    "- Plot the original data and the outlier values in different colors.\n"
   ]
  },
  {
   "cell_type": "code",
   "execution_count": 19,
   "metadata": {
    "id": "TqCes1iHfVBc",
    "outputId": "31a0a2d4-d86c-4894-98f0-fab2bfb19f90"
   },
   "outputs": [
    {
     "data": {
      "text/html": [
       "<div>\n",
       "<style scoped>\n",
       "    .dataframe tbody tr th:only-of-type {\n",
       "        vertical-align: middle;\n",
       "    }\n",
       "\n",
       "    .dataframe tbody tr th {\n",
       "        vertical-align: top;\n",
       "    }\n",
       "\n",
       "    .dataframe thead th {\n",
       "        text-align: right;\n",
       "    }\n",
       "</style>\n",
       "<table border=\"1\" class=\"dataframe\">\n",
       "  <thead>\n",
       "    <tr style=\"text-align: right;\">\n",
       "      <th></th>\n",
       "      <th>sepal_length</th>\n",
       "      <th>sepal_width</th>\n",
       "      <th>petal_length</th>\n",
       "      <th>petal_width</th>\n",
       "      <th>species</th>\n",
       "    </tr>\n",
       "  </thead>\n",
       "  <tbody>\n",
       "    <tr>\n",
       "      <th>14</th>\n",
       "      <td>5.8</td>\n",
       "      <td>4.0</td>\n",
       "      <td>1.2</td>\n",
       "      <td>0.2</td>\n",
       "      <td>setosa</td>\n",
       "    </tr>\n",
       "    <tr>\n",
       "      <th>15</th>\n",
       "      <td>5.7</td>\n",
       "      <td>4.4</td>\n",
       "      <td>1.5</td>\n",
       "      <td>0.4</td>\n",
       "      <td>setosa</td>\n",
       "    </tr>\n",
       "    <tr>\n",
       "      <th>18</th>\n",
       "      <td>5.7</td>\n",
       "      <td>3.8</td>\n",
       "      <td>1.7</td>\n",
       "      <td>0.3</td>\n",
       "      <td>setosa</td>\n",
       "    </tr>\n",
       "    <tr>\n",
       "      <th>22</th>\n",
       "      <td>4.6</td>\n",
       "      <td>3.6</td>\n",
       "      <td>1.0</td>\n",
       "      <td>0.2</td>\n",
       "      <td>setosa</td>\n",
       "    </tr>\n",
       "    <tr>\n",
       "      <th>32</th>\n",
       "      <td>5.2</td>\n",
       "      <td>4.1</td>\n",
       "      <td>1.5</td>\n",
       "      <td>0.1</td>\n",
       "      <td>setosa</td>\n",
       "    </tr>\n",
       "    <tr>\n",
       "      <th>33</th>\n",
       "      <td>5.5</td>\n",
       "      <td>4.2</td>\n",
       "      <td>1.4</td>\n",
       "      <td>0.2</td>\n",
       "      <td>setosa</td>\n",
       "    </tr>\n",
       "    <tr>\n",
       "      <th>41</th>\n",
       "      <td>4.5</td>\n",
       "      <td>2.3</td>\n",
       "      <td>1.3</td>\n",
       "      <td>0.3</td>\n",
       "      <td>setosa</td>\n",
       "    </tr>\n",
       "    <tr>\n",
       "      <th>59</th>\n",
       "      <td>5.2</td>\n",
       "      <td>2.7</td>\n",
       "      <td>3.9</td>\n",
       "      <td>1.4</td>\n",
       "      <td>versicolor</td>\n",
       "    </tr>\n",
       "    <tr>\n",
       "      <th>60</th>\n",
       "      <td>5.0</td>\n",
       "      <td>2.0</td>\n",
       "      <td>3.5</td>\n",
       "      <td>1.0</td>\n",
       "      <td>versicolor</td>\n",
       "    </tr>\n",
       "    <tr>\n",
       "      <th>108</th>\n",
       "      <td>6.7</td>\n",
       "      <td>2.5</td>\n",
       "      <td>5.8</td>\n",
       "      <td>1.8</td>\n",
       "      <td>virginica</td>\n",
       "    </tr>\n",
       "    <tr>\n",
       "      <th>109</th>\n",
       "      <td>7.2</td>\n",
       "      <td>3.6</td>\n",
       "      <td>6.1</td>\n",
       "      <td>2.5</td>\n",
       "      <td>virginica</td>\n",
       "    </tr>\n",
       "    <tr>\n",
       "      <th>117</th>\n",
       "      <td>7.7</td>\n",
       "      <td>3.8</td>\n",
       "      <td>6.7</td>\n",
       "      <td>2.2</td>\n",
       "      <td>virginica</td>\n",
       "    </tr>\n",
       "    <tr>\n",
       "      <th>118</th>\n",
       "      <td>7.7</td>\n",
       "      <td>2.6</td>\n",
       "      <td>6.9</td>\n",
       "      <td>2.3</td>\n",
       "      <td>virginica</td>\n",
       "    </tr>\n",
       "    <tr>\n",
       "      <th>131</th>\n",
       "      <td>7.9</td>\n",
       "      <td>3.8</td>\n",
       "      <td>6.4</td>\n",
       "      <td>2.0</td>\n",
       "      <td>virginica</td>\n",
       "    </tr>\n",
       "  </tbody>\n",
       "</table>\n",
       "</div>"
      ],
      "text/plain": [
       "     sepal_length  sepal_width  petal_length  petal_width     species\n",
       "14            5.8          4.0           1.2          0.2      setosa\n",
       "15            5.7          4.4           1.5          0.4      setosa\n",
       "18            5.7          3.8           1.7          0.3      setosa\n",
       "22            4.6          3.6           1.0          0.2      setosa\n",
       "32            5.2          4.1           1.5          0.1      setosa\n",
       "33            5.5          4.2           1.4          0.2      setosa\n",
       "41            4.5          2.3           1.3          0.3      setosa\n",
       "59            5.2          2.7           3.9          1.4  versicolor\n",
       "60            5.0          2.0           3.5          1.0  versicolor\n",
       "108           6.7          2.5           5.8          1.8   virginica\n",
       "109           7.2          3.6           6.1          2.5   virginica\n",
       "117           7.7          3.8           6.7          2.2   virginica\n",
       "118           7.7          2.6           6.9          2.3   virginica\n",
       "131           7.9          3.8           6.4          2.0   virginica"
      ]
     },
     "execution_count": 19,
     "metadata": {},
     "output_type": "execute_result"
    }
   ],
   "source": [
    "outlier_values = data.iloc[outlier_index]\n",
    "outlier_values"
   ]
  },
  {
   "cell_type": "markdown",
   "metadata": {
    "id": "bg2XM_GBU8P7"
   },
   "source": [
    "__Observation:__\n",
    "- These values represent outliers within the arrays containing anomalies."
   ]
  },
  {
   "cell_type": "code",
   "execution_count": 20,
   "metadata": {
    "id": "6C1dB8XAfVBc",
    "outputId": "daf9a46a-9161-44b4-bbf3-d715e26270ae"
   },
   "outputs": [
    {
     "data": {
      "text/plain": [
       "<matplotlib.collections.PathCollection at 0x7f098c664df0>"
      ]
     },
     "execution_count": 20,
     "metadata": {},
     "output_type": "execute_result"
    },
    {
     "data": {
      "image/png": "[encoded data removed]",
      "text/plain": [
       "<Figure size 432x288 with 1 Axes>"
      ]
     },
     "metadata": {
      "needs_background": "light"
     },
     "output_type": "display_data"
    }
   ],
   "source": [
    "plt.scatter(df[\"sepal_length\"], df[\"sepal_width\"], color = \"b\", s = 65)\n",
    "plt.scatter(outlier_values[\"sepal_length\"], outlier_values[\"sepal_width\"], color = \"r\")"
   ]
  },
  {
   "cell_type": "markdown",
   "metadata": {
    "id": "ndpYLCgRVSZh"
   },
   "source": [
    "__Observations:__\n",
    "- Here, you can see the anomalies using the k-nearest neighbor.\n",
    "- The anomalies are highlighted in the scatter plot in red.\n",
    "\n"
   ]
  },
  {
   "cell_type": "markdown",
   "metadata": {},
   "source": [
    "# Isolation Forest"
   ]
  },
  {
   "cell_type": "code",
   "execution_count": 33,
   "metadata": {},
   "outputs": [
    {
     "data": {
      "image/png": "[encoded data removed]",
      "text/plain": [
       "<Figure size 771.75x720 with 20 Axes>"
      ]
     },
     "metadata": {
      "needs_background": "light"
     },
     "output_type": "display_data"
    }
   ],
   "source": [
    "from sklearn.ensemble import IsolationForest\n",
    "X = data.iloc[:,0:-1]\n",
    "y = data[\"species\"]\n",
    "\n",
    "iso_f = IsolationForest()\n",
    "\n",
    "iso_f.fit(X)\n",
    "\n",
    "data[\"Anomaly\"]=iso_f.predict(X)\n",
    "\n",
    "import seaborn as sns\n",
    "\n",
    "sns.pairplot(data,hue=\"Anomaly\",palette=['red','green'])\n",
    "plt.show()"
   ]
  },
  {
   "cell_type": "code",
   "execution_count": null,
   "metadata": {},
   "outputs": [],
   "source": []
  },
  {
   "cell_type": "markdown",
   "metadata": {
    "id": "DYqdtigReDqu"
   },
   "source": [
    "##__Conclusion__##"
   ]
  },
  {
   "cell_type": "markdown",
   "metadata": {
    "id": "JWkonM6beD5e"
   },
   "source": [
    "Unsupervised learning serves as a powerful tool in the realm of machine learning, enabling the exploration and understanding of data without the need for labeled examples. Throughout this lesson, you have delved into various unsupervised learning techniques such as clustering and association, witnessing their ability to uncover hidden patterns, structures, and insights within datasets across diverse domains. From customer segmentation in marketing to anomaly detection in cybersecurity, the applications of unsupervised learning are vast and impactful."
   ]
  },
  {
   "cell_type": "code",
   "execution_count": null,
   "metadata": {
    "id": "O9Hi32LzABTV"
   },
   "outputs": [],
   "source": []
  }
 ],
 "metadata": {
  "colab": {
   "provenance": []
  },
  "kernelspec": {
   "display_name": "Python 3 [3.10]",
   "language": "python",
   "name": "python3"
  },
  "language_info": {
   "codemirror_mode": {
    "name": "ipython",
    "version": 3
   },
   "file_extension": ".py",
   "mimetype": "text/x-python",
   "name": "python",
   "nbconvert_exporter": "python",
   "pygments_lexer": "ipython3",
   "version": "3.10.2"
  }
 },
 "nbformat": 4,
 "nbformat_minor": 4
}

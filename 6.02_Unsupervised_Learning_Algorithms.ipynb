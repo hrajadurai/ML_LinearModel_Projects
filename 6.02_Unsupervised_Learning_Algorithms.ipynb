{
 "cells": [
  {
   "cell_type": "markdown",
   "metadata": {
    "id": "Pb6I_By0O6YH"
   },
   "source": [
    "#__Unsupervised Learning__#"
   ]
  },
  {
   "cell_type": "markdown",
   "metadata": {
    "id": "5FQlLi-aO8ID"
   },
   "source": [
    "##__Agenda__##"
   ]
  },
  {
   "cell_type": "markdown",
   "metadata": {
    "id": "0szkZQgrO8K5"
   },
   "source": [
    "- Unsupervised Learning\n",
    "- Principal Component Analysis\n",
    "- DBSCAN\n",
    "- Correspondence Analysis\n",
    "- Singular Value Decomposition\n",
    "- Independent Component Analysis\n",
    "- Balanced Iterative Reducing and Clustering Using Hierarchies (BIRCH)"
   ]
  },
  {
   "cell_type": "markdown",
   "metadata": {
    "id": "deuIc1CRO8OB"
   },
   "source": [
    "##__1. Unsupervised Learning__##"
   ]
  },
  {
   "cell_type": "markdown",
   "metadata": {
    "id": "G-jwE0dzPGbf"
   },
   "source": [
    "Unsupervised learning involves training algorithms on unlabeled data to autonomously uncover patterns and structures without explicit guidance."
   ]
  },
  {
   "cell_type": "markdown",
   "metadata": {
    "id": "PEMVmLvxPGei"
   },
   "source": [
    "Unlike supervised learning, where the algorithm learns from labeled data, unsupervised learning works with unlabeled data. Without specific outputs to guide the learning process, unsupervised learning algorithms explore the data, look for patterns, and try to learn the underlying structure present in the dataset."
   ]
  },
  {
   "cell_type": "markdown",
   "metadata": {
    "id": "IHjO4zr6PGiE"
   },
   "source": [
    "Common techniques used in unsupervised learning include clustering, dimensionality reduction, and association rule learning."
   ]
  },
  {
   "cell_type": "markdown",
   "metadata": {
    "id": "p7fH2SFnPGuN"
   },
   "source": [
    "##__2. Principal Component Analysis (PCA)__##\n"
   ]
  },
  {
   "cell_type": "markdown",
   "metadata": {
    "id": "0Re4q1VaPGxq"
   },
   "source": [
    "Principal Component Analysis (PCA) is a statistical technique for dimensionality reduction in data analysis. It simplifies the complexity of high-dimensional data while preserving trends and patterns."
   ]
  },
  {
   "cell_type": "markdown",
   "metadata": {
    "id": "Lp-hG7lvVGFy"
   },
   "source": [
    "Real-world problems typically deal with datasets that have a huge number of features.\n"
   ]
  },
  {
   "cell_type": "markdown",
   "metadata": {
    "id": "Io6eL3GBVGJL"
   },
   "source": [
    "Example: High-resolution images that need classification or power allocation exercises across multiple communication channels that have high dimensionality. Dealing with such datasets demands increased computational power and more complex algorithms, which may lead to overfitting.\n",
    "\n"
   ]
  },
  {
   "cell_type": "markdown",
   "metadata": {
    "id": "_rTqSrfbVGbS"
   },
   "source": [
    "Principal Component Analysis (PCA) is an unsupervised learning technique used to preprocess datasets and reduce their dimensionality while preserving the original dataset."
   ]
  },
  {
   "cell_type": "markdown",
   "metadata": {
    "id": "xUzn0ThyVGht"
   },
   "source": [
    "###__2.1 Common Terms in PCA__###"
   ]
  },
  {
   "cell_type": "markdown",
   "metadata": {
    "id": "XjzILGQBVG7Q"
   },
   "source": [
    "- Dimensionality: It is the number of features present in the data.\n",
    "\n",
    "- Correlation: It indicates the strength of the relationship between features. The correlation value ranges between -1 and +1. It is -1 when variables are inversely proportional and +1 when they are directly proportional.\n",
    "\n",
    "- Orthogonality: It is used when variables are not correlated.\n",
    "\n",
    "- Eigenvector: It is given a square matrix (m) and a nonzero vector (v), and v is the eigenvector if Av is a scalar multiple of v.\n",
    "\n",
    "- Covariance Matrix: it is a matrix containing the covariance between variables.\n",
    "\n",
    "\n",
    "\n",
    "\n",
    "\n",
    "\n",
    "\n",
    "\n",
    "\n",
    "\n",
    "\n"
   ]
  },
  {
   "cell_type": "markdown",
   "metadata": {
    "id": "kp2ckv2XVHSf"
   },
   "source": [
    "###__2.2 Steps of PCA__###"
   ]
  },
  {
   "cell_type": "markdown",
   "metadata": {
    "id": "0Zx95Sl-VHj3"
   },
   "source": [
    "1. Standardization\n",
    "2. Covariance and matrix computation\n",
    "3. Identifying the principal components\n",
    "4. Feature vector\n",
    "5. Recasting data along the principal component axes\n",
    "\n"
   ]
  },
  {
   "cell_type": "markdown",
   "metadata": {
    "id": "pb3GYt58VHmv"
   },
   "source": [
    "###__Standardization__###\n"
   ]
  },
  {
   "cell_type": "markdown",
   "metadata": {
    "id": "mLKmpnQyczPm"
   },
   "source": [
    "Standardization ensures that the range of variables is standardized so that each variable contributes equally.\n"
   ]
  },
  {
   "cell_type": "markdown",
   "metadata": {
    "id": "LXZsaK5GpB8O"
   },
   "source": [
    "Standardization transforms data by rescaling it to have a mean of 0 and a standard deviation of 1, ensuring consistent ranges and making it more suitable for comparison and analysis across different variables."
   ]
  },
  {
   "cell_type": "markdown",
   "metadata": {
    "id": "kLnXuZdlczSZ"
   },
   "source": [
    "![link text](https://labcontent.simplicdn.net/data-content/content-assets/Data_and_AI/ML/New/Lesson_06_Unsupervised_Learning/standadization.png)"
   ]
  },
  {
   "cell_type": "markdown",
   "metadata": {
    "id": "pzN6ct4HczVX"
   },
   "source": [
    "This normalization process mitigates the dominance of variables with larger ranges over those with smaller values.\n"
   ]
  },
  {
   "cell_type": "markdown",
   "metadata": {
    "id": "25iZJGSSczX0"
   },
   "source": [
    "###__Covariance Matrix Computation__###\n"
   ]
  },
  {
   "cell_type": "markdown",
   "metadata": {
    "id": "hb75rtQLczad"
   },
   "source": [
    "It helps to check the correlation between features in a dataset.\n",
    "\n",
    "Types of covariance:\n",
    "\n",
    "Positive covariance indicates a direct correlation.\n",
    "\n",
    "Negative covariance indicates an inverse correlation.\n",
    "\n"
   ]
  },
  {
   "cell_type": "markdown",
   "metadata": {
    "id": "yNL1FtL5czc3"
   },
   "source": [
    "The covariance matrix provides a summary of the relationships (correlations) between variables in a tabular representation."
   ]
  },
  {
   "cell_type": "markdown",
   "metadata": {
    "id": "k7pySKLzczib"
   },
   "source": [
    "![link text](https://labcontent.simplicdn.net/data-content/content-assets/Data_and_AI/ML/New/Lesson_06_Unsupervised_Learning/covariance.png)"
   ]
  },
  {
   "cell_type": "markdown",
   "metadata": {
    "id": "Yk0z8OVyczlh"
   },
   "source": [
    "###__Identifying Principal Components__###"
   ]
  },
  {
   "cell_type": "markdown",
   "metadata": {
    "id": "_sQrR6ypczpy"
   },
   "source": [
    "In this step, the new non-correlated variables constructed by compressing features are identified.\n"
   ]
  },
  {
   "cell_type": "markdown",
   "metadata": {
    "id": "a65VXJcj6xOk"
   },
   "source": [
    "![link text](https://labcontent.simplicdn.net/data-content/content-assets/Data_and_AI/ML/New/Lesson_06_Unsupervised_Learning/identifying_principal_components.png)"
   ]
  },
  {
   "cell_type": "markdown",
   "metadata": {
    "id": "gigtORTp6xSF"
   },
   "source": [
    "###__Feature Vector__###"
   ]
  },
  {
   "cell_type": "markdown",
   "metadata": {
    "id": "GBtLXHKY6yIA"
   },
   "source": [
    "This is also the first dimensionality reduction step.\n"
   ]
  },
  {
   "cell_type": "markdown",
   "metadata": {
    "id": "-Gnuab8GczsU"
   },
   "source": [
    "![link text](https://labcontent.simplicdn.net/data-content/content-assets/Data_and_AI/ML/New/Lesson_06_Unsupervised_Learning/feature_vector.png)"
   ]
  },
  {
   "cell_type": "markdown",
   "metadata": {
    "id": "nCwSmS3hczv8"
   },
   "source": [
    "This step helps determine whether the previously identified PCA features need to be retained or discarded.\n"
   ]
  },
  {
   "cell_type": "markdown",
   "metadata": {
    "id": "SY27VyglVHqI"
   },
   "source": [
    "###__Recasting Data Along Principal Component Axes__###\n"
   ]
  },
  {
   "cell_type": "markdown",
   "metadata": {
    "id": "CGN42_OU9aSW"
   },
   "source": [
    "The data is reoriented from its original axes to new axes represented by the identified principal components."
   ]
  },
  {
   "cell_type": "markdown",
   "metadata": {
    "id": "F4-mBh7X9aXb"
   },
   "source": [
    "![link text](https://labcontent.simplicdn.net/data-content/content-assets/Data_and_AI/ML/New/Lesson_06_Unsupervised_Learning/finaldataset.png)"
   ]
  },
  {
   "cell_type": "markdown",
   "metadata": {
    "id": "95xMuwT99acb"
   },
   "source": [
    "This is done by multiplying the transpose of the feature vector by the transpose of the original dataset.\n"
   ]
  },
  {
   "cell_type": "markdown",
   "metadata": {
    "id": "YV08LPCP9aes"
   },
   "source": [
    "###__2.3 Uses of PCA__###"
   ]
  },
  {
   "cell_type": "markdown",
   "metadata": {
    "id": "qT3ZIIMi9aiG"
   },
   "source": [
    "PCA compresses information into a smaller set with new dimensions.\n"
   ]
  },
  {
   "cell_type": "markdown",
   "metadata": {
    "id": "gpg7zSvn95Yx"
   },
   "source": [
    "- In neuroscience, it identifies the action potential of neurons by their shape.\n",
    "- In quantitative finance, it reduces the complexity of stock analysis.\n"
   ]
  },
  {
   "cell_type": "markdown",
   "metadata": {
    "id": "KWkdaXbb95bV"
   },
   "source": [
    "Let's implement PCA."
   ]
  },
  {
   "cell_type": "markdown",
   "metadata": {
    "id": "3nsXUpebgSAV"
   },
   "source": [
    "- Import the **matplotlib.pyplot, pandas, NumPy, Seaborn,** and **sklearn** libraries.\n",
    "- Load the breast cancer dataset from sklearn.\n"
   ]
  },
  {
   "cell_type": "code",
   "execution_count": 2,
   "metadata": {
    "id": "nKKk9YftfW92"
   },
   "outputs": [],
   "source": [
    "import matplotlib.pyplot as plt\n",
    "import pandas as pd\n",
    "import numpy as np\n",
    "%matplotlib inline\n",
    "\n",
    "from sklearn.datasets import load_breast_cancer\n",
    "cancer = load_breast_cancer()"
   ]
  },
  {
   "cell_type": "code",
   "execution_count": 3,
   "metadata": {
    "id": "Y0yiWgiSfW94"
   },
   "outputs": [
    {
     "name": "stdout",
     "output_type": "stream",
     "text": [
      ".. _breast_cancer_dataset:\n",
      "\n",
      "Breast cancer wisconsin (diagnostic) dataset\n",
      "--------------------------------------------\n",
      "\n",
      "**Data Set Characteristics:**\n",
      "\n",
      "    :Number of Instances: 569\n",
      "\n",
      "    :Number of Attributes: 30 numeric, predictive attributes and the class\n",
      "\n",
      "    :Attribute Information:\n",
      "        - radius (mean of distances from center to points on the perimeter)\n",
      "        - texture (standard deviation of gray-scale values)\n",
      "        - perimeter\n",
      "        - area\n",
      "        - smoothness (local variation in radius lengths)\n",
      "        - compactness (perimeter^2 / area - 1.0)\n",
      "        - concavity (severity of concave portions of the contour)\n",
      "        - concave points (number of concave portions of the contour)\n",
      "        - symmetry\n",
      "        - fractal dimension (\"coastline approximation\" - 1)\n",
      "\n",
      "        The mean, standard error, and \"worst\" or largest (mean of the three\n",
      "        worst/largest values) of these features were computed for each image,\n",
      "        resulting in 30 features.  For instance, field 0 is Mean Radius, field\n",
      "        10 is Radius SE, field 20 is Worst Radius.\n",
      "\n",
      "        - class:\n",
      "                - WDBC-Malignant\n",
      "                - WDBC-Benign\n",
      "\n",
      "    :Summary Statistics:\n",
      "\n",
      "    ===================================== ====== ======\n",
      "                                           Min    Max\n",
      "    ===================================== ====== ======\n",
      "    radius (mean):                        6.981  28.11\n",
      "    texture (mean):                       9.71   39.28\n",
      "    perimeter (mean):                     43.79  188.5\n",
      "    area (mean):                          143.5  2501.0\n",
      "    smoothness (mean):                    0.053  0.163\n",
      "    compactness (mean):                   0.019  0.345\n",
      "    concavity (mean):                     0.0    0.427\n",
      "    concave points (mean):                0.0    0.201\n",
      "    symmetry (mean):                      0.106  0.304\n",
      "    fractal dimension (mean):             0.05   0.097\n",
      "    radius (standard error):              0.112  2.873\n",
      "    texture (standard error):             0.36   4.885\n",
      "    perimeter (standard error):           0.757  21.98\n",
      "    area (standard error):                6.802  542.2\n",
      "    smoothness (standard error):          0.002  0.031\n",
      "    compactness (standard error):         0.002  0.135\n",
      "    concavity (standard error):           0.0    0.396\n",
      "    concave points (standard error):      0.0    0.053\n",
      "    symmetry (standard error):            0.008  0.079\n",
      "    fractal dimension (standard error):   0.001  0.03\n",
      "    radius (worst):                       7.93   36.04\n",
      "    texture (worst):                      12.02  49.54\n",
      "    perimeter (worst):                    50.41  251.2\n",
      "    area (worst):                         185.2  4254.0\n",
      "    smoothness (worst):                   0.071  0.223\n",
      "    compactness (worst):                  0.027  1.058\n",
      "    concavity (worst):                    0.0    1.252\n",
      "    concave points (worst):               0.0    0.291\n",
      "    symmetry (worst):                     0.156  0.664\n",
      "    fractal dimension (worst):            0.055  0.208\n",
      "    ===================================== ====== ======\n",
      "\n",
      "    :Missing Attribute Values: None\n",
      "\n",
      "    :Class Distribution: 212 - Malignant, 357 - Benign\n",
      "\n",
      "    :Creator:  Dr. William H. Wolberg, W. Nick Street, Olvi L. Mangasarian\n",
      "\n",
      "    :Donor: Nick Street\n",
      "\n",
      "    :Date: November, 1995\n",
      "\n",
      "This is a copy of UCI ML Breast Cancer Wisconsin (Diagnostic) datasets.\n",
      "https://goo.gl/U2Uwz2\n",
      "\n",
      "Features are computed from a digitized image of a fine needle\n",
      "aspirate (FNA) of a breast mass.  They describe\n",
      "characteristics of the cell nuclei present in the image.\n",
      "\n",
      "Separating plane described above was obtained using\n",
      "Multisurface Method-Tree (MSM-T) [K. P. Bennett, \"Decision Tree\n",
      "Construction Via Linear Programming.\" Proceedings of the 4th\n",
      "Midwest Artificial Intelligence and Cognitive Science Society,\n",
      "pp. 97-101, 1992], a classification method which uses linear\n",
      "programming to construct a decision tree.  Relevant features\n",
      "were selected using an exhaustive search in the space of 1-4\n",
      "features and 1-3 separating planes.\n",
      "\n",
      "The actual linear program used to obtain the separating plane\n",
      "in the 3-dimensional space is that described in:\n",
      "[K. P. Bennett and O. L. Mangasarian: \"Robust Linear\n",
      "Programming Discrimination of Two Linearly Inseparable Sets\",\n",
      "Optimization Methods and Software 1, 1992, 23-34].\n",
      "\n",
      "This database is also available through the UW CS ftp server:\n",
      "\n",
      "ftp ftp.cs.wisc.edu\n",
      "cd math-prog/cpo-dataset/machine-learn/WDBC/\n",
      "\n",
      "|details-start|\n",
      "**References**\n",
      "|details-split|\n",
      "\n",
      "- W.N. Street, W.H. Wolberg and O.L. Mangasarian. Nuclear feature extraction \n",
      "  for breast tumor diagnosis. IS&T/SPIE 1993 International Symposium on \n",
      "  Electronic Imaging: Science and Technology, volume 1905, pages 861-870,\n",
      "  San Jose, CA, 1993.\n",
      "- O.L. Mangasarian, W.N. Street and W.H. Wolberg. Breast cancer diagnosis and \n",
      "  prognosis via linear programming. Operations Research, 43(4), pages 570-577, \n",
      "  July-August 1995.\n",
      "- W.H. Wolberg, W.N. Street, and O.L. Mangasarian. Machine learning techniques\n",
      "  to diagnose breast cancer from fine-needle aspirates. Cancer Letters 77 (1994) \n",
      "  163-171.\n",
      "\n",
      "|details-end|\n"
     ]
    }
   ],
   "source": [
    "print(cancer['DESCR'])"
   ]
  },
  {
   "cell_type": "markdown",
   "metadata": {
    "id": "d2E3NsCzmoFU"
   },
   "source": [
    "__Observation:__\n",
    "- The cancer 'DESCR' provides all the information regarding the cancer dataset."
   ]
  },
  {
   "cell_type": "markdown",
   "metadata": {
    "id": "LxSdre6tgfUP"
   },
   "source": [
    "\n",
    "- Create a DataFrame from the cancer dataset.\n"
   ]
  },
  {
   "cell_type": "code",
   "execution_count": 4,
   "metadata": {
    "id": "j6GwefLHfW94"
   },
   "outputs": [],
   "source": [
    "df = pd.DataFrame(cancer['data'], columns=cancer['feature_names'])"
   ]
  },
  {
   "cell_type": "code",
   "execution_count": 5,
   "metadata": {
    "id": "9MqJqpFqfW94",
    "outputId": "878f3272-f70d-4323-bcda-bfccd091e5cd"
   },
   "outputs": [
    {
     "data": {
      "text/html": [
       "<div>\n",
       "<style scoped>\n",
       "    .dataframe tbody tr th:only-of-type {\n",
       "        vertical-align: middle;\n",
       "    }\n",
       "\n",
       "    .dataframe tbody tr th {\n",
       "        vertical-align: top;\n",
       "    }\n",
       "\n",
       "    .dataframe thead th {\n",
       "        text-align: right;\n",
       "    }\n",
       "</style>\n",
       "<table border=\"1\" class=\"dataframe\">\n",
       "  <thead>\n",
       "    <tr style=\"text-align: right;\">\n",
       "      <th></th>\n",
       "      <th>mean radius</th>\n",
       "      <th>mean texture</th>\n",
       "      <th>mean perimeter</th>\n",
       "      <th>mean area</th>\n",
       "      <th>mean smoothness</th>\n",
       "      <th>mean compactness</th>\n",
       "      <th>mean concavity</th>\n",
       "      <th>mean concave points</th>\n",
       "      <th>mean symmetry</th>\n",
       "      <th>mean fractal dimension</th>\n",
       "      <th>...</th>\n",
       "      <th>worst radius</th>\n",
       "      <th>worst texture</th>\n",
       "      <th>worst perimeter</th>\n",
       "      <th>worst area</th>\n",
       "      <th>worst smoothness</th>\n",
       "      <th>worst compactness</th>\n",
       "      <th>worst concavity</th>\n",
       "      <th>worst concave points</th>\n",
       "      <th>worst symmetry</th>\n",
       "      <th>worst fractal dimension</th>\n",
       "    </tr>\n",
       "  </thead>\n",
       "  <tbody>\n",
       "    <tr>\n",
       "      <th>0</th>\n",
       "      <td>17.99</td>\n",
       "      <td>10.38</td>\n",
       "      <td>122.80</td>\n",
       "      <td>1001.0</td>\n",
       "      <td>0.11840</td>\n",
       "      <td>0.27760</td>\n",
       "      <td>0.3001</td>\n",
       "      <td>0.14710</td>\n",
       "      <td>0.2419</td>\n",
       "      <td>0.07871</td>\n",
       "      <td>...</td>\n",
       "      <td>25.38</td>\n",
       "      <td>17.33</td>\n",
       "      <td>184.60</td>\n",
       "      <td>2019.0</td>\n",
       "      <td>0.1622</td>\n",
       "      <td>0.6656</td>\n",
       "      <td>0.7119</td>\n",
       "      <td>0.2654</td>\n",
       "      <td>0.4601</td>\n",
       "      <td>0.11890</td>\n",
       "    </tr>\n",
       "    <tr>\n",
       "      <th>1</th>\n",
       "      <td>20.57</td>\n",
       "      <td>17.77</td>\n",
       "      <td>132.90</td>\n",
       "      <td>1326.0</td>\n",
       "      <td>0.08474</td>\n",
       "      <td>0.07864</td>\n",
       "      <td>0.0869</td>\n",
       "      <td>0.07017</td>\n",
       "      <td>0.1812</td>\n",
       "      <td>0.05667</td>\n",
       "      <td>...</td>\n",
       "      <td>24.99</td>\n",
       "      <td>23.41</td>\n",
       "      <td>158.80</td>\n",
       "      <td>1956.0</td>\n",
       "      <td>0.1238</td>\n",
       "      <td>0.1866</td>\n",
       "      <td>0.2416</td>\n",
       "      <td>0.1860</td>\n",
       "      <td>0.2750</td>\n",
       "      <td>0.08902</td>\n",
       "    </tr>\n",
       "    <tr>\n",
       "      <th>2</th>\n",
       "      <td>19.69</td>\n",
       "      <td>21.25</td>\n",
       "      <td>130.00</td>\n",
       "      <td>1203.0</td>\n",
       "      <td>0.10960</td>\n",
       "      <td>0.15990</td>\n",
       "      <td>0.1974</td>\n",
       "      <td>0.12790</td>\n",
       "      <td>0.2069</td>\n",
       "      <td>0.05999</td>\n",
       "      <td>...</td>\n",
       "      <td>23.57</td>\n",
       "      <td>25.53</td>\n",
       "      <td>152.50</td>\n",
       "      <td>1709.0</td>\n",
       "      <td>0.1444</td>\n",
       "      <td>0.4245</td>\n",
       "      <td>0.4504</td>\n",
       "      <td>0.2430</td>\n",
       "      <td>0.3613</td>\n",
       "      <td>0.08758</td>\n",
       "    </tr>\n",
       "    <tr>\n",
       "      <th>3</th>\n",
       "      <td>11.42</td>\n",
       "      <td>20.38</td>\n",
       "      <td>77.58</td>\n",
       "      <td>386.1</td>\n",
       "      <td>0.14250</td>\n",
       "      <td>0.28390</td>\n",
       "      <td>0.2414</td>\n",
       "      <td>0.10520</td>\n",
       "      <td>0.2597</td>\n",
       "      <td>0.09744</td>\n",
       "      <td>...</td>\n",
       "      <td>14.91</td>\n",
       "      <td>26.50</td>\n",
       "      <td>98.87</td>\n",
       "      <td>567.7</td>\n",
       "      <td>0.2098</td>\n",
       "      <td>0.8663</td>\n",
       "      <td>0.6869</td>\n",
       "      <td>0.2575</td>\n",
       "      <td>0.6638</td>\n",
       "      <td>0.17300</td>\n",
       "    </tr>\n",
       "    <tr>\n",
       "      <th>4</th>\n",
       "      <td>20.29</td>\n",
       "      <td>14.34</td>\n",
       "      <td>135.10</td>\n",
       "      <td>1297.0</td>\n",
       "      <td>0.10030</td>\n",
       "      <td>0.13280</td>\n",
       "      <td>0.1980</td>\n",
       "      <td>0.10430</td>\n",
       "      <td>0.1809</td>\n",
       "      <td>0.05883</td>\n",
       "      <td>...</td>\n",
       "      <td>22.54</td>\n",
       "      <td>16.67</td>\n",
       "      <td>152.20</td>\n",
       "      <td>1575.0</td>\n",
       "      <td>0.1374</td>\n",
       "      <td>0.2050</td>\n",
       "      <td>0.4000</td>\n",
       "      <td>0.1625</td>\n",
       "      <td>0.2364</td>\n",
       "      <td>0.07678</td>\n",
       "    </tr>\n",
       "  </tbody>\n",
       "</table>\n",
       "<p>5 rows × 30 columns</p>\n",
       "</div>"
      ],
      "text/plain": [
       "   mean radius  mean texture  mean perimeter  mean area  mean smoothness  \\\n",
       "0        17.99         10.38          122.80     1001.0          0.11840   \n",
       "1        20.57         17.77          132.90     1326.0          0.08474   \n",
       "2        19.69         21.25          130.00     1203.0          0.10960   \n",
       "3        11.42         20.38           77.58      386.1          0.14250   \n",
       "4        20.29         14.34          135.10     1297.0          0.10030   \n",
       "\n",
       "   mean compactness  mean concavity  mean concave points  mean symmetry  \\\n",
       "0           0.27760          0.3001              0.14710         0.2419   \n",
       "1           0.07864          0.0869              0.07017         0.1812   \n",
       "2           0.15990          0.1974              0.12790         0.2069   \n",
       "3           0.28390          0.2414              0.10520         0.2597   \n",
       "4           0.13280          0.1980              0.10430         0.1809   \n",
       "\n",
       "   mean fractal dimension  ...  worst radius  worst texture  worst perimeter  \\\n",
       "0                 0.07871  ...         25.38          17.33           184.60   \n",
       "1                 0.05667  ...         24.99          23.41           158.80   \n",
       "2                 0.05999  ...         23.57          25.53           152.50   \n",
       "3                 0.09744  ...         14.91          26.50            98.87   \n",
       "4                 0.05883  ...         22.54          16.67           152.20   \n",
       "\n",
       "   worst area  worst smoothness  worst compactness  worst concavity  \\\n",
       "0      2019.0            0.1622             0.6656           0.7119   \n",
       "1      1956.0            0.1238             0.1866           0.2416   \n",
       "2      1709.0            0.1444             0.4245           0.4504   \n",
       "3       567.7            0.2098             0.8663           0.6869   \n",
       "4      1575.0            0.1374             0.2050           0.4000   \n",
       "\n",
       "   worst concave points  worst symmetry  worst fractal dimension  \n",
       "0                0.2654          0.4601                  0.11890  \n",
       "1                0.1860          0.2750                  0.08902  \n",
       "2                0.2430          0.3613                  0.08758  \n",
       "3                0.2575          0.6638                  0.17300  \n",
       "4                0.1625          0.2364                  0.07678  \n",
       "\n",
       "[5 rows x 30 columns]"
      ]
     },
     "execution_count": 5,
     "metadata": {},
     "output_type": "execute_result"
    }
   ],
   "source": [
    "df.head()"
   ]
  },
  {
   "cell_type": "markdown",
   "metadata": {
    "id": "0eP59F-vqczr"
   },
   "source": [
    "__Observation:__\n",
    "- The DataFrame contains cancer data with feature names as columns."
   ]
  },
  {
   "cell_type": "markdown",
   "metadata": {
    "id": "2FD7n21PghXE"
   },
   "source": [
    "- Instantiate a StandardScaler object and fit it to the data.\n",
    "- Transform the data using the StandardScaler object.\n"
   ]
  },
  {
   "cell_type": "code",
   "execution_count": 6,
   "metadata": {
    "id": "SKlcE49qfW95"
   },
   "outputs": [],
   "source": [
    "from sklearn.preprocessing import StandardScaler\n",
    "\n",
    "scaler = StandardScaler()\n",
    "scaled_data = scaler.fit_transform(df)"
   ]
  },
  {
   "cell_type": "markdown",
   "metadata": {
    "id": "GeFT0NU0gkEL"
   },
   "source": [
    "\n",
    "- Import PCA from sklearn.decomposition.\n",
    "- Instantiate a PCA object with two components.\n",
    "- Fit PCA to the scaled data.\n",
    "- Transform the scaled data using PCA.\n",
    "- Check the shape of the transformed data.\n"
   ]
  },
  {
   "cell_type": "code",
   "execution_count": 7,
   "metadata": {
    "id": "nNkC6x3rfW96"
   },
   "outputs": [],
   "source": [
    "from sklearn.decomposition import PCA\n",
    "pca = PCA()"
   ]
  },
  {
   "cell_type": "code",
   "execution_count": 8,
   "metadata": {
    "id": "GxaNgP-ofW96",
    "outputId": "cfd124b0-2572-4830-dcaa-82ae3109a0d4"
   },
   "outputs": [
    {
     "data": {
      "text/html": [
       "<style>#sk-container-id-1 {color: black;}#sk-container-id-1 pre{padding: 0;}#sk-container-id-1 div.sk-toggleable {background-color: white;}#sk-container-id-1 label.sk-toggleable__label {cursor: pointer;display: block;width: 100%;margin-bottom: 0;padding: 0.3em;box-sizing: border-box;text-align: center;}#sk-container-id-1 label.sk-toggleable__label-arrow:before {content: \"▸\";float: left;margin-right: 0.25em;color: #696969;}#sk-container-id-1 label.sk-toggleable__label-arrow:hover:before {color: black;}#sk-container-id-1 div.sk-estimator:hover label.sk-toggleable__label-arrow:before {color: black;}#sk-container-id-1 div.sk-toggleable__content {max-height: 0;max-width: 0;overflow: hidden;text-align: left;background-color: #f0f8ff;}#sk-container-id-1 div.sk-toggleable__content pre {margin: 0.2em;color: black;border-radius: 0.25em;background-color: #f0f8ff;}#sk-container-id-1 input.sk-toggleable__control:checked~div.sk-toggleable__content {max-height: 200px;max-width: 100%;overflow: auto;}#sk-container-id-1 input.sk-toggleable__control:checked~label.sk-toggleable__label-arrow:before {content: \"▾\";}#sk-container-id-1 div.sk-estimator input.sk-toggleable__control:checked~label.sk-toggleable__label {background-color: #d4ebff;}#sk-container-id-1 div.sk-label input.sk-toggleable__control:checked~label.sk-toggleable__label {background-color: #d4ebff;}#sk-container-id-1 input.sk-hidden--visually {border: 0;clip: rect(1px 1px 1px 1px);clip: rect(1px, 1px, 1px, 1px);height: 1px;margin: -1px;overflow: hidden;padding: 0;position: absolute;width: 1px;}#sk-container-id-1 div.sk-estimator {font-family: monospace;background-color: #f0f8ff;border: 1px dotted black;border-radius: 0.25em;box-sizing: border-box;margin-bottom: 0.5em;}#sk-container-id-1 div.sk-estimator:hover {background-color: #d4ebff;}#sk-container-id-1 div.sk-parallel-item::after {content: \"\";width: 100%;border-bottom: 1px solid gray;flex-grow: 1;}#sk-container-id-1 div.sk-label:hover label.sk-toggleable__label {background-color: #d4ebff;}#sk-container-id-1 div.sk-serial::before {content: \"\";position: absolute;border-left: 1px solid gray;box-sizing: border-box;top: 0;bottom: 0;left: 50%;z-index: 0;}#sk-container-id-1 div.sk-serial {display: flex;flex-direction: column;align-items: center;background-color: white;padding-right: 0.2em;padding-left: 0.2em;position: relative;}#sk-container-id-1 div.sk-item {position: relative;z-index: 1;}#sk-container-id-1 div.sk-parallel {display: flex;align-items: stretch;justify-content: center;background-color: white;position: relative;}#sk-container-id-1 div.sk-item::before, #sk-container-id-1 div.sk-parallel-item::before {content: \"\";position: absolute;border-left: 1px solid gray;box-sizing: border-box;top: 0;bottom: 0;left: 50%;z-index: -1;}#sk-container-id-1 div.sk-parallel-item {display: flex;flex-direction: column;z-index: 1;position: relative;background-color: white;}#sk-container-id-1 div.sk-parallel-item:first-child::after {align-self: flex-end;width: 50%;}#sk-container-id-1 div.sk-parallel-item:last-child::after {align-self: flex-start;width: 50%;}#sk-container-id-1 div.sk-parallel-item:only-child::after {width: 0;}#sk-container-id-1 div.sk-dashed-wrapped {border: 1px dashed gray;margin: 0 0.4em 0.5em 0.4em;box-sizing: border-box;padding-bottom: 0.4em;background-color: white;}#sk-container-id-1 div.sk-label label {font-family: monospace;font-weight: bold;display: inline-block;line-height: 1.2em;}#sk-container-id-1 div.sk-label-container {text-align: center;}#sk-container-id-1 div.sk-container {/* jupyter's `normalize.less` sets `[hidden] { display: none; }` but bootstrap.min.css set `[hidden] { display: none !important; }` so we also need the `!important` here to be able to override the default hidden behavior on the sphinx rendered scikit-learn.org. See: https://github.com/scikit-learn/scikit-learn/issues/21755 */display: inline-block !important;position: relative;}#sk-container-id-1 div.sk-text-repr-fallback {display: none;}</style><div id=\"sk-container-id-1\" class=\"sk-top-container\"><div class=\"sk-text-repr-fallback\"><pre>PCA()</pre><b>In a Jupyter environment, please rerun this cell to show the HTML representation or trust the notebook. <br />On GitHub, the HTML representation is unable to render, please try loading this page with nbviewer.org.</b></div><div class=\"sk-container\" hidden><div class=\"sk-item\"><div class=\"sk-estimator sk-toggleable\"><input class=\"sk-toggleable__control sk-hidden--visually\" id=\"sk-estimator-id-1\" type=\"checkbox\" checked><label for=\"sk-estimator-id-1\" class=\"sk-toggleable__label sk-toggleable__label-arrow\">PCA</label><div class=\"sk-toggleable__content\"><pre>PCA()</pre></div></div></div></div></div>"
      ],
      "text/plain": [
       "PCA()"
      ]
     },
     "execution_count": 8,
     "metadata": {},
     "output_type": "execute_result"
    }
   ],
   "source": [
    "pca.fit(scaled_data)"
   ]
  },
  {
   "cell_type": "code",
   "execution_count": 10,
   "metadata": {},
   "outputs": [
    {
     "data": {
      "text/plain": [
       "array([4.42720256e+01, 1.89711820e+01, 9.39316326e+00, 6.60213492e+00,\n",
       "       5.49576849e+00, 4.02452204e+00, 2.25073371e+00, 1.58872380e+00,\n",
       "       1.38964937e+00, 1.16897819e+00, 9.79718988e-01, 8.70537901e-01,\n",
       "       8.04524987e-01, 5.23365745e-01, 3.13783217e-01, 2.66209337e-01,\n",
       "       1.97996793e-01, 1.75395945e-01, 1.64925306e-01, 1.03864675e-01,\n",
       "       9.99096464e-02, 9.14646751e-02, 8.11361259e-02, 6.01833567e-02,\n",
       "       5.16042379e-02, 2.72587995e-02, 2.30015463e-02, 5.29779290e-03,\n",
       "       2.49601032e-03, 4.43482743e-04])"
      ]
     },
     "execution_count": 10,
     "metadata": {},
     "output_type": "execute_result"
    }
   ],
   "source": [
    "pca.explained_variance_ratio_*100"
   ]
  },
  {
   "cell_type": "code",
   "execution_count": 13,
   "metadata": {},
   "outputs": [
    {
     "data": {
      "text/plain": [
       "array([ 44.27202561,  63.24320765,  72.63637091,  79.23850582,\n",
       "        84.73427432,  88.75879636,  91.00953007,  92.59825387,\n",
       "        93.98790324,  95.15688143,  96.13660042,  97.00713832,\n",
       "        97.81166331,  98.33502905,  98.64881227,  98.91502161,\n",
       "        99.1130184 ,  99.28841435,  99.45333965,  99.55720433,\n",
       "        99.65711397,  99.74857865,  99.82971477,  99.88989813,\n",
       "        99.94150237,  99.96876117,  99.99176271,  99.99706051,\n",
       "        99.99955652, 100.        ])"
      ]
     },
     "execution_count": 13,
     "metadata": {},
     "output_type": "execute_result"
    }
   ],
   "source": [
    "import numpy as np\n",
    "\n",
    "np.cumsum(pca.explained_variance_ratio_*100)"
   ]
  },
  {
   "cell_type": "code",
   "execution_count": 52,
   "metadata": {
    "id": "A6jhMYdQfW96"
   },
   "outputs": [],
   "source": [
    "pca = PCA(n_components=14)\n",
    "pca.fit(scaled_data)\n",
    "cmps = pca.transform(scaled_data)"
   ]
  },
  {
   "cell_type": "code",
   "execution_count": 53,
   "metadata": {},
   "outputs": [
    {
     "data": {
      "text/plain": [
       "(569, 14)"
      ]
     },
     "execution_count": 53,
     "metadata": {},
     "output_type": "execute_result"
    }
   ],
   "source": [
    "cmps.shape"
   ]
  },
  {
   "cell_type": "code",
   "execution_count": 55,
   "metadata": {},
   "outputs": [
    {
     "data": {
      "text/plain": [
       "(14, 30)"
      ]
     },
     "execution_count": 55,
     "metadata": {},
     "output_type": "execute_result"
    }
   ],
   "source": [
    "pca.components_.shape"
   ]
  },
  {
   "cell_type": "code",
   "execution_count": 15,
   "metadata": {
    "id": "blCRAK_-fW96",
    "outputId": "843ef245-1fcc-4b91-8ace-04b2fb7d950b"
   },
   "outputs": [
    {
     "data": {
      "text/plain": [
       "(569, 30)"
      ]
     },
     "execution_count": 15,
     "metadata": {},
     "output_type": "execute_result"
    }
   ],
   "source": [
    "scaled_data.shape"
   ]
  },
  {
   "cell_type": "code",
   "execution_count": 16,
   "metadata": {
    "id": "1RP7AvnFfW96",
    "outputId": "982dbdb6-1b59-42df-9edf-9888c765986a"
   },
   "outputs": [
    {
     "data": {
      "text/plain": [
       "(569, 10)"
      ]
     },
     "execution_count": 16,
     "metadata": {},
     "output_type": "execute_result"
    }
   ],
   "source": [
    "cmps.shape"
   ]
  },
  {
   "cell_type": "code",
   "execution_count": 18,
   "metadata": {},
   "outputs": [
    {
     "data": {
      "text/html": [
       "<div>\n",
       "<style scoped>\n",
       "    .dataframe tbody tr th:only-of-type {\n",
       "        vertical-align: middle;\n",
       "    }\n",
       "\n",
       "    .dataframe tbody tr th {\n",
       "        vertical-align: top;\n",
       "    }\n",
       "\n",
       "    .dataframe thead th {\n",
       "        text-align: right;\n",
       "    }\n",
       "</style>\n",
       "<table border=\"1\" class=\"dataframe\">\n",
       "  <thead>\n",
       "    <tr style=\"text-align: right;\">\n",
       "      <th></th>\n",
       "      <th>0</th>\n",
       "      <th>1</th>\n",
       "      <th>2</th>\n",
       "      <th>3</th>\n",
       "      <th>4</th>\n",
       "      <th>5</th>\n",
       "      <th>6</th>\n",
       "      <th>7</th>\n",
       "      <th>8</th>\n",
       "      <th>9</th>\n",
       "    </tr>\n",
       "  </thead>\n",
       "  <tbody>\n",
       "    <tr>\n",
       "      <th>0</th>\n",
       "      <td>9.192837</td>\n",
       "      <td>1.948583</td>\n",
       "      <td>-1.123166</td>\n",
       "      <td>3.633731</td>\n",
       "      <td>-1.195110</td>\n",
       "      <td>1.411424</td>\n",
       "      <td>2.159370</td>\n",
       "      <td>-0.398407</td>\n",
       "      <td>-0.157118</td>\n",
       "      <td>-0.877401</td>\n",
       "    </tr>\n",
       "    <tr>\n",
       "      <th>1</th>\n",
       "      <td>2.387802</td>\n",
       "      <td>-3.768172</td>\n",
       "      <td>-0.529293</td>\n",
       "      <td>1.118264</td>\n",
       "      <td>0.621775</td>\n",
       "      <td>0.028656</td>\n",
       "      <td>0.013358</td>\n",
       "      <td>0.240988</td>\n",
       "      <td>-0.711905</td>\n",
       "      <td>1.106995</td>\n",
       "    </tr>\n",
       "    <tr>\n",
       "      <th>2</th>\n",
       "      <td>5.733896</td>\n",
       "      <td>-1.075174</td>\n",
       "      <td>-0.551748</td>\n",
       "      <td>0.912083</td>\n",
       "      <td>-0.177086</td>\n",
       "      <td>0.541452</td>\n",
       "      <td>-0.668166</td>\n",
       "      <td>0.097374</td>\n",
       "      <td>0.024066</td>\n",
       "      <td>0.454275</td>\n",
       "    </tr>\n",
       "    <tr>\n",
       "      <th>3</th>\n",
       "      <td>7.122953</td>\n",
       "      <td>10.275589</td>\n",
       "      <td>-3.232790</td>\n",
       "      <td>0.152547</td>\n",
       "      <td>-2.960878</td>\n",
       "      <td>3.053422</td>\n",
       "      <td>1.429911</td>\n",
       "      <td>1.059565</td>\n",
       "      <td>-1.405440</td>\n",
       "      <td>-1.116977</td>\n",
       "    </tr>\n",
       "    <tr>\n",
       "      <th>4</th>\n",
       "      <td>3.935302</td>\n",
       "      <td>-1.948072</td>\n",
       "      <td>1.389767</td>\n",
       "      <td>2.940639</td>\n",
       "      <td>0.546747</td>\n",
       "      <td>-1.226495</td>\n",
       "      <td>-0.936213</td>\n",
       "      <td>0.636376</td>\n",
       "      <td>-0.263806</td>\n",
       "      <td>0.377704</td>\n",
       "    </tr>\n",
       "    <tr>\n",
       "      <th>...</th>\n",
       "      <td>...</td>\n",
       "      <td>...</td>\n",
       "      <td>...</td>\n",
       "      <td>...</td>\n",
       "      <td>...</td>\n",
       "      <td>...</td>\n",
       "      <td>...</td>\n",
       "      <td>...</td>\n",
       "      <td>...</td>\n",
       "      <td>...</td>\n",
       "    </tr>\n",
       "    <tr>\n",
       "      <th>564</th>\n",
       "      <td>6.439315</td>\n",
       "      <td>-3.576817</td>\n",
       "      <td>2.459487</td>\n",
       "      <td>1.177314</td>\n",
       "      <td>-0.074824</td>\n",
       "      <td>-2.375193</td>\n",
       "      <td>-0.596130</td>\n",
       "      <td>-0.035471</td>\n",
       "      <td>0.987929</td>\n",
       "      <td>0.256987</td>\n",
       "    </tr>\n",
       "    <tr>\n",
       "      <th>565</th>\n",
       "      <td>3.793382</td>\n",
       "      <td>-3.584048</td>\n",
       "      <td>2.088476</td>\n",
       "      <td>-2.506028</td>\n",
       "      <td>-0.510723</td>\n",
       "      <td>-0.246710</td>\n",
       "      <td>-0.716326</td>\n",
       "      <td>-1.113360</td>\n",
       "      <td>-0.105208</td>\n",
       "      <td>-0.108633</td>\n",
       "    </tr>\n",
       "    <tr>\n",
       "      <th>566</th>\n",
       "      <td>1.256179</td>\n",
       "      <td>-1.902297</td>\n",
       "      <td>0.562731</td>\n",
       "      <td>-2.089227</td>\n",
       "      <td>1.809991</td>\n",
       "      <td>-0.534447</td>\n",
       "      <td>-0.192758</td>\n",
       "      <td>0.341887</td>\n",
       "      <td>0.393917</td>\n",
       "      <td>0.520877</td>\n",
       "    </tr>\n",
       "    <tr>\n",
       "      <th>567</th>\n",
       "      <td>10.374794</td>\n",
       "      <td>1.672010</td>\n",
       "      <td>-1.877029</td>\n",
       "      <td>-2.356031</td>\n",
       "      <td>-0.033742</td>\n",
       "      <td>0.567936</td>\n",
       "      <td>0.223082</td>\n",
       "      <td>-0.280239</td>\n",
       "      <td>-0.542034</td>\n",
       "      <td>-0.089296</td>\n",
       "    </tr>\n",
       "    <tr>\n",
       "      <th>568</th>\n",
       "      <td>-5.475243</td>\n",
       "      <td>-0.670637</td>\n",
       "      <td>1.490443</td>\n",
       "      <td>-2.299157</td>\n",
       "      <td>-0.184703</td>\n",
       "      <td>1.617837</td>\n",
       "      <td>1.698951</td>\n",
       "      <td>1.046354</td>\n",
       "      <td>0.374101</td>\n",
       "      <td>-0.047725</td>\n",
       "    </tr>\n",
       "  </tbody>\n",
       "</table>\n",
       "<p>569 rows × 10 columns</p>\n",
       "</div>"
      ],
      "text/plain": [
       "             0          1         2         3         4         5         6  \\\n",
       "0     9.192837   1.948583 -1.123166  3.633731 -1.195110  1.411424  2.159370   \n",
       "1     2.387802  -3.768172 -0.529293  1.118264  0.621775  0.028656  0.013358   \n",
       "2     5.733896  -1.075174 -0.551748  0.912083 -0.177086  0.541452 -0.668166   \n",
       "3     7.122953  10.275589 -3.232790  0.152547 -2.960878  3.053422  1.429911   \n",
       "4     3.935302  -1.948072  1.389767  2.940639  0.546747 -1.226495 -0.936213   \n",
       "..         ...        ...       ...       ...       ...       ...       ...   \n",
       "564   6.439315  -3.576817  2.459487  1.177314 -0.074824 -2.375193 -0.596130   \n",
       "565   3.793382  -3.584048  2.088476 -2.506028 -0.510723 -0.246710 -0.716326   \n",
       "566   1.256179  -1.902297  0.562731 -2.089227  1.809991 -0.534447 -0.192758   \n",
       "567  10.374794   1.672010 -1.877029 -2.356031 -0.033742  0.567936  0.223082   \n",
       "568  -5.475243  -0.670637  1.490443 -2.299157 -0.184703  1.617837  1.698951   \n",
       "\n",
       "            7         8         9  \n",
       "0   -0.398407 -0.157118 -0.877401  \n",
       "1    0.240988 -0.711905  1.106995  \n",
       "2    0.097374  0.024066  0.454275  \n",
       "3    1.059565 -1.405440 -1.116977  \n",
       "4    0.636376 -0.263806  0.377704  \n",
       "..        ...       ...       ...  \n",
       "564 -0.035471  0.987929  0.256987  \n",
       "565 -1.113360 -0.105208 -0.108633  \n",
       "566  0.341887  0.393917  0.520877  \n",
       "567 -0.280239 -0.542034 -0.089296  \n",
       "568  1.046354  0.374101 -0.047725  \n",
       "\n",
       "[569 rows x 10 columns]"
      ]
     },
     "execution_count": 18,
     "metadata": {},
     "output_type": "execute_result"
    }
   ],
   "source": [
    "pd.DataFrame(cmps)"
   ]
  },
  {
   "cell_type": "code",
   "execution_count": 21,
   "metadata": {},
   "outputs": [
    {
     "data": {
      "text/html": [
       "<div>\n",
       "<style scoped>\n",
       "    .dataframe tbody tr th:only-of-type {\n",
       "        vertical-align: middle;\n",
       "    }\n",
       "\n",
       "    .dataframe tbody tr th {\n",
       "        vertical-align: top;\n",
       "    }\n",
       "\n",
       "    .dataframe thead th {\n",
       "        text-align: right;\n",
       "    }\n",
       "</style>\n",
       "<table border=\"1\" class=\"dataframe\">\n",
       "  <thead>\n",
       "    <tr style=\"text-align: right;\">\n",
       "      <th></th>\n",
       "      <th>mean radius</th>\n",
       "      <th>mean texture</th>\n",
       "      <th>mean perimeter</th>\n",
       "      <th>mean area</th>\n",
       "      <th>mean smoothness</th>\n",
       "      <th>mean compactness</th>\n",
       "      <th>mean concavity</th>\n",
       "      <th>mean concave points</th>\n",
       "      <th>mean symmetry</th>\n",
       "      <th>mean fractal dimension</th>\n",
       "      <th>...</th>\n",
       "      <th>worst radius</th>\n",
       "      <th>worst texture</th>\n",
       "      <th>worst perimeter</th>\n",
       "      <th>worst area</th>\n",
       "      <th>worst smoothness</th>\n",
       "      <th>worst compactness</th>\n",
       "      <th>worst concavity</th>\n",
       "      <th>worst concave points</th>\n",
       "      <th>worst symmetry</th>\n",
       "      <th>worst fractal dimension</th>\n",
       "    </tr>\n",
       "  </thead>\n",
       "  <tbody>\n",
       "    <tr>\n",
       "      <th>C1</th>\n",
       "      <td>0.218902</td>\n",
       "      <td>0.103725</td>\n",
       "      <td>0.227537</td>\n",
       "      <td>0.220995</td>\n",
       "      <td>0.142590</td>\n",
       "      <td>0.239285</td>\n",
       "      <td>0.258400</td>\n",
       "      <td>0.260854</td>\n",
       "      <td>0.138167</td>\n",
       "      <td>0.064363</td>\n",
       "      <td>...</td>\n",
       "      <td>0.227997</td>\n",
       "      <td>0.104469</td>\n",
       "      <td>0.236640</td>\n",
       "      <td>0.224871</td>\n",
       "      <td>0.127953</td>\n",
       "      <td>0.210096</td>\n",
       "      <td>0.228768</td>\n",
       "      <td>0.250886</td>\n",
       "      <td>0.122905</td>\n",
       "      <td>0.131784</td>\n",
       "    </tr>\n",
       "    <tr>\n",
       "      <th>C2</th>\n",
       "      <td>-0.233857</td>\n",
       "      <td>-0.059706</td>\n",
       "      <td>-0.215181</td>\n",
       "      <td>-0.231077</td>\n",
       "      <td>0.186113</td>\n",
       "      <td>0.151892</td>\n",
       "      <td>0.060165</td>\n",
       "      <td>-0.034768</td>\n",
       "      <td>0.190349</td>\n",
       "      <td>0.366575</td>\n",
       "      <td>...</td>\n",
       "      <td>-0.219866</td>\n",
       "      <td>-0.045467</td>\n",
       "      <td>-0.199878</td>\n",
       "      <td>-0.219352</td>\n",
       "      <td>0.172304</td>\n",
       "      <td>0.143593</td>\n",
       "      <td>0.097964</td>\n",
       "      <td>-0.008257</td>\n",
       "      <td>0.141883</td>\n",
       "      <td>0.275339</td>\n",
       "    </tr>\n",
       "    <tr>\n",
       "      <th>C3</th>\n",
       "      <td>-0.008531</td>\n",
       "      <td>0.064550</td>\n",
       "      <td>-0.009314</td>\n",
       "      <td>0.028700</td>\n",
       "      <td>-0.104292</td>\n",
       "      <td>-0.074092</td>\n",
       "      <td>0.002734</td>\n",
       "      <td>-0.025564</td>\n",
       "      <td>-0.040240</td>\n",
       "      <td>-0.022574</td>\n",
       "      <td>...</td>\n",
       "      <td>-0.047507</td>\n",
       "      <td>-0.042298</td>\n",
       "      <td>-0.048547</td>\n",
       "      <td>-0.011902</td>\n",
       "      <td>-0.259798</td>\n",
       "      <td>-0.236076</td>\n",
       "      <td>-0.173057</td>\n",
       "      <td>-0.170344</td>\n",
       "      <td>-0.271313</td>\n",
       "      <td>-0.232791</td>\n",
       "    </tr>\n",
       "    <tr>\n",
       "      <th>C4</th>\n",
       "      <td>0.041409</td>\n",
       "      <td>-0.603050</td>\n",
       "      <td>0.041983</td>\n",
       "      <td>0.053434</td>\n",
       "      <td>0.159383</td>\n",
       "      <td>0.031795</td>\n",
       "      <td>0.019123</td>\n",
       "      <td>0.065336</td>\n",
       "      <td>0.067125</td>\n",
       "      <td>0.048587</td>\n",
       "      <td>...</td>\n",
       "      <td>0.015417</td>\n",
       "      <td>-0.632808</td>\n",
       "      <td>0.013803</td>\n",
       "      <td>0.025895</td>\n",
       "      <td>0.017652</td>\n",
       "      <td>-0.091328</td>\n",
       "      <td>-0.073951</td>\n",
       "      <td>0.006007</td>\n",
       "      <td>-0.036251</td>\n",
       "      <td>-0.077053</td>\n",
       "    </tr>\n",
       "    <tr>\n",
       "      <th>C5</th>\n",
       "      <td>0.037786</td>\n",
       "      <td>-0.049469</td>\n",
       "      <td>0.037375</td>\n",
       "      <td>0.010331</td>\n",
       "      <td>-0.365089</td>\n",
       "      <td>0.011704</td>\n",
       "      <td>0.086375</td>\n",
       "      <td>-0.043861</td>\n",
       "      <td>-0.305941</td>\n",
       "      <td>-0.044424</td>\n",
       "      <td>...</td>\n",
       "      <td>-0.004407</td>\n",
       "      <td>-0.092883</td>\n",
       "      <td>0.007454</td>\n",
       "      <td>-0.027391</td>\n",
       "      <td>-0.324435</td>\n",
       "      <td>0.121804</td>\n",
       "      <td>0.188519</td>\n",
       "      <td>0.043332</td>\n",
       "      <td>-0.244559</td>\n",
       "      <td>0.094423</td>\n",
       "    </tr>\n",
       "    <tr>\n",
       "      <th>C6</th>\n",
       "      <td>0.018741</td>\n",
       "      <td>-0.032179</td>\n",
       "      <td>0.017308</td>\n",
       "      <td>-0.001888</td>\n",
       "      <td>-0.286374</td>\n",
       "      <td>-0.014131</td>\n",
       "      <td>-0.009344</td>\n",
       "      <td>-0.052050</td>\n",
       "      <td>0.356458</td>\n",
       "      <td>-0.119431</td>\n",
       "      <td>...</td>\n",
       "      <td>-0.000291</td>\n",
       "      <td>-0.050008</td>\n",
       "      <td>0.008501</td>\n",
       "      <td>-0.025164</td>\n",
       "      <td>-0.369255</td>\n",
       "      <td>0.047706</td>\n",
       "      <td>0.028379</td>\n",
       "      <td>-0.030873</td>\n",
       "      <td>0.498927</td>\n",
       "      <td>-0.080224</td>\n",
       "    </tr>\n",
       "    <tr>\n",
       "      <th>C7</th>\n",
       "      <td>-0.124088</td>\n",
       "      <td>0.011400</td>\n",
       "      <td>-0.114477</td>\n",
       "      <td>-0.051653</td>\n",
       "      <td>-0.140669</td>\n",
       "      <td>0.030918</td>\n",
       "      <td>-0.107520</td>\n",
       "      <td>-0.150482</td>\n",
       "      <td>-0.093891</td>\n",
       "      <td>0.295760</td>\n",
       "      <td>...</td>\n",
       "      <td>-0.009710</td>\n",
       "      <td>0.009871</td>\n",
       "      <td>-0.000446</td>\n",
       "      <td>0.067832</td>\n",
       "      <td>-0.108831</td>\n",
       "      <td>0.140473</td>\n",
       "      <td>-0.060488</td>\n",
       "      <td>-0.167967</td>\n",
       "      <td>-0.018491</td>\n",
       "      <td>0.374658</td>\n",
       "    </tr>\n",
       "    <tr>\n",
       "      <th>C8</th>\n",
       "      <td>-0.007452</td>\n",
       "      <td>0.130675</td>\n",
       "      <td>-0.018687</td>\n",
       "      <td>0.034674</td>\n",
       "      <td>-0.288975</td>\n",
       "      <td>-0.151396</td>\n",
       "      <td>-0.072827</td>\n",
       "      <td>-0.152323</td>\n",
       "      <td>-0.231531</td>\n",
       "      <td>-0.177121</td>\n",
       "      <td>...</td>\n",
       "      <td>0.042619</td>\n",
       "      <td>0.036252</td>\n",
       "      <td>0.030559</td>\n",
       "      <td>0.079394</td>\n",
       "      <td>0.205852</td>\n",
       "      <td>0.084020</td>\n",
       "      <td>0.072468</td>\n",
       "      <td>-0.036171</td>\n",
       "      <td>0.228225</td>\n",
       "      <td>0.048361</td>\n",
       "    </tr>\n",
       "    <tr>\n",
       "      <th>C9</th>\n",
       "      <td>-0.223110</td>\n",
       "      <td>0.112699</td>\n",
       "      <td>-0.223739</td>\n",
       "      <td>-0.195586</td>\n",
       "      <td>0.006425</td>\n",
       "      <td>-0.167841</td>\n",
       "      <td>0.040591</td>\n",
       "      <td>-0.111971</td>\n",
       "      <td>0.256040</td>\n",
       "      <td>-0.123741</td>\n",
       "      <td>...</td>\n",
       "      <td>-0.112142</td>\n",
       "      <td>0.103341</td>\n",
       "      <td>-0.109614</td>\n",
       "      <td>-0.080732</td>\n",
       "      <td>0.112316</td>\n",
       "      <td>-0.100678</td>\n",
       "      <td>0.161909</td>\n",
       "      <td>0.060489</td>\n",
       "      <td>0.064638</td>\n",
       "      <td>-0.134174</td>\n",
       "    </tr>\n",
       "    <tr>\n",
       "      <th>C10</th>\n",
       "      <td>0.095486</td>\n",
       "      <td>0.240934</td>\n",
       "      <td>0.086385</td>\n",
       "      <td>0.074956</td>\n",
       "      <td>-0.069293</td>\n",
       "      <td>0.012938</td>\n",
       "      <td>-0.135603</td>\n",
       "      <td>0.008054</td>\n",
       "      <td>0.572070</td>\n",
       "      <td>0.081103</td>\n",
       "      <td>...</td>\n",
       "      <td>0.077361</td>\n",
       "      <td>0.029552</td>\n",
       "      <td>0.050508</td>\n",
       "      <td>0.069922</td>\n",
       "      <td>-0.128305</td>\n",
       "      <td>-0.172132</td>\n",
       "      <td>-0.311639</td>\n",
       "      <td>-0.076647</td>\n",
       "      <td>-0.029564</td>\n",
       "      <td>0.012609</td>\n",
       "    </tr>\n",
       "  </tbody>\n",
       "</table>\n",
       "<p>10 rows × 30 columns</p>\n",
       "</div>"
      ],
      "text/plain": [
       "     mean radius  mean texture  mean perimeter  mean area  mean smoothness  \\\n",
       "C1      0.218902      0.103725        0.227537   0.220995         0.142590   \n",
       "C2     -0.233857     -0.059706       -0.215181  -0.231077         0.186113   \n",
       "C3     -0.008531      0.064550       -0.009314   0.028700        -0.104292   \n",
       "C4      0.041409     -0.603050        0.041983   0.053434         0.159383   \n",
       "C5      0.037786     -0.049469        0.037375   0.010331        -0.365089   \n",
       "C6      0.018741     -0.032179        0.017308  -0.001888        -0.286374   \n",
       "C7     -0.124088      0.011400       -0.114477  -0.051653        -0.140669   \n",
       "C8     -0.007452      0.130675       -0.018687   0.034674        -0.288975   \n",
       "C9     -0.223110      0.112699       -0.223739  -0.195586         0.006425   \n",
       "C10     0.095486      0.240934        0.086385   0.074956        -0.069293   \n",
       "\n",
       "     mean compactness  mean concavity  mean concave points  mean symmetry  \\\n",
       "C1           0.239285        0.258400             0.260854       0.138167   \n",
       "C2           0.151892        0.060165            -0.034768       0.190349   \n",
       "C3          -0.074092        0.002734            -0.025564      -0.040240   \n",
       "C4           0.031795        0.019123             0.065336       0.067125   \n",
       "C5           0.011704        0.086375            -0.043861      -0.305941   \n",
       "C6          -0.014131       -0.009344            -0.052050       0.356458   \n",
       "C7           0.030918       -0.107520            -0.150482      -0.093891   \n",
       "C8          -0.151396       -0.072827            -0.152323      -0.231531   \n",
       "C9          -0.167841        0.040591            -0.111971       0.256040   \n",
       "C10          0.012938       -0.135603             0.008054       0.572070   \n",
       "\n",
       "     mean fractal dimension  ...  worst radius  worst texture  \\\n",
       "C1                 0.064363  ...      0.227997       0.104469   \n",
       "C2                 0.366575  ...     -0.219866      -0.045467   \n",
       "C3                -0.022574  ...     -0.047507      -0.042298   \n",
       "C4                 0.048587  ...      0.015417      -0.632808   \n",
       "C5                -0.044424  ...     -0.004407      -0.092883   \n",
       "C6                -0.119431  ...     -0.000291      -0.050008   \n",
       "C7                 0.295760  ...     -0.009710       0.009871   \n",
       "C8                -0.177121  ...      0.042619       0.036252   \n",
       "C9                -0.123741  ...     -0.112142       0.103341   \n",
       "C10                0.081103  ...      0.077361       0.029552   \n",
       "\n",
       "     worst perimeter  worst area  worst smoothness  worst compactness  \\\n",
       "C1          0.236640    0.224871          0.127953           0.210096   \n",
       "C2         -0.199878   -0.219352          0.172304           0.143593   \n",
       "C3         -0.048547   -0.011902         -0.259798          -0.236076   \n",
       "C4          0.013803    0.025895          0.017652          -0.091328   \n",
       "C5          0.007454   -0.027391         -0.324435           0.121804   \n",
       "C6          0.008501   -0.025164         -0.369255           0.047706   \n",
       "C7         -0.000446    0.067832         -0.108831           0.140473   \n",
       "C8          0.030559    0.079394          0.205852           0.084020   \n",
       "C9         -0.109614   -0.080732          0.112316          -0.100678   \n",
       "C10         0.050508    0.069922         -0.128305          -0.172132   \n",
       "\n",
       "     worst concavity  worst concave points  worst symmetry  \\\n",
       "C1          0.228768              0.250886        0.122905   \n",
       "C2          0.097964             -0.008257        0.141883   \n",
       "C3         -0.173057             -0.170344       -0.271313   \n",
       "C4         -0.073951              0.006007       -0.036251   \n",
       "C5          0.188519              0.043332       -0.244559   \n",
       "C6          0.028379             -0.030873        0.498927   \n",
       "C7         -0.060488             -0.167967       -0.018491   \n",
       "C8          0.072468             -0.036171        0.228225   \n",
       "C9          0.161909              0.060489        0.064638   \n",
       "C10        -0.311639             -0.076647       -0.029564   \n",
       "\n",
       "     worst fractal dimension  \n",
       "C1                  0.131784  \n",
       "C2                  0.275339  \n",
       "C3                 -0.232791  \n",
       "C4                 -0.077053  \n",
       "C5                  0.094423  \n",
       "C6                 -0.080224  \n",
       "C7                  0.374658  \n",
       "C8                  0.048361  \n",
       "C9                 -0.134174  \n",
       "C10                 0.012609  \n",
       "\n",
       "[10 rows x 30 columns]"
      ]
     },
     "execution_count": 21,
     "metadata": {},
     "output_type": "execute_result"
    }
   ],
   "source": [
    "pd.DataFrame(pca.components_,index=[\"C1\",\"C2\",\"C3\",\"C4\",\"C5\",\"C6\",\"C7\",\"C8\",\"C9\",\"C10\"],columns=df.columns)"
   ]
  },
  {
   "cell_type": "markdown",
   "metadata": {
    "id": "WqCns2Uygop-"
   },
   "source": [
    "\n",
    "- Create a scatter plot of the two principal components with the target variable as the color."
   ]
  },
  {
   "cell_type": "code",
   "execution_count": 22,
   "metadata": {},
   "outputs": [
    {
     "data": {
      "text/html": [
       "<style>#sk-container-id-2 {color: black;}#sk-container-id-2 pre{padding: 0;}#sk-container-id-2 div.sk-toggleable {background-color: white;}#sk-container-id-2 label.sk-toggleable__label {cursor: pointer;display: block;width: 100%;margin-bottom: 0;padding: 0.3em;box-sizing: border-box;text-align: center;}#sk-container-id-2 label.sk-toggleable__label-arrow:before {content: \"▸\";float: left;margin-right: 0.25em;color: #696969;}#sk-container-id-2 label.sk-toggleable__label-arrow:hover:before {color: black;}#sk-container-id-2 div.sk-estimator:hover label.sk-toggleable__label-arrow:before {color: black;}#sk-container-id-2 div.sk-toggleable__content {max-height: 0;max-width: 0;overflow: hidden;text-align: left;background-color: #f0f8ff;}#sk-container-id-2 div.sk-toggleable__content pre {margin: 0.2em;color: black;border-radius: 0.25em;background-color: #f0f8ff;}#sk-container-id-2 input.sk-toggleable__control:checked~div.sk-toggleable__content {max-height: 200px;max-width: 100%;overflow: auto;}#sk-container-id-2 input.sk-toggleable__control:checked~label.sk-toggleable__label-arrow:before {content: \"▾\";}#sk-container-id-2 div.sk-estimator input.sk-toggleable__control:checked~label.sk-toggleable__label {background-color: #d4ebff;}#sk-container-id-2 div.sk-label input.sk-toggleable__control:checked~label.sk-toggleable__label {background-color: #d4ebff;}#sk-container-id-2 input.sk-hidden--visually {border: 0;clip: rect(1px 1px 1px 1px);clip: rect(1px, 1px, 1px, 1px);height: 1px;margin: -1px;overflow: hidden;padding: 0;position: absolute;width: 1px;}#sk-container-id-2 div.sk-estimator {font-family: monospace;background-color: #f0f8ff;border: 1px dotted black;border-radius: 0.25em;box-sizing: border-box;margin-bottom: 0.5em;}#sk-container-id-2 div.sk-estimator:hover {background-color: #d4ebff;}#sk-container-id-2 div.sk-parallel-item::after {content: \"\";width: 100%;border-bottom: 1px solid gray;flex-grow: 1;}#sk-container-id-2 div.sk-label:hover label.sk-toggleable__label {background-color: #d4ebff;}#sk-container-id-2 div.sk-serial::before {content: \"\";position: absolute;border-left: 1px solid gray;box-sizing: border-box;top: 0;bottom: 0;left: 50%;z-index: 0;}#sk-container-id-2 div.sk-serial {display: flex;flex-direction: column;align-items: center;background-color: white;padding-right: 0.2em;padding-left: 0.2em;position: relative;}#sk-container-id-2 div.sk-item {position: relative;z-index: 1;}#sk-container-id-2 div.sk-parallel {display: flex;align-items: stretch;justify-content: center;background-color: white;position: relative;}#sk-container-id-2 div.sk-item::before, #sk-container-id-2 div.sk-parallel-item::before {content: \"\";position: absolute;border-left: 1px solid gray;box-sizing: border-box;top: 0;bottom: 0;left: 50%;z-index: -1;}#sk-container-id-2 div.sk-parallel-item {display: flex;flex-direction: column;z-index: 1;position: relative;background-color: white;}#sk-container-id-2 div.sk-parallel-item:first-child::after {align-self: flex-end;width: 50%;}#sk-container-id-2 div.sk-parallel-item:last-child::after {align-self: flex-start;width: 50%;}#sk-container-id-2 div.sk-parallel-item:only-child::after {width: 0;}#sk-container-id-2 div.sk-dashed-wrapped {border: 1px dashed gray;margin: 0 0.4em 0.5em 0.4em;box-sizing: border-box;padding-bottom: 0.4em;background-color: white;}#sk-container-id-2 div.sk-label label {font-family: monospace;font-weight: bold;display: inline-block;line-height: 1.2em;}#sk-container-id-2 div.sk-label-container {text-align: center;}#sk-container-id-2 div.sk-container {/* jupyter's `normalize.less` sets `[hidden] { display: none; }` but bootstrap.min.css set `[hidden] { display: none !important; }` so we also need the `!important` here to be able to override the default hidden behavior on the sphinx rendered scikit-learn.org. See: https://github.com/scikit-learn/scikit-learn/issues/21755 */display: inline-block !important;position: relative;}#sk-container-id-2 div.sk-text-repr-fallback {display: none;}</style><div id=\"sk-container-id-2\" class=\"sk-top-container\"><div class=\"sk-text-repr-fallback\"><pre>PCA(n_components=0.98)</pre><b>In a Jupyter environment, please rerun this cell to show the HTML representation or trust the notebook. <br />On GitHub, the HTML representation is unable to render, please try loading this page with nbviewer.org.</b></div><div class=\"sk-container\" hidden><div class=\"sk-item\"><div class=\"sk-estimator sk-toggleable\"><input class=\"sk-toggleable__control sk-hidden--visually\" id=\"sk-estimator-id-2\" type=\"checkbox\" checked><label for=\"sk-estimator-id-2\" class=\"sk-toggleable__label sk-toggleable__label-arrow\">PCA</label><div class=\"sk-toggleable__content\"><pre>PCA(n_components=0.98)</pre></div></div></div></div></div>"
      ],
      "text/plain": [
       "PCA(n_components=0.98)"
      ]
     },
     "execution_count": 22,
     "metadata": {},
     "output_type": "execute_result"
    }
   ],
   "source": [
    "pca = PCA(n_components=0.98)\n",
    "pca.fit(scaled_data)"
   ]
  },
  {
   "cell_type": "code",
   "execution_count": 25,
   "metadata": {},
   "outputs": [
    {
     "data": {
      "text/plain": [
       "(569, 14)"
      ]
     },
     "execution_count": 25,
     "metadata": {},
     "output_type": "execute_result"
    }
   ],
   "source": [
    "pca.transform(scaled_data).shape"
   ]
  },
  {
   "cell_type": "code",
   "execution_count": 28,
   "metadata": {
    "id": "_QZy_SbUfW97",
    "outputId": "cf0d0cec-dcd1-4633-8165-b5dbcc592b3a"
   },
   "outputs": [],
   "source": [
    "# we can build a classifier on top of cmps\n",
    "y = cancer['target']"
   ]
  },
  {
   "cell_type": "code",
   "execution_count": 30,
   "metadata": {},
   "outputs": [],
   "source": [
    "from sklearn.tree import DecisionTreeClassifier"
   ]
  },
  {
   "cell_type": "code",
   "execution_count": 31,
   "metadata": {},
   "outputs": [],
   "source": [
    "model = DecisionTreeClassifier()"
   ]
  },
  {
   "cell_type": "code",
   "execution_count": 32,
   "metadata": {},
   "outputs": [
    {
     "data": {
      "text/html": [
       "<style>#sk-container-id-3 {color: black;}#sk-container-id-3 pre{padding: 0;}#sk-container-id-3 div.sk-toggleable {background-color: white;}#sk-container-id-3 label.sk-toggleable__label {cursor: pointer;display: block;width: 100%;margin-bottom: 0;padding: 0.3em;box-sizing: border-box;text-align: center;}#sk-container-id-3 label.sk-toggleable__label-arrow:before {content: \"▸\";float: left;margin-right: 0.25em;color: #696969;}#sk-container-id-3 label.sk-toggleable__label-arrow:hover:before {color: black;}#sk-container-id-3 div.sk-estimator:hover label.sk-toggleable__label-arrow:before {color: black;}#sk-container-id-3 div.sk-toggleable__content {max-height: 0;max-width: 0;overflow: hidden;text-align: left;background-color: #f0f8ff;}#sk-container-id-3 div.sk-toggleable__content pre {margin: 0.2em;color: black;border-radius: 0.25em;background-color: #f0f8ff;}#sk-container-id-3 input.sk-toggleable__control:checked~div.sk-toggleable__content {max-height: 200px;max-width: 100%;overflow: auto;}#sk-container-id-3 input.sk-toggleable__control:checked~label.sk-toggleable__label-arrow:before {content: \"▾\";}#sk-container-id-3 div.sk-estimator input.sk-toggleable__control:checked~label.sk-toggleable__label {background-color: #d4ebff;}#sk-container-id-3 div.sk-label input.sk-toggleable__control:checked~label.sk-toggleable__label {background-color: #d4ebff;}#sk-container-id-3 input.sk-hidden--visually {border: 0;clip: rect(1px 1px 1px 1px);clip: rect(1px, 1px, 1px, 1px);height: 1px;margin: -1px;overflow: hidden;padding: 0;position: absolute;width: 1px;}#sk-container-id-3 div.sk-estimator {font-family: monospace;background-color: #f0f8ff;border: 1px dotted black;border-radius: 0.25em;box-sizing: border-box;margin-bottom: 0.5em;}#sk-container-id-3 div.sk-estimator:hover {background-color: #d4ebff;}#sk-container-id-3 div.sk-parallel-item::after {content: \"\";width: 100%;border-bottom: 1px solid gray;flex-grow: 1;}#sk-container-id-3 div.sk-label:hover label.sk-toggleable__label {background-color: #d4ebff;}#sk-container-id-3 div.sk-serial::before {content: \"\";position: absolute;border-left: 1px solid gray;box-sizing: border-box;top: 0;bottom: 0;left: 50%;z-index: 0;}#sk-container-id-3 div.sk-serial {display: flex;flex-direction: column;align-items: center;background-color: white;padding-right: 0.2em;padding-left: 0.2em;position: relative;}#sk-container-id-3 div.sk-item {position: relative;z-index: 1;}#sk-container-id-3 div.sk-parallel {display: flex;align-items: stretch;justify-content: center;background-color: white;position: relative;}#sk-container-id-3 div.sk-item::before, #sk-container-id-3 div.sk-parallel-item::before {content: \"\";position: absolute;border-left: 1px solid gray;box-sizing: border-box;top: 0;bottom: 0;left: 50%;z-index: -1;}#sk-container-id-3 div.sk-parallel-item {display: flex;flex-direction: column;z-index: 1;position: relative;background-color: white;}#sk-container-id-3 div.sk-parallel-item:first-child::after {align-self: flex-end;width: 50%;}#sk-container-id-3 div.sk-parallel-item:last-child::after {align-self: flex-start;width: 50%;}#sk-container-id-3 div.sk-parallel-item:only-child::after {width: 0;}#sk-container-id-3 div.sk-dashed-wrapped {border: 1px dashed gray;margin: 0 0.4em 0.5em 0.4em;box-sizing: border-box;padding-bottom: 0.4em;background-color: white;}#sk-container-id-3 div.sk-label label {font-family: monospace;font-weight: bold;display: inline-block;line-height: 1.2em;}#sk-container-id-3 div.sk-label-container {text-align: center;}#sk-container-id-3 div.sk-container {/* jupyter's `normalize.less` sets `[hidden] { display: none; }` but bootstrap.min.css set `[hidden] { display: none !important; }` so we also need the `!important` here to be able to override the default hidden behavior on the sphinx rendered scikit-learn.org. See: https://github.com/scikit-learn/scikit-learn/issues/21755 */display: inline-block !important;position: relative;}#sk-container-id-3 div.sk-text-repr-fallback {display: none;}</style><div id=\"sk-container-id-3\" class=\"sk-top-container\"><div class=\"sk-text-repr-fallback\"><pre>DecisionTreeClassifier()</pre><b>In a Jupyter environment, please rerun this cell to show the HTML representation or trust the notebook. <br />On GitHub, the HTML representation is unable to render, please try loading this page with nbviewer.org.</b></div><div class=\"sk-container\" hidden><div class=\"sk-item\"><div class=\"sk-estimator sk-toggleable\"><input class=\"sk-toggleable__control sk-hidden--visually\" id=\"sk-estimator-id-3\" type=\"checkbox\" checked><label for=\"sk-estimator-id-3\" class=\"sk-toggleable__label sk-toggleable__label-arrow\">DecisionTreeClassifier</label><div class=\"sk-toggleable__content\"><pre>DecisionTreeClassifier()</pre></div></div></div></div></div>"
      ],
      "text/plain": [
       "DecisionTreeClassifier()"
      ]
     },
     "execution_count": 32,
     "metadata": {},
     "output_type": "execute_result"
    }
   ],
   "source": [
    "model.fit(cmps,y)"
   ]
  },
  {
   "cell_type": "code",
   "execution_count": 33,
   "metadata": {},
   "outputs": [
    {
     "data": {
      "text/plain": [
       "1.0"
      ]
     },
     "execution_count": 33,
     "metadata": {},
     "output_type": "execute_result"
    }
   ],
   "source": [
    "model.score(cmps,y)"
   ]
  },
  {
   "cell_type": "markdown",
   "metadata": {
    "id": "xq1M6TX4gu9i"
   },
   "source": [
    "\n",
    "- Display the PCA component matrix.\n",
    "- Display the explained variance.\n"
   ]
  },
  {
   "cell_type": "code",
   "execution_count": 13,
   "metadata": {
    "id": "GWuYlL-8fW97",
    "outputId": "8ca1e999-8e69-40e1-f76a-7680b8d08ef1"
   },
   "outputs": [
    {
     "data": {
      "text/plain": [
       "array([[ 0.21890244,  0.10372458,  0.22753729,  0.22099499,  0.14258969,\n",
       "         0.23928535,  0.25840048,  0.26085376,  0.13816696,  0.06436335,\n",
       "         0.20597878,  0.01742803,  0.21132592,  0.20286964,  0.01453145,\n",
       "         0.17039345,  0.15358979,  0.1834174 ,  0.04249842,  0.10256832,\n",
       "         0.22799663,  0.10446933,  0.23663968,  0.22487053,  0.12795256,\n",
       "         0.21009588,  0.22876753,  0.25088597,  0.12290456,  0.13178394],\n",
       "       [-0.23385713, -0.05970609, -0.21518136, -0.23107671,  0.18611302,\n",
       "         0.15189161,  0.06016536, -0.0347675 ,  0.19034877,  0.36657547,\n",
       "        -0.10555215,  0.08997968, -0.08945723, -0.15229263,  0.20443045,\n",
       "         0.2327159 ,  0.19720728,  0.13032156,  0.183848  ,  0.28009203,\n",
       "        -0.21986638, -0.0454673 , -0.19987843, -0.21935186,  0.17230435,\n",
       "         0.14359317,  0.09796411, -0.00825724,  0.14188335,  0.27533947]])"
      ]
     },
     "execution_count": 13,
     "metadata": {},
     "output_type": "execute_result"
    }
   ],
   "source": [
    "pca.components_"
   ]
  },
  {
   "cell_type": "code",
   "execution_count": 14,
   "metadata": {
    "id": "E5MkSR4kfW97",
    "outputId": "d87bca4e-40b0-4141-f75b-cecc3a2c1689"
   },
   "outputs": [
    {
     "data": {
      "text/plain": [
       "array([13.30499079,  5.7013746 ])"
      ]
     },
     "execution_count": 14,
     "metadata": {},
     "output_type": "execute_result"
    }
   ],
   "source": [
    "pca.explained_variance_"
   ]
  },
  {
   "cell_type": "markdown",
   "metadata": {
    "id": "J-mSgAWx95dr"
   },
   "source": [
    "##__3. DBSCAN__##"
   ]
  },
  {
   "cell_type": "markdown",
   "metadata": {
    "id": "2UWiMFWK95gg"
   },
   "source": [
    "DBSCAN stands for Density-Based Spatial Clustering of Applications with Noise.\n"
   ]
  },
  {
   "cell_type": "markdown",
   "metadata": {
    "id": "l3Knb0bq95j_"
   },
   "source": [
    "DBSCAN is a popular unsupervised machine learning algorithm primarily used for clustering tasks, where the goal is to group closely packed data points based on some notion of distance.It identifies points that are alone in low-density regions as outliers or noise.\n",
    "\n"
   ]
  },
  {
   "cell_type": "markdown",
   "metadata": {
    "id": "nnm8y03_95mK"
   },
   "source": [
    "Below are the advantages of DBSCAN:\n"
   ]
  },
  {
   "cell_type": "markdown",
   "metadata": {
    "id": "c32Z0AJM95of"
   },
   "source": [
    "- It does not require specifying the number of clusters a priori, unlike K-means.\n",
    "- It can find arbitrarily shaped clusters that other clustering algorithms might not find.\n",
    "- It is robust to outliers; points that don’t belong to a cluster are treated as noise.\n"
   ]
  },
  {
   "cell_type": "markdown",
   "metadata": {
    "id": "aE5ssLCU95rr"
   },
   "source": [
    "DBSCAN is widely used in various domains, such as anomaly detection, spatial data analysis, and image segmentation, due to its simplicity and effectiveness with spatial data.\n"
   ]
  },
  {
   "cell_type": "markdown",
   "metadata": {
    "id": "fXEE4veBChwf"
   },
   "source": [
    "##__4. Correspondence Analysis__##\n"
   ]
  },
  {
   "cell_type": "markdown",
   "metadata": {
    "id": "GB7BQ2ZdChzz"
   },
   "source": [
    "Correspondence analysis is a multivariate statistical tool used to study the associations between two variables.\n",
    "-  It starts with a large table that is difficult to read and ends with a relatively simple visualization.\n",
    "- The analysis is based on the idea of representing the data as points in a low-dimensional space.\n",
    "- These points are then used to visualize the relationships between the different categories of data."
   ]
  },
  {
   "cell_type": "markdown",
   "metadata": {
    "id": "R7jPXeAgCh2F"
   },
   "source": [
    "The primary goal is to represent as much inertia as possible on the first principal axis, the maximum residual inertia on the second principal axis, and so forth.\n"
   ]
  },
  {
   "cell_type": "markdown",
   "metadata": {
    "id": "G8sIQat7Ch4h"
   },
   "source": [
    "The following image shows correspondence analysis done for the traits of certain animals:\n"
   ]
  },
  {
   "cell_type": "markdown",
   "metadata": {
    "id": "l2kR8UqBCh66"
   },
   "source": [
    "![link text](https://labcontent.simplicdn.net/data-content/content-assets/Data_and_AI/ML/New/Lesson_06_Unsupervised_Learning/correspondence_anlysis.png)"
   ]
  },
  {
   "cell_type": "markdown",
   "metadata": {
    "id": "kEQ-FZCXCh9d"
   },
   "source": [
    " In the visualization, animals are plotted in rows, and traits are plotted in columns."
   ]
  },
  {
   "cell_type": "markdown",
   "metadata": {
    "id": "x1N2ratFCiAp"
   },
   "source": [
    "##__5. Correspondence Analysis__##"
   ]
  },
  {
   "cell_type": "markdown",
   "metadata": {
    "id": "21xHv97ECiEI"
   },
   "source": [
    "Correspondence analysis is a statistical method for visualizing the association between categorical variables in a contingency table. For example, correspondence analysis indicates that cats and dogs are most similar, whereas dogs and cockroaches are least similar.\n"
   ]
  },
  {
   "cell_type": "markdown",
   "metadata": {
    "id": "A95LWMiKCiGf"
   },
   "source": [
    "- To compare a row label to a column label, observe the length of the line connecting the row label to the origin.\n",
    "\n",
    "- The longer the line, the stronger the association between the row label and the column label.\n"
   ]
  },
  {
   "cell_type": "markdown",
   "metadata": {
    "id": "JvF7TlTOGtIQ"
   },
   "source": [
    "###__Multiple Correspondence Analysis__###\n",
    "\n",
    "Multiple correspondence analysis (MCA) is an extension of correspondence analysis that explores the relationships among multiple variables.\n"
   ]
  },
  {
   "cell_type": "markdown",
   "metadata": {
    "id": "n4TumPWQGtLn"
   },
   "source": [
    "It helps one conduct correspondence analysis if there is a table with:\n",
    "\n",
    "- At least two rows and two columns\n",
    "- No missing data\n",
    "- No negative values\n",
    "- All the data with the same scale\n"
   ]
  },
  {
   "cell_type": "markdown",
   "metadata": {
    "id": "7XLomh9SGtPK"
   },
   "source": [
    "##__6. Singular Value Decomposition__##\n",
    "\n",
    "Singular Value Decomposition (SVD), a powerful tool in linear algebra, is a data reduction method used in machine learning. It enables the extraction and untangling of information from high-dimensional raw data.\n",
    "\n"
   ]
  },
  {
   "cell_type": "markdown",
   "metadata": {
    "id": "F7DJmKXLGtkX"
   },
   "source": [
    "It is a matrix decomposition technique that decomposes a matrix into three generic and familiar matrices.\n"
   ]
  },
  {
   "cell_type": "markdown",
   "metadata": {
    "id": "slzFBAJsGtoE"
   },
   "source": [
    "![link text](https://labcontent.simplicdn.net/data-content/content-assets/Data_and_AI/ML/New/Lesson_06_Unsupervised_Learning/singular_value_decomposition.png)"
   ]
  },
  {
   "cell_type": "markdown",
   "metadata": {
    "id": "uNRJrAb1CiI8"
   },
   "source": [
    "It makes certain subsequent matrix calculations simpler with matrices that are easy to manipulate and analyze.\n"
   ]
  },
  {
   "cell_type": "markdown",
   "metadata": {
    "id": "fEvdTannUF_T"
   },
   "source": [
    "The formula is as follows:\n"
   ]
  },
  {
   "cell_type": "markdown",
   "metadata": {
    "id": "nDt56cETUGCL"
   },
   "source": [
    "![link text](https://labcontent.simplicdn.net/data-content/content-assets/Data_and_AI/ML/New/Lesson_06_Unsupervised_Learning/svd_formula.png)"
   ]
  },
  {
   "cell_type": "markdown",
   "metadata": {
    "id": "ks8EHqeOUGFS"
   },
   "source": [
    "![link text](https://labcontent.simplicdn.net/data-content/content-assets/Data_and_AI/ML/New/Lesson_06_Unsupervised_Learning/svd_formula2.png)"
   ]
  },
  {
   "cell_type": "markdown",
   "metadata": {
    "id": "RKtkJSh8UGH3"
   },
   "source": [
    "SVD breaks a matrix down into singular vectors.\n"
   ]
  },
  {
   "cell_type": "markdown",
   "metadata": {
    "id": "fcuQ1T5DUGLK"
   },
   "source": [
    "It has uses in machine learning and is the foundation of the recommendation algorithms that power well-known brands, like:\n",
    "- Amazon\n",
    "- Youtube\n",
    "- Google\n",
    "- Facebook"
   ]
  },
  {
   "cell_type": "markdown",
   "metadata": {
    "id": "IdzlwTL_UGOX"
   },
   "source": [
    "Now let's see the implementation of Singular Vector Decomposition."
   ]
  },
  {
   "cell_type": "markdown",
   "metadata": {
    "id": "vvgiRdEShBuE"
   },
   "source": [
    "- Import **pandas** and **NumPy** libraries.\n",
    "- Create the **post_words** DataFrame.\n"
   ]
  },
  {
   "cell_type": "code",
   "execution_count": 15,
   "metadata": {
    "colab": {
     "base_uri": "https://localhost:8080/",
     "height": 238
    },
    "id": "6VnXBMqSg11F",
    "outputId": "4f403ea8-6f93-4bd9-c7b5-3c961cdb9916"
   },
   "outputs": [
    {
     "data": {
      "text/html": [
       "<div>\n",
       "<style scoped>\n",
       "    .dataframe tbody tr th:only-of-type {\n",
       "        vertical-align: middle;\n",
       "    }\n",
       "\n",
       "    .dataframe tbody tr th {\n",
       "        vertical-align: top;\n",
       "    }\n",
       "\n",
       "    .dataframe thead th {\n",
       "        text-align: right;\n",
       "    }\n",
       "</style>\n",
       "<table border=\"1\" class=\"dataframe\">\n",
       "  <thead>\n",
       "    <tr style=\"text-align: right;\">\n",
       "      <th></th>\n",
       "      <th>post1</th>\n",
       "      <th>post2</th>\n",
       "      <th>post3</th>\n",
       "      <th>post4</th>\n",
       "    </tr>\n",
       "    <tr>\n",
       "      <th>word:</th>\n",
       "      <th></th>\n",
       "      <th></th>\n",
       "      <th></th>\n",
       "      <th></th>\n",
       "    </tr>\n",
       "  </thead>\n",
       "  <tbody>\n",
       "    <tr>\n",
       "      <th>ice</th>\n",
       "      <td>4</td>\n",
       "      <td>4</td>\n",
       "      <td>6</td>\n",
       "      <td>2</td>\n",
       "    </tr>\n",
       "    <tr>\n",
       "      <th>snow</th>\n",
       "      <td>6</td>\n",
       "      <td>1</td>\n",
       "      <td>0</td>\n",
       "      <td>5</td>\n",
       "    </tr>\n",
       "    <tr>\n",
       "      <th>tahoe</th>\n",
       "      <td>3</td>\n",
       "      <td>0</td>\n",
       "      <td>0</td>\n",
       "      <td>5</td>\n",
       "    </tr>\n",
       "    <tr>\n",
       "      <th>goal</th>\n",
       "      <td>0</td>\n",
       "      <td>6</td>\n",
       "      <td>5</td>\n",
       "      <td>1</td>\n",
       "    </tr>\n",
       "    <tr>\n",
       "      <th>puck</th>\n",
       "      <td>0</td>\n",
       "      <td>4</td>\n",
       "      <td>5</td>\n",
       "      <td>0</td>\n",
       "    </tr>\n",
       "  </tbody>\n",
       "</table>\n",
       "</div>"
      ],
      "text/plain": [
       "       post1  post2  post3  post4\n",
       "word:                            \n",
       "ice        4      4      6      2\n",
       "snow       6      1      0      5\n",
       "tahoe      3      0      0      5\n",
       "goal       0      6      5      1\n",
       "puck       0      4      5      0"
      ]
     },
     "execution_count": 15,
     "metadata": {},
     "output_type": "execute_result"
    }
   ],
   "source": [
    "import pandas as pd\n",
    "\n",
    "c_names = ['post1', 'post2', 'post3', 'post4']\n",
    "words = ['ice', 'snow', 'tahoe', 'goal', 'puck']\n",
    "post_words = pd.DataFrame([[4, 4, 6, 2],\n",
    "                           [6, 1, 0, 5],\n",
    "                           [3, 0, 0, 5],\n",
    "                           [0, 6, 5, 1],\n",
    "                           [0, 4, 5, 0]],\n",
    "                          index = words,\n",
    "                          columns = c_names)\n",
    "post_words.index.names = ['word:']\n",
    "post_words"
   ]
  },
  {
   "cell_type": "markdown",
   "metadata": {
    "id": "nMA82BNsY-Jq"
   },
   "source": [
    "__Observation:__\n",
    "- Here, you can see the DataFrame with its rows representing different words."
   ]
  },
  {
   "cell_type": "markdown",
   "metadata": {
    "id": "4_09qr7ihQxr"
   },
   "source": [
    "- Create the column space of the data **U** and the row space of the data **V**.\n",
    "- Calculate the SVD using NumPy.\n",
    "- Display the V matrix.\n"
   ]
  },
  {
   "cell_type": "code",
   "execution_count": 16,
   "metadata": {
    "colab": {
     "base_uri": "https://localhost:8080/"
    },
    "id": "EKPPbP-Lg11H",
    "outputId": "f6a2c59e-748f-47c9-f320-b996210f4bd3"
   },
   "outputs": [
    {
     "name": "stdout",
     "output_type": "stream",
     "text": [
      "[[-0.4  -0.57 -0.63 -0.35]\n",
      " [-0.6   0.33  0.41 -0.6 ]\n",
      " [ 0.6  -0.41  0.32 -0.61]\n",
      " [-0.34 -0.63  0.58  0.39]]\n"
     ]
    }
   ],
   "source": [
    "import numpy as np\n",
    "\n",
    "U, sigma, V = np.linalg.svd(post_words)\n",
    "print(np.round(V, decimals=2))"
   ]
  },
  {
   "cell_type": "markdown",
   "metadata": {
    "id": "0OjxveHKadCP"
   },
   "source": [
    "__Observation:__\n",
    "- The diagonal values in **sigma** are always in descending order, and you can see that the vectors are also placed in that corresponding order."
   ]
  },
  {
   "cell_type": "code",
   "execution_count": 17,
   "metadata": {
    "colab": {
     "base_uri": "https://localhost:8080/"
    },
    "id": "wnBqwW02g11P",
    "outputId": "aa3b5cb6-b84f-4411-bda4-2c78306bf287"
   },
   "outputs": [
    {
     "data": {
      "text/plain": [
       "array([13.3221948 ,  9.2609512 ,  2.41918664,  1.37892883])"
      ]
     },
     "execution_count": 17,
     "metadata": {},
     "output_type": "execute_result"
    }
   ],
   "source": [
    "sigma"
   ]
  },
  {
   "cell_type": "markdown",
   "metadata": {
    "id": "7ZIM0_cEd_ZM"
   },
   "source": [
    "__Observation:__\n",
    "- Here, the singular values in sigma have been created."
   ]
  },
  {
   "cell_type": "markdown",
   "metadata": {
    "id": "H5JqPti-hpEM"
   },
   "source": [
    "- Calculate the approximate dataset using the first two components.\n",
    "- Display the approximation and the error from the actual values.\n",
    "\n",
    "\n",
    "\n"
   ]
  },
  {
   "cell_type": "code",
   "execution_count": 18,
   "metadata": {
    "colab": {
     "base_uri": "https://localhost:8080/"
    },
    "id": "4qps1aeAg11Q",
    "outputId": "30eafed6-510a-4981-d0e2-06d65ec55afe"
   },
   "outputs": [
    {
     "name": "stdout",
     "output_type": "stream",
     "text": [
      "A calculated using only the first two components:\n",
      "\n",
      "          post1     post2     post3     post4\n",
      "ice    3.197084  4.818556  5.325736  2.792675\n",
      "snow   5.619793  0.588201  0.384675  5.412204\n",
      "tahoe  4.043943  0.071665 -0.123639  3.917015\n",
      "goal   0.682117  5.089628  5.762122  0.336491\n",
      "puck   0.129398  4.219523  4.799185 -0.143946\n"
     ]
    }
   ],
   "source": [
    "A_approx = np.matrix(U[:, :2]) * np.diag(sigma[:2]) * np.matrix(V[:2, :])\n",
    "\n",
    "print(\"A calculated using only the first two components:\\n\")\n",
    "print(pd.DataFrame(A_approx, index=words, columns=c_names))"
   ]
  },
  {
   "cell_type": "markdown",
   "metadata": {
    "id": "3Ky9GnKWgatP"
   },
   "source": [
    "__Observation:__\n",
    "- A was calculated using only the first two components, and an approximate A was obtained by multiplying the matrix U and V."
   ]
  },
  {
   "cell_type": "code",
   "execution_count": 19,
   "metadata": {
    "colab": {
     "base_uri": "https://localhost:8080/"
    },
    "id": "jdEF3-l9bnX-",
    "outputId": "76faf272-9088-4d28-e207-5a325fed4d87"
   },
   "outputs": [
    {
     "name": "stdout",
     "output_type": "stream",
     "text": [
      "\n",
      "Error from actual value:\n",
      "\n",
      "          post1     post2     post3     post4\n",
      "word:                                        \n",
      "ice    0.802916 -0.818556  0.674264 -0.792675\n",
      "snow   0.380207  0.411799 -0.384675 -0.412204\n",
      "tahoe -1.043943 -0.071665  0.123639  1.082985\n",
      "goal  -0.682117  0.910372 -0.762122  0.663509\n",
      "puck  -0.129398 -0.219523  0.200815  0.143946\n"
     ]
    }
   ],
   "source": [
    "print(\"\\nError from actual value:\\n\")\n",
    "print(post_words - A_approx)"
   ]
  },
  {
   "cell_type": "markdown",
   "metadata": {
    "id": "VTLD3-Xhg0MO"
   },
   "source": [
    "__Observation:__\n",
    "- Here, you can see the difference from the actual by the approximate value of A."
   ]
  },
  {
   "cell_type": "markdown",
   "metadata": {
    "id": "ie6cxIOch3Jk"
   },
   "source": [
    "- Import matplotlib.pyplot.\n",
    "- Plot the V matrix as an image.\n",
    "- Pass the c_names values to the xticks and the words to the yticks.\n",
    "- Initialize ax.\n",
    "- Declare the title as SVD.\n",
    "- Plot the colorbar.\n"
   ]
  },
  {
   "cell_type": "code",
   "execution_count": 20,
   "metadata": {
    "colab": {
     "base_uri": "https://localhost:8080/",
     "height": 452
    },
    "id": "e980_oG1g11Q",
    "outputId": "f6fafd86-a796-4f49-b6e9-bf3dedf5f3d8"
   },
   "outputs": [
    {
     "data": {
      "image/png": "[encoded data removed]",
      "text/plain": [
       "<Figure size 432x288 with 2 Axes>"
      ]
     },
     "metadata": {
      "needs_background": "light"
     },
     "output_type": "display_data"
    }
   ],
   "source": [
    "%matplotlib inline\n",
    "import matplotlib.pyplot as plt\n",
    "\n",
    "plt.imshow(V, interpolation='none')\n",
    "plt.xticks(range(len(c_names)))\n",
    "plt.yticks(range(len(words)))\n",
    "plt.ylim([len(words) - 1.5, -.5])\n",
    "ax = plt.gca()\n",
    "ax.set_xticklabels(c_names)\n",
    "ax.set_yticklabels(range(1, len(words) + 1))\n",
    "plt.title(\"SVD\")\n",
    "plt.colorbar();"
   ]
  },
  {
   "cell_type": "markdown",
   "metadata": {
    "id": "OR3ZcEF_cNC-"
   },
   "source": [
    "__Observations:__\n",
    "- Here, you can see the singular value decomposition plot.\n",
    "- Notice that the lighter blue of post 1 and post 4 of row 1 have similar values."
   ]
  },
  {
   "cell_type": "markdown",
   "metadata": {
    "id": "q5Vj3st8h7kT"
   },
   "source": [
    "- Display the second column of the U matrix.\n"
   ]
  },
  {
   "cell_type": "code",
   "execution_count": 21,
   "metadata": {
    "id": "wMb3R9_bg11R",
    "outputId": "7400c2f5-348f-49e6-a8a1-113ff8ee67c2"
   },
   "outputs": [
    {
     "data": {
      "text/html": [
       "<div>\n",
       "<style scoped>\n",
       "    .dataframe tbody tr th:only-of-type {\n",
       "        vertical-align: middle;\n",
       "    }\n",
       "\n",
       "    .dataframe tbody tr th {\n",
       "        vertical-align: top;\n",
       "    }\n",
       "\n",
       "    .dataframe thead th {\n",
       "        text-align: right;\n",
       "    }\n",
       "</style>\n",
       "<table border=\"1\" class=\"dataframe\">\n",
       "  <thead>\n",
       "    <tr style=\"text-align: right;\">\n",
       "      <th></th>\n",
       "      <th>0</th>\n",
       "    </tr>\n",
       "  </thead>\n",
       "  <tbody>\n",
       "    <tr>\n",
       "      <th>ice</th>\n",
       "      <td>0.018526</td>\n",
       "    </tr>\n",
       "    <tr>\n",
       "      <th>snow</th>\n",
       "      <td>-0.678291</td>\n",
       "    </tr>\n",
       "    <tr>\n",
       "      <th>tahoe</th>\n",
       "      <td>-0.519801</td>\n",
       "    </tr>\n",
       "    <tr>\n",
       "      <th>goal</th>\n",
       "      <td>0.370263</td>\n",
       "    </tr>\n",
       "    <tr>\n",
       "      <th>puck</th>\n",
       "      <td>0.363717</td>\n",
       "    </tr>\n",
       "  </tbody>\n",
       "</table>\n",
       "</div>"
      ],
      "text/plain": [
       "              0\n",
       "ice    0.018526\n",
       "snow  -0.678291\n",
       "tahoe -0.519801\n",
       "goal   0.370263\n",
       "puck   0.363717"
      ]
     },
     "execution_count": 21,
     "metadata": {},
     "output_type": "execute_result"
    }
   ],
   "source": [
    "pd.DataFrame(U[:,1], index=words)"
   ]
  },
  {
   "cell_type": "markdown",
   "metadata": {
    "id": "SkMRuigydHVF"
   },
   "source": [
    "__Observations:__\n",
    "- Here, you can see that snow and tahoe are identical, whereas goal and puck have similar values."
   ]
  },
  {
   "cell_type": "markdown",
   "metadata": {
    "id": "8Z9djDN0dvpF"
   },
   "source": [
    "__Conclusion__\n",
    "\n",
    "This is how you can apply single value decomposition or SVD."
   ]
  },
  {
   "cell_type": "markdown",
   "metadata": {
    "id": "kBBg0GKLUGcl"
   },
   "source": [
    "##__7. Independent Component Analysis__##\n"
   ]
  },
  {
   "cell_type": "markdown",
   "metadata": {
    "id": "HSdIv7v1UGgF"
   },
   "source": [
    "Independent component analysis (ICA) is a machine learning technique used to distinguish independent sources from a mixed signal.\n",
    "While principal component analysis focuses on maximizing the variance of the data points, independent component analysis focuses on the independence of the components.\n"
   ]
  },
  {
   "cell_type": "markdown",
   "metadata": {
    "id": "mQhigX4-UGi2"
   },
   "source": [
    "Example: Microphone placement on the stage of a reality show\n",
    "\n",
    "![link text](https://labcontent.simplicdn.net/data-content/content-assets/Data_and_AI/ML/New/Lesson_06_Unsupervised_Learning/independent_component_analysis.png)"
   ]
  },
  {
   "cell_type": "markdown",
   "metadata": {
    "id": "2-4RC4irYrko"
   },
   "source": [
    "- Number of speakers = Number of microphones\n",
    "- M1, M2, and M3 are microphones installed at different distances from each of them, recording the voice signals passed by them.\n",
    "- P1, P2, and P3 are three people present in the show.\n"
   ]
  },
  {
   "cell_type": "markdown",
   "metadata": {
    "id": "tfypHpbbYrnp"
   },
   "source": [
    "The goal is to separate the three speakers’ voices from the microphone recordings.\n"
   ]
  },
  {
   "cell_type": "markdown",
   "metadata": {
    "id": "1eIiEk3ubjFU"
   },
   "source": [
    "It helps separate the mixed signals of each microphone recording into independent speech signals.\n",
    "\n",
    "![link text](https://labcontent.simplicdn.net/data-content/content-assets/Data_and_AI/ML/updated/Lesson_06/p1p2p3.png"
   ]
  },
  {
   "cell_type": "markdown",
   "metadata": {
    "id": "-U91FjvvYrtI"
   },
   "source": [
    "The features of ICA include:\n",
    "- It segregates the mixed signal into its independent source signals.\n",
    "- It deals with the independent components.\n",
    "- It gives priority to the mutual independence of the components."
   ]
  },
  {
   "cell_type": "markdown",
   "metadata": {
    "id": "RV_YTkCZYrv1"
   },
   "source": [
    "ICA has the following restrictions:\n",
    "- Each independent component created by the ICA is statistically independent of others.\n",
    "- The independent components generated by the ICA are equal to the number of observed mixtures.\n",
    "- The components generated by the ICA have a non-Gaussian distribution.\n"
   ]
  },
  {
   "cell_type": "markdown",
   "metadata": {
    "id": "FGhrnJ0AYrzK"
   },
   "source": [
    "Now let's see the implementation of ICA."
   ]
  },
  {
   "cell_type": "markdown",
   "metadata": {
    "id": "PnVQ-U3Aii0-"
   },
   "source": [
    "- Import **FastICA** from **sklearn.decomposition, matplotlib.pyplot,** and **pandas**.\n",
    "- Configure the matplotlib settings.\n",
    "- Read the input data from a CSV file.\n",
    "- Print the first 10 rows of the data."
   ]
  },
  {
   "cell_type": "code",
   "execution_count": 22,
   "metadata": {
    "colab": {
     "base_uri": "https://localhost:8080/"
    },
    "id": "CbYzpbEViVTL",
    "outputId": "611e980a-5abd-4d1b-988e-0b7fd8dec819"
   },
   "outputs": [
    {
     "name": "stdout",
     "output_type": "stream",
     "text": [
      "   rating  complaints  privileges  learning  raises  critical  advance\n",
      "0      43          51          30        39      61        92       45\n",
      "1      63          64          51        54      63        73       47\n",
      "2      71          70          68        69      76        86       48\n",
      "3      61          63          45        47      54        84       35\n",
      "4      81          78          56        66      71        83       47\n",
      "5      43          55          49        44      54        49       34\n",
      "6      58          67          42        56      66        68       35\n",
      "7      71          75          50        55      70        66       41\n",
      "8      72          82          72        67      71        83       31\n",
      "9      67          61          45        47      62        80       41\n"
     ]
    }
   ],
   "source": [
    "%matplotlib inline\n",
    "from sklearn.decomposition import FastICA\n",
    "import matplotlib.pyplot as plt\n",
    "import pandas as pd\n",
    "InpData=pd.read_csv('SurveyData.csv')\n",
    "print(InpData.head(10))"
   ]
  },
  {
   "cell_type": "markdown",
   "metadata": {
    "id": "xhUXFEiAXA9P"
   },
   "source": [
    "__Observation:__\n",
    "- The first ten rows of the dataset are displayed here."
   ]
  },
  {
   "cell_type": "code",
   "execution_count": 23,
   "metadata": {
    "colab": {
     "base_uri": "https://localhost:8080/"
    },
    "id": "k4hJ4cnPS9GN",
    "outputId": "e65c1bb7-2ff9-4387-abb8-949f89835302"
   },
   "outputs": [
    {
     "name": "stdout",
     "output_type": "stream",
     "text": [
      "<class 'pandas.core.frame.DataFrame'>\n",
      "RangeIndex: 30 entries, 0 to 29\n",
      "Data columns (total 7 columns):\n",
      " #   Column      Non-Null Count  Dtype\n",
      "---  ------      --------------  -----\n",
      " 0   rating      30 non-null     int64\n",
      " 1   complaints  30 non-null     int64\n",
      " 2   privileges  30 non-null     int64\n",
      " 3   learning    30 non-null     int64\n",
      " 4   raises      30 non-null     int64\n",
      " 5   critical    30 non-null     int64\n",
      " 6   advance     30 non-null     int64\n",
      "dtypes: int64(7)\n",
      "memory usage: 1.8 KB\n"
     ]
    }
   ],
   "source": [
    "InpData.info()"
   ]
  },
  {
   "cell_type": "markdown",
   "metadata": {
    "id": "Ef5sMVKHUMi8"
   },
   "source": [
    "__Observation:__\n",
    "- You can see that there are no missing values."
   ]
  },
  {
   "cell_type": "markdown",
   "metadata": {
    "id": "7BU6ThbBisPV"
   },
   "source": [
    "- Create an ICA object with two components.\n",
    "- Fit and transform the input data using the ICA object."
   ]
  },
  {
   "cell_type": "code",
   "execution_count": 24,
   "metadata": {
    "id": "5MlVT4TIiVTN"
   },
   "outputs": [],
   "source": [
    "ICA = FastICA(n_components=2, whiten='unit-variance')\n",
    "IndependentComp_values = ICA.fit_transform(InpData.values)"
   ]
  },
  {
   "cell_type": "markdown",
   "metadata": {
    "id": "EtGLx6tx5vQY"
   },
   "source": [
    "- Print the independent component.\n",
    "- Create a DataFrame with column names **Independent component 1 and 2.**"
   ]
  },
  {
   "cell_type": "code",
   "execution_count": 25,
   "metadata": {
    "colab": {
     "base_uri": "https://localhost:8080/"
    },
    "id": "ZLMlKXPvVMBx",
    "outputId": "8678b9bb-db6b-4472-f1fa-f5d54d287421"
   },
   "outputs": [
    {
     "name": "stdout",
     "output_type": "stream",
     "text": [
      "##final Independent Components##\n",
      "        IC1       IC2\n",
      "0 -1.766163 -1.217184\n",
      "1 -0.264297 -0.134367\n",
      "2 -0.691836  1.105086\n",
      "3  0.186171 -0.706382\n",
      "4  0.317359  0.981930\n",
      "5  0.446568 -1.496487\n",
      "6  0.457773 -0.480947\n",
      "7  0.886442  0.143353\n",
      "8  0.929591  0.934783\n",
      "9  0.003783 -0.433353\n"
     ]
    }
   ],
   "source": [
    "print('##final Independent Components##')\n",
    "reducedata = pd.DataFrame(data=IndependentComp_values, columns=['IC1', 'IC2'])\n",
    "print(reducedata.head(10))"
   ]
  },
  {
   "cell_type": "markdown",
   "metadata": {
    "id": "BYvt_yBUWBXH"
   },
   "source": [
    "__Observations:__\n",
    "- As you can see, here you have created a DataFrame with independent components.\n",
    "- The first ten rows of the reduced data are displayed."
   ]
  },
  {
   "cell_type": "markdown",
   "metadata": {
    "id": "UBLxDd3yXIWG"
   },
   "source": [
    "##__8. Balanced Iterative Reducing and Clustering Using Hierarchies (BIRCH)__##"
   ]
  },
  {
   "cell_type": "markdown",
   "metadata": {
    "id": "iTZJoaUZXIZ9"
   },
   "source": [
    "It is an unsupervised clustering algorithm developed to process massive datasets. It then clusters this compact summary instead of the large dataset."
   ]
  },
  {
   "cell_type": "markdown",
   "metadata": {
    "id": "sL39pAzrXIdF"
   },
   "source": [
    "The algorithm is based on the following components:\n",
    "- Clustering Feature\n",
    "- Clustering Feature (CF) Tree\n"
   ]
  },
  {
   "cell_type": "markdown",
   "metadata": {
    "id": "tqtPm0ahXIgD"
   },
   "source": [
    "The clustering feature entry is a triplet of N, LS, and SS.\n",
    "\n",
    "N = Number of data points in a cluster\n",
    "\n",
    "LS = Linear sum of the data points\n",
    "\n",
    "SS = Squared sum of the data points in the cluster\n",
    "\n",
    "In this example:\n",
    "\n",
    "CF = (N, LS, SS) = (5, (21,21), (91,102))\n"
   ]
  },
  {
   "cell_type": "markdown",
   "metadata": {
    "id": "5UqkDn-fZDBn"
   },
   "source": [
    "###__Clustering Feature Tree__###\n"
   ]
  },
  {
   "cell_type": "markdown",
   "metadata": {
    "id": "2I9iCvvaXIi0"
   },
   "source": [
    "A clustering feature tree is a tree with leaf and non-leaf nodes where each leaf node contains a subcluster.\n"
   ]
  },
  {
   "cell_type": "markdown",
   "metadata": {
    "id": "F818FzdnXImE"
   },
   "source": [
    "![link text](https://labcontent.simplicdn.net/data-content/content-assets/Data_and_AI/ML/New/Lesson_06_Unsupervised_Learning/clustering_feature_tree.png)"
   ]
  },
  {
   "cell_type": "markdown",
   "metadata": {
    "id": "OOOQcncpXIo5"
   },
   "source": [
    "Each entry of a CF tree has a pointer to the child node.\n",
    "The CF tree entry is made by the sum of CF entries in the child node.\n"
   ]
  },
  {
   "cell_type": "markdown",
   "metadata": {
    "id": "WfkuveQyXIrp"
   },
   "source": [
    "The BIRCH algorithm has four phases:\n",
    "\n",
    "- Data scanning: The model loads data and then scans it, fitting it into CF trees.\n",
    "\n",
    "- Data condensing: The algorithm adjusts the data size for better fitting into the CF tree.\n",
    "\n",
    "- Global clustering: Using an existing algorithm, the CF trees undergo clustering.\n",
    "\n",
    "- Clustering refinement: The algorithm corrects all incorrect assignments of observations.\n",
    "\n"
   ]
  },
  {
   "cell_type": "markdown",
   "metadata": {
    "id": "ZM0jl9kLXIuj"
   },
   "source": [
    "The BIRCH algorithm has three parameters, they are:\n",
    "\n",
    "- Threshold: Indicates the maximum number of observations that a subcluster can have\n",
    "\n",
    "- Branching factor: Represents the number of CF subclusters in a node\n",
    "\n",
    "- N clusters: Indicates the number of clusters\n"
   ]
  },
  {
   "cell_type": "markdown",
   "metadata": {
    "id": "2HO7hgGGaGOd"
   },
   "source": [
    "Now let's see the implementation of BIRCH."
   ]
  },
  {
   "cell_type": "markdown",
   "metadata": {
    "id": "ZYUnOOXxkGR8"
   },
   "source": [
    "- Import the **NumPy, matplotlib.pyplot, Seaborn**, and  **sklearn** libraries.\n"
   ]
  },
  {
   "cell_type": "code",
   "execution_count": null,
   "metadata": {
    "id": "F3q0Fq4Lj0CS"
   },
   "outputs": [],
   "source": [
    "import numpy as np\n",
    "from matplotlib import pyplot as plt\n",
    "import seaborn as sns\n",
    "sns.set()\n",
    "from sklearn.datasets import make_blobs\n",
    "from sklearn.cluster import Birch"
   ]
  },
  {
   "cell_type": "markdown",
   "metadata": {
    "id": "VjBcw_ddkMC3"
   },
   "source": [
    "- Generate a dataset with blobs using the **make_blobs** function.\n",
    "- Plot the data points using a scatterplot.\n"
   ]
  },
  {
   "cell_type": "code",
   "execution_count": null,
   "metadata": {
    "colab": {
     "base_uri": "https://localhost:8080/",
     "height": 452
    },
    "id": "G17ETv7Hj0CT",
    "outputId": "21a61e5d-267b-4984-ecff-8359b8a8aaf0"
   },
   "outputs": [],
   "source": [
    "X, clusters = make_blobs(n_samples=450, centers=6, cluster_std=0.70, random_state=0)\n",
    "plt.scatter(X[:,0], X[:,1], alpha=0.7, edgecolors='b')"
   ]
  },
  {
   "cell_type": "markdown",
   "metadata": {
    "id": "SpzY7Qw5LHQz"
   },
   "source": [
    "__Observation:__\n",
    "- You can see the scatter plot for X attributes.\n",
    "- Here, the data has been divided into six different clusters."
   ]
  },
  {
   "cell_type": "markdown",
   "metadata": {
    "id": "foWoIr3OkTh7"
   },
   "source": [
    "- Create an instance of the BIRCH clustering model.\n",
    "- Fit the model to the data.\n"
   ]
  },
  {
   "cell_type": "code",
   "execution_count": null,
   "metadata": {
    "colab": {
     "base_uri": "https://localhost:8080/",
     "height": 75
    },
    "id": "o5a9iIU1j0CU",
    "outputId": "dfa13bd0-0867-4884-ceda-70dd025a8cf1"
   },
   "outputs": [],
   "source": [
    " brc = Birch(branching_factor = 50, n_clusters = None, threshold = 1.5)\n",
    "brc.fit(X)"
   ]
  },
  {
   "cell_type": "markdown",
   "metadata": {
    "id": "Z1pI-S1-OtBt"
   },
   "source": [
    "__Observation:__\n",
    "- The BIRCH model has been created here."
   ]
  },
  {
   "cell_type": "code",
   "execution_count": null,
   "metadata": {
    "id": "rSon_jtFNRfh"
   },
   "outputs": [],
   "source": [
    "Birch(n_clusters=None, threshold=1.5)\n",
    "labels = brc.predict(X)"
   ]
  },
  {
   "cell_type": "code",
   "execution_count": null,
   "metadata": {
    "colab": {
     "base_uri": "https://localhost:8080/",
     "height": 452
    },
    "id": "4F8deQ6NNh3W",
    "outputId": "fba10a39-589f-48b6-d216-e5f2f74669ce"
   },
   "outputs": [],
   "source": [
    "plt.scatter(X[:, 0], X[:, 1], c=labels, cmap='rainbow', alpha=0.7, edgecolors='b')"
   ]
  },
  {
   "cell_type": "markdown",
   "metadata": {
    "id": "6TXCmHVnODD0"
   },
   "source": [
    "__Observations:__\n",
    "- Here, you can see the scatter plot with six clusters.\n",
    "- The algorithm has created six different clusters based on the dataset.\n",
    "- This is how you can implement BIRCH to create different clusters."
   ]
  },
  {
   "cell_type": "markdown",
   "metadata": {
    "id": "I50z_LkaaGUp"
   },
   "source": [
    "##__Conclusion__##"
   ]
  },
  {
   "cell_type": "markdown",
   "metadata": {
    "id": "SxgU44avaGXf"
   },
   "source": [
    "\n",
    "In conclusion, unsupervised learning techniques are powerful tools for exploring and extracting meaningful insights from unlabeled data. By allowing algorithms to autonomously identify patterns and structures within datasets, you can uncover hidden relationships, detect anomalies, and gain a deeper understanding of the underlying data distribution. From clustering and dimensionality reduction to association rule learning, the applications of unsupervised learning are vast and diverse, spanning fields such as data analysis, pattern recognition, and anomaly detection."
   ]
  },
  {
   "cell_type": "markdown",
   "metadata": {},
   "source": [
    "# Classifier with PCA"
   ]
  },
  {
   "cell_type": "code",
   "execution_count": 34,
   "metadata": {},
   "outputs": [],
   "source": [
    "import matplotlib.pyplot as plt\n",
    "import pandas as pd\n",
    "import numpy as np\n",
    "%matplotlib inline\n",
    "\n",
    "from sklearn.datasets import load_breast_cancer\n",
    "cancer = load_breast_cancer()"
   ]
  },
  {
   "cell_type": "code",
   "execution_count": 35,
   "metadata": {},
   "outputs": [],
   "source": [
    "X = cancer['data']\n",
    "y = cancer['target']"
   ]
  },
  {
   "cell_type": "code",
   "execution_count": 38,
   "metadata": {},
   "outputs": [],
   "source": [
    "from sklearn.model_selection import train_test_split"
   ]
  },
  {
   "cell_type": "code",
   "execution_count": 39,
   "metadata": {},
   "outputs": [],
   "source": [
    "x_train,x_test, y_train,y_test = train_test_split(X,y,random_state=0)"
   ]
  },
  {
   "cell_type": "code",
   "execution_count": 49,
   "metadata": {},
   "outputs": [],
   "source": [
    "from sklearn.pipeline import Pipeline\n",
    "from sklearn.decomposition import PCA\n",
    "from sklearn.preprocessing import StandardScaler\n",
    "from sklearn.tree import DecisionTreeClassifier\n",
    "pipeline_process_steps = [('scale',StandardScaler()),('dr',PCA(n_components=0.99)),('clf',DecisionTreeClassifier())]"
   ]
  },
  {
   "cell_type": "code",
   "execution_count": 50,
   "metadata": {},
   "outputs": [
    {
     "data": {
      "text/html": [
       "<style>#sk-container-id-7 {color: black;}#sk-container-id-7 pre{padding: 0;}#sk-container-id-7 div.sk-toggleable {background-color: white;}#sk-container-id-7 label.sk-toggleable__label {cursor: pointer;display: block;width: 100%;margin-bottom: 0;padding: 0.3em;box-sizing: border-box;text-align: center;}#sk-container-id-7 label.sk-toggleable__label-arrow:before {content: \"▸\";float: left;margin-right: 0.25em;color: #696969;}#sk-container-id-7 label.sk-toggleable__label-arrow:hover:before {color: black;}#sk-container-id-7 div.sk-estimator:hover label.sk-toggleable__label-arrow:before {color: black;}#sk-container-id-7 div.sk-toggleable__content {max-height: 0;max-width: 0;overflow: hidden;text-align: left;background-color: #f0f8ff;}#sk-container-id-7 div.sk-toggleable__content pre {margin: 0.2em;color: black;border-radius: 0.25em;background-color: #f0f8ff;}#sk-container-id-7 input.sk-toggleable__control:checked~div.sk-toggleable__content {max-height: 200px;max-width: 100%;overflow: auto;}#sk-container-id-7 input.sk-toggleable__control:checked~label.sk-toggleable__label-arrow:before {content: \"▾\";}#sk-container-id-7 div.sk-estimator input.sk-toggleable__control:checked~label.sk-toggleable__label {background-color: #d4ebff;}#sk-container-id-7 div.sk-label input.sk-toggleable__control:checked~label.sk-toggleable__label {background-color: #d4ebff;}#sk-container-id-7 input.sk-hidden--visually {border: 0;clip: rect(1px 1px 1px 1px);clip: rect(1px, 1px, 1px, 1px);height: 1px;margin: -1px;overflow: hidden;padding: 0;position: absolute;width: 1px;}#sk-container-id-7 div.sk-estimator {font-family: monospace;background-color: #f0f8ff;border: 1px dotted black;border-radius: 0.25em;box-sizing: border-box;margin-bottom: 0.5em;}#sk-container-id-7 div.sk-estimator:hover {background-color: #d4ebff;}#sk-container-id-7 div.sk-parallel-item::after {content: \"\";width: 100%;border-bottom: 1px solid gray;flex-grow: 1;}#sk-container-id-7 div.sk-label:hover label.sk-toggleable__label {background-color: #d4ebff;}#sk-container-id-7 div.sk-serial::before {content: \"\";position: absolute;border-left: 1px solid gray;box-sizing: border-box;top: 0;bottom: 0;left: 50%;z-index: 0;}#sk-container-id-7 div.sk-serial {display: flex;flex-direction: column;align-items: center;background-color: white;padding-right: 0.2em;padding-left: 0.2em;position: relative;}#sk-container-id-7 div.sk-item {position: relative;z-index: 1;}#sk-container-id-7 div.sk-parallel {display: flex;align-items: stretch;justify-content: center;background-color: white;position: relative;}#sk-container-id-7 div.sk-item::before, #sk-container-id-7 div.sk-parallel-item::before {content: \"\";position: absolute;border-left: 1px solid gray;box-sizing: border-box;top: 0;bottom: 0;left: 50%;z-index: -1;}#sk-container-id-7 div.sk-parallel-item {display: flex;flex-direction: column;z-index: 1;position: relative;background-color: white;}#sk-container-id-7 div.sk-parallel-item:first-child::after {align-self: flex-end;width: 50%;}#sk-container-id-7 div.sk-parallel-item:last-child::after {align-self: flex-start;width: 50%;}#sk-container-id-7 div.sk-parallel-item:only-child::after {width: 0;}#sk-container-id-7 div.sk-dashed-wrapped {border: 1px dashed gray;margin: 0 0.4em 0.5em 0.4em;box-sizing: border-box;padding-bottom: 0.4em;background-color: white;}#sk-container-id-7 div.sk-label label {font-family: monospace;font-weight: bold;display: inline-block;line-height: 1.2em;}#sk-container-id-7 div.sk-label-container {text-align: center;}#sk-container-id-7 div.sk-container {/* jupyter's `normalize.less` sets `[hidden] { display: none; }` but bootstrap.min.css set `[hidden] { display: none !important; }` so we also need the `!important` here to be able to override the default hidden behavior on the sphinx rendered scikit-learn.org. See: https://github.com/scikit-learn/scikit-learn/issues/21755 */display: inline-block !important;position: relative;}#sk-container-id-7 div.sk-text-repr-fallback {display: none;}</style><div id=\"sk-container-id-7\" class=\"sk-top-container\"><div class=\"sk-text-repr-fallback\"><pre>Pipeline(steps=[(&#x27;scale&#x27;, StandardScaler()), (&#x27;dr&#x27;, PCA(n_components=0.99)),\n",
       "                (&#x27;clf&#x27;, DecisionTreeClassifier())])</pre><b>In a Jupyter environment, please rerun this cell to show the HTML representation or trust the notebook. <br />On GitHub, the HTML representation is unable to render, please try loading this page with nbviewer.org.</b></div><div class=\"sk-container\" hidden><div class=\"sk-item sk-dashed-wrapped\"><div class=\"sk-label-container\"><div class=\"sk-label sk-toggleable\"><input class=\"sk-toggleable__control sk-hidden--visually\" id=\"sk-estimator-id-16\" type=\"checkbox\" ><label for=\"sk-estimator-id-16\" class=\"sk-toggleable__label sk-toggleable__label-arrow\">Pipeline</label><div class=\"sk-toggleable__content\"><pre>Pipeline(steps=[(&#x27;scale&#x27;, StandardScaler()), (&#x27;dr&#x27;, PCA(n_components=0.99)),\n",
       "                (&#x27;clf&#x27;, DecisionTreeClassifier())])</pre></div></div></div><div class=\"sk-serial\"><div class=\"sk-item\"><div class=\"sk-estimator sk-toggleable\"><input class=\"sk-toggleable__control sk-hidden--visually\" id=\"sk-estimator-id-17\" type=\"checkbox\" ><label for=\"sk-estimator-id-17\" class=\"sk-toggleable__label sk-toggleable__label-arrow\">StandardScaler</label><div class=\"sk-toggleable__content\"><pre>StandardScaler()</pre></div></div></div><div class=\"sk-item\"><div class=\"sk-estimator sk-toggleable\"><input class=\"sk-toggleable__control sk-hidden--visually\" id=\"sk-estimator-id-18\" type=\"checkbox\" ><label for=\"sk-estimator-id-18\" class=\"sk-toggleable__label sk-toggleable__label-arrow\">PCA</label><div class=\"sk-toggleable__content\"><pre>PCA(n_components=0.99)</pre></div></div></div><div class=\"sk-item\"><div class=\"sk-estimator sk-toggleable\"><input class=\"sk-toggleable__control sk-hidden--visually\" id=\"sk-estimator-id-19\" type=\"checkbox\" ><label for=\"sk-estimator-id-19\" class=\"sk-toggleable__label sk-toggleable__label-arrow\">DecisionTreeClassifier</label><div class=\"sk-toggleable__content\"><pre>DecisionTreeClassifier()</pre></div></div></div></div></div></div></div>"
      ],
      "text/plain": [
       "Pipeline(steps=[('scale', StandardScaler()), ('dr', PCA(n_components=0.99)),\n",
       "                ('clf', DecisionTreeClassifier())])"
      ]
     },
     "execution_count": 50,
     "metadata": {},
     "output_type": "execute_result"
    }
   ],
   "source": [
    "model = Pipeline(steps=pipeline_process_steps)\n",
    "model.fit(x_train,y_train)"
   ]
  },
  {
   "cell_type": "code",
   "execution_count": 51,
   "metadata": {},
   "outputs": [
    {
     "name": "stdout",
     "output_type": "stream",
     "text": [
      "Train Score:  1.0\n",
      "Test Score:  0.8951048951048951\n"
     ]
    }
   ],
   "source": [
    "print(\"Train Score: \",model.score(x_train,y_train))\n",
    "print(\"Test Score: \",model.score(x_test,y_test))"
   ]
  },
  {
   "cell_type": "code",
   "execution_count": 59,
   "metadata": {},
   "outputs": [
    {
     "data": {
      "text/plain": [
       "array([[ 2.21365239e-01,  1.00002186e-01,  2.29518109e-01,\n",
       "         2.23520981e-01,  1.43022884e-01,  2.42110713e-01,\n",
       "         2.60269250e-01,  2.64252721e-01,  1.34215403e-01,\n",
       "         5.85049993e-02,  2.06864788e-01,  7.29622255e-03,\n",
       "         2.09874216e-01,  2.02238408e-01,  1.72518718e-02,\n",
       "         1.66390255e-01,  1.38559209e-01,  1.79940925e-01,\n",
       "         2.94390431e-02,  1.01929667e-01,  2.30419562e-01,\n",
       "         1.00571999e-01,  2.37796607e-01,  2.27510089e-01,\n",
       "         1.31359787e-01,  2.10778835e-01,  2.30141898e-01,\n",
       "         2.53344062e-01,  1.19116509e-01,  1.30882592e-01],\n",
       "       [-2.30173200e-01, -5.72175515e-02, -2.13355030e-01,\n",
       "        -2.26935339e-01,  1.78770408e-01,  1.47448613e-01,\n",
       "         6.55746283e-02, -3.13406669e-02,  1.90507115e-01,\n",
       "         3.63961224e-01, -1.05013647e-01,  9.39735986e-02,\n",
       "        -9.74743957e-02, -1.49610324e-01,  2.12040027e-01,\n",
       "         2.35434997e-01,  2.10509206e-01,  1.52280137e-01,\n",
       "         1.81074900e-01,  2.78679424e-01, -2.15982904e-01,\n",
       "        -4.24949684e-02, -2.00035990e-01, -2.15181923e-01,\n",
       "         1.71468563e-01,  1.38831730e-01,  1.05033622e-01,\n",
       "         6.40329376e-04,  1.40657666e-01,  2.73186544e-01],\n",
       "       [-5.09146639e-03,  2.95219102e-02, -5.35984824e-03,\n",
       "         3.64872826e-02, -9.76061178e-02, -7.56281849e-02,\n",
       "         2.25777028e-02, -1.69771209e-02, -3.70078138e-02,\n",
       "        -2.54673100e-02,  2.80308925e-01,  3.48764868e-01,\n",
       "         2.74210163e-01,  2.32685298e-01,  2.94564117e-01,\n",
       "         1.59979107e-01,  1.91332037e-01,  2.12032925e-01,\n",
       "         2.88011717e-01,  2.12034692e-01, -4.64343464e-02,\n",
       "        -8.28480024e-02, -4.63440319e-02, -6.32639693e-03,\n",
       "        -2.64083982e-01, -2.45597219e-01, -1.63048941e-01,\n",
       "        -1.74418762e-01, -2.73132934e-01, -2.35424811e-01],\n",
       "       [-5.09750137e-02,  6.09643449e-01, -5.05442992e-02,\n",
       "        -5.19396959e-02, -9.90956857e-02, -3.43388160e-02,\n",
       "        -2.03792551e-02, -4.85682624e-02, -4.82936670e-02,\n",
       "        -3.33058678e-02, -5.61443640e-02,  4.09044347e-01,\n",
       "        -5.41910430e-02, -7.10889232e-02,  2.28841721e-02,\n",
       "         4.04038956e-03, -3.48240995e-02, -8.96070976e-02,\n",
       "        -4.47157568e-02, -2.73515484e-02, -1.63694522e-02,\n",
       "         6.34748740e-01, -1.69618164e-02, -1.44718484e-02,\n",
       "         3.18140229e-02,  5.49674834e-02,  4.24308399e-02,\n",
       "        -1.88766860e-02,  9.67337668e-03,  4.82147608e-02],\n",
       "       [ 2.91674793e-02,  1.63422384e-02,  2.87254429e-02,\n",
       "        -8.79337712e-05, -3.87189925e-01,  9.00146532e-04,\n",
       "         9.13549118e-02, -4.92250615e-02, -2.90281096e-01,\n",
       "        -5.56708996e-02, -1.59698300e-01, -1.34902267e-01,\n",
       "        -1.34796845e-01, -1.41007648e-01, -2.75448115e-01,\n",
       "         2.71368637e-01,  3.61360912e-01,  2.02067692e-01,\n",
       "        -2.67865520e-01,  2.52035781e-01, -1.37950482e-03,\n",
       "        -1.26066877e-02,  6.91797569e-03, -2.52811454e-02,\n",
       "        -3.13514426e-01,  1.12234403e-01,  2.01152630e-01,\n",
       "         4.44252770e-02, -2.26149739e-01,  8.20881806e-02],\n",
       "       [ 1.95382098e-02,  3.35010358e-02,  1.55094885e-02,\n",
       "        -3.06876780e-03, -2.93046725e-01, -3.36569227e-02,\n",
       "        -1.54231618e-02, -4.92546020e-02,  3.79266059e-01,\n",
       "        -1.43907450e-01, -2.65867058e-02, -3.18141309e-02,\n",
       "        -2.33390764e-02, -5.69970898e-02, -2.97493845e-01,\n",
       "         6.05385639e-02,  4.71977007e-02, -1.98387425e-02,\n",
       "         4.83927792e-01, -2.99046124e-02,  9.89299672e-03,\n",
       "         3.41203682e-03,  1.25825935e-02, -1.80108943e-02,\n",
       "        -3.48935668e-01,  3.72397718e-02,  2.27132909e-02,\n",
       "        -1.34670780e-02,  5.26499723e-01, -8.36959074e-02],\n",
       "       [-1.21655536e-01,  1.03066557e-02, -1.13345255e-01,\n",
       "        -5.00700298e-02, -1.62539511e-01,  2.44949972e-02,\n",
       "        -1.14148335e-01, -1.68051195e-01, -1.47739423e-01,\n",
       "         2.79463163e-01,  2.98792858e-01, -1.21849790e-01,\n",
       "         3.15991894e-01,  3.45269427e-01, -2.29018155e-01,\n",
       "         3.31841941e-02, -1.74142146e-01, -3.69009155e-01,\n",
       "        -1.76579535e-02,  1.73694809e-01, -1.53650775e-02,\n",
       "         1.20653466e-02, -8.77760842e-03,  5.64031412e-02,\n",
       "        -9.67595705e-02,  1.74256922e-01, -5.10813832e-02,\n",
       "        -1.65397996e-01,  2.16952274e-02,  3.92436714e-01],\n",
       "       [-3.21272938e-02, -1.36249210e-01, -2.33421978e-02,\n",
       "        -6.19314413e-02,  2.80005622e-01,  9.28565119e-02,\n",
       "         7.52734443e-02,  1.25971876e-01,  3.33399140e-01,\n",
       "         1.49742351e-01,  5.50173009e-02,  4.27396258e-01,\n",
       "         4.58221099e-02, -1.31406389e-02, -5.81597286e-01,\n",
       "        -1.52964908e-01, -2.52650260e-03,  6.02893094e-02,\n",
       "        -3.01907420e-01,  4.68110174e-02, -4.41583275e-02,\n",
       "        -1.47859364e-02, -3.90464478e-02, -6.49012885e-02,\n",
       "        -1.98045206e-01, -1.18044798e-01, -7.14918348e-02,\n",
       "         1.41667080e-02, -1.38743326e-01, -4.07555657e-02],\n",
       "       [-2.09257104e-01,  1.44542144e-01, -2.11253269e-01,\n",
       "        -1.71417276e-01,  2.11920798e-02, -1.86197824e-01,\n",
       "         1.99814139e-02, -1.51610284e-01,  1.81275323e-01,\n",
       "        -1.31348521e-01,  2.40206713e-01, -3.44453804e-01,\n",
       "         2.26817714e-01,  2.46711925e-01, -7.25438309e-02,\n",
       "        -1.44073854e-01,  3.57408796e-01,  2.66180880e-01,\n",
       "        -2.39651720e-01, -2.07698691e-01, -1.03109657e-01,\n",
       "         1.20843696e-01, -1.02236477e-01, -6.18821658e-02,\n",
       "         1.65711333e-01, -1.08797684e-01,  1.68947047e-01,\n",
       "         3.34291726e-02,  1.04070658e-01, -1.39784626e-01],\n",
       "       [-6.69853377e-02, -2.61333670e-01, -6.96870336e-02,\n",
       "        -4.57026992e-02,  1.33340443e-01, -1.04573220e-01,\n",
       "         1.53719934e-01,  4.59000636e-03, -5.61145942e-01,\n",
       "        -5.54510481e-02,  3.71268531e-02,  3.21805979e-01,\n",
       "         4.64071340e-02,  4.49860034e-02, -2.27003901e-01,\n",
       "        -1.40341248e-01,  2.14850304e-01, -9.94388771e-02,\n",
       "         3.36882041e-01, -2.32489610e-01, -3.54753730e-02,\n",
       "         4.67489290e-03, -3.70462578e-02, -3.31503801e-02,\n",
       "         1.22096347e-01,  5.80818234e-02,  3.18602220e-01,\n",
       "         9.31465797e-02,  1.14071079e-01, -2.80601816e-02],\n",
       "       [ 9.53932157e-02, -4.00171032e-02,  6.41735923e-02,\n",
       "         1.49753518e-01,  2.15926412e-02, -3.19418416e-01,\n",
       "         6.30464902e-02, -6.32726624e-02,  6.42478637e-02,\n",
       "         1.17004856e-01, -5.59326634e-02, -8.36772687e-03,\n",
       "        -2.08638027e-01,  6.48189706e-03,  4.86497026e-03,\n",
       "        -2.99559004e-01,  3.55974990e-01, -2.41088557e-01,\n",
       "        -1.44762139e-02,  4.54102417e-01,  1.46670639e-01,\n",
       "         6.67277416e-02,  7.39288290e-02,  2.12569624e-01,\n",
       "         1.70282972e-01, -3.82315594e-01,  8.53316696e-03,\n",
       "        -1.43610913e-01,  1.49999441e-01,  1.08163532e-01],\n",
       "       [ 3.97739766e-02,  3.41166968e-01,  3.71246576e-02,\n",
       "        -1.86682999e-02,  3.96180457e-01,  5.31537103e-02,\n",
       "        -1.16614883e-01,  4.67452496e-02, -3.12205513e-01,\n",
       "         1.41420287e-01,  7.48435356e-03, -3.68932366e-01,\n",
       "         4.00348997e-03, -1.02060871e-01, -3.34318735e-01,\n",
       "        -2.05511568e-02, -7.27735303e-02,  2.65403012e-01,\n",
       "         3.35436496e-01,  1.87906598e-01,  1.05253493e-02,\n",
       "         6.81515550e-02,  1.14814277e-03, -5.48532743e-02,\n",
       "        -1.69316877e-02, -1.71886777e-01, -2.43164124e-01,\n",
       "         3.80699576e-02, -3.81015670e-02, -7.26400600e-02],\n",
       "       [ 3.35240861e-02,  2.64670016e-01,  6.21520777e-02,\n",
       "         8.66348316e-02,  9.85111083e-02,  2.24902690e-01,\n",
       "         3.88578988e-01,  1.40054038e-01,  9.03364712e-02,\n",
       "         1.94812667e-01, -8.91368353e-02, -2.35092939e-01,\n",
       "        -3.55257542e-02,  4.46479966e-02,  5.78007928e-02,\n",
       "        -5.62064529e-02,  1.88594258e-01, -4.48795539e-01,\n",
       "         9.56879360e-02, -2.23706988e-01, -1.46320405e-01,\n",
       "        -8.23127770e-02, -1.15070639e-01, -1.20394236e-01,\n",
       "        -2.11816494e-01, -6.35875556e-02,  2.02107441e-01,\n",
       "        -2.28970859e-01, -2.21565419e-01, -1.55233586e-01],\n",
       "       [ 5.91089104e-02, -4.03167594e-02,  5.27353146e-02,\n",
       "         2.52928826e-02,  3.96601712e-01,  1.74657922e-02,\n",
       "        -1.51710387e-01, -2.49791187e-01,  6.84249137e-02,\n",
       "        -3.94326836e-01, -1.16534625e-03,  1.70687560e-02,\n",
       "        -6.84488156e-02,  8.26003582e-02, -1.51673470e-01,\n",
       "         4.94078470e-01,  1.49903642e-01, -2.61053842e-01,\n",
       "        -4.66969190e-02,  1.14446576e-01,  2.29338022e-02,\n",
       "         2.28347325e-02,  7.50148878e-03,  5.58635907e-03,\n",
       "         1.73858144e-01,  1.95814633e-01, -1.73071440e-02,\n",
       "        -3.09631651e-01, -1.06766706e-02, -1.93562743e-01],\n",
       "       [ 1.03872842e-01,  9.98731433e-02,  9.23987461e-02,\n",
       "         3.09908215e-02,  7.62274986e-02, -2.07485501e-01,\n",
       "         1.07604206e-01,  1.44975019e-01,  9.94510341e-02,\n",
       "        -5.11636054e-01,  8.44745846e-02, -3.43151520e-02,\n",
       "         2.23044047e-02,  6.13506602e-02,  2.89644018e-03,\n",
       "        -2.03205275e-01, -2.15067618e-01, -4.03575593e-02,\n",
       "         9.93365320e-02,  3.20865520e-01, -1.88238100e-01,\n",
       "        -9.28172093e-02, -2.12286301e-01, -3.55370201e-01,\n",
       "        -6.95266807e-03,  5.89809125e-02,  2.05644681e-01,\n",
       "         1.34936435e-01, -1.67079401e-01,  3.07726231e-01],\n",
       "       [-9.80292182e-02, -1.58707973e-01, -6.14462450e-02,\n",
       "        -1.01793857e-01, -2.08381184e-01,  1.72031252e-01,\n",
       "         2.67199003e-01,  3.61393172e-01, -1.62830498e-01,\n",
       "        -8.11781710e-02,  3.70299679e-02, -7.57506560e-02,\n",
       "         5.47016012e-02,  7.98290037e-02, -3.52559031e-02,\n",
       "         1.70682021e-01, -1.19199798e-01, -2.05224431e-01,\n",
       "        -1.61221607e-01,  2.92141011e-01, -1.23485898e-01,\n",
       "         1.97369537e-01, -7.40108902e-02, -1.82634192e-01,\n",
       "         1.88051699e-01, -1.72119673e-01, -2.21367235e-01,\n",
       "         1.36937605e-01,  2.72742219e-01, -3.58134344e-01],\n",
       "       [ 2.63430156e-01, -1.43864993e-02,  2.51058479e-01,\n",
       "         3.20127302e-01,  1.21057056e-01, -5.16316679e-02,\n",
       "        -7.55663114e-02, -4.58910501e-02, -1.74923597e-01,\n",
       "         1.15185595e-01, -1.58869247e-01,  6.84721743e-02,\n",
       "        -9.66932499e-03,  2.94385484e-01,  9.47192036e-02,\n",
       "         3.34173578e-02,  1.09725892e-01,  1.45362104e-01,\n",
       "        -2.42463284e-01, -1.60674416e-01, -2.36486760e-01,\n",
       "         4.11644231e-02, -2.39065760e-01, -2.76927765e-01,\n",
       "        -1.80201252e-01, -1.67384944e-02, -1.91055613e-01,\n",
       "        -7.61321680e-02,  4.00563658e-01,  1.56113433e-01]])"
      ]
     },
     "execution_count": 59,
     "metadata": {},
     "output_type": "execute_result"
    }
   ],
   "source": [
    "model['dr'].components_"
   ]
  },
  {
   "cell_type": "code",
   "execution_count": 60,
   "metadata": {},
   "outputs": [
    {
     "name": "stderr",
     "output_type": "stream",
     "text": [
      "/usr/local/lib/python3.10/site-packages/sklearn/base.py:458: UserWarning: X has feature names, but PCA was fitted without feature names\n",
      "  warnings.warn(\n"
     ]
    },
    {
     "data": {
      "text/plain": [
       "array([[ 801.56122202, -759.03333167,   50.28162856, ..., -707.97684427,\n",
       "        -482.29541298, -207.76068532],\n",
       "       [ 840.23017519, -805.24413608,   43.58011299, ..., -673.7052938 ,\n",
       "        -509.35582986,  -99.81325615],\n",
       "       [ 758.94878819, -725.08694546,   45.87592287, ..., -587.03194143,\n",
       "        -449.2883926 ,  -64.06741978],\n",
       "       ...,\n",
       "       [ 527.78480723, -503.30760577,   27.2591426 , ..., -388.81954835,\n",
       "        -306.40228415,  -24.54099342],\n",
       "       [ 810.13067836, -772.25020697,   43.43687499, ..., -631.95494435,\n",
       "        -478.68418174,  -82.54431037],\n",
       "       [ 140.64957365, -130.31442832,    5.25769586, ...,  -98.14069591,\n",
       "         -73.03609417,  -12.11196047]])"
      ]
     },
     "execution_count": 60,
     "metadata": {},
     "output_type": "execute_result"
    }
   ],
   "source": [
    "model['dr']"
   ]
  }
 ],
 "metadata": {
  "colab": {
   "provenance": []
  },
  "kernelspec": {
   "display_name": "Python 3 [3.10]",
   "language": "python",
   "name": "python3"
  },
  "language_info": {
   "codemirror_mode": {
    "name": "ipython",
    "version": 3
   },
   "file_extension": ".py",
   "mimetype": "text/x-python",
   "name": "python",
   "nbconvert_exporter": "python",
   "pygments_lexer": "ipython3",
   "version": "3.10.2"
  }
 },
 "nbformat": 4,
 "nbformat_minor": 4
}

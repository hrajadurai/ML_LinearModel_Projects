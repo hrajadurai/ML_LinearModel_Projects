{
 "cells": [
  {
   "cell_type": "code",
   "execution_count": 1,
   "id": "a941cf20-ed9d-4569-b070-e00d0794ae7a",
   "metadata": {},
   "outputs": [],
   "source": [
    "# Predict Price of  house based on features like SqFt, Bedrooms, Bathrooms etc."
   ]
  },
  {
   "cell_type": "code",
   "execution_count": 2,
   "id": "57ca944d-5217-43c8-835e-476118c6abe9",
   "metadata": {},
   "outputs": [],
   "source": [
    "import pandas as pd, numpy as np, seaborn as sns\n",
    "from matplotlib import pyplot as plt, style\n",
    "style.use('ggplot')"
   ]
  },
  {
   "cell_type": "code",
   "execution_count": 3,
   "id": "83d4be09-8119-4a45-a01a-8d6e4b66064e",
   "metadata": {},
   "outputs": [],
   "source": [
    "df = pd.read_csv(\"house.csv\")"
   ]
  },
  {
   "cell_type": "code",
   "execution_count": 4,
   "id": "22f35834-93ff-4b70-b7fa-31f556ce7659",
   "metadata": {},
   "outputs": [
    {
     "data": {
      "text/html": [
       "<div>\n",
       "<style scoped>\n",
       "    .dataframe tbody tr th:only-of-type {\n",
       "        vertical-align: middle;\n",
       "    }\n",
       "\n",
       "    .dataframe tbody tr th {\n",
       "        vertical-align: top;\n",
       "    }\n",
       "\n",
       "    .dataframe thead th {\n",
       "        text-align: right;\n",
       "    }\n",
       "</style>\n",
       "<table border=\"1\" class=\"dataframe\">\n",
       "  <thead>\n",
       "    <tr style=\"text-align: right;\">\n",
       "      <th></th>\n",
       "      <th>Bathrooms</th>\n",
       "      <th>Offers</th>\n",
       "      <th>Brick</th>\n",
       "      <th>Neighborhood</th>\n",
       "      <th>Bedrooms</th>\n",
       "      <th>SqFt</th>\n",
       "      <th>Price</th>\n",
       "    </tr>\n",
       "  </thead>\n",
       "  <tbody>\n",
       "    <tr>\n",
       "      <th>0</th>\n",
       "      <td>2</td>\n",
       "      <td>2</td>\n",
       "      <td>No</td>\n",
       "      <td>East</td>\n",
       "      <td>2</td>\n",
       "      <td>1790</td>\n",
       "      <td>114300</td>\n",
       "    </tr>\n",
       "    <tr>\n",
       "      <th>1</th>\n",
       "      <td>2</td>\n",
       "      <td>3</td>\n",
       "      <td>No</td>\n",
       "      <td>East</td>\n",
       "      <td>4</td>\n",
       "      <td>2030</td>\n",
       "      <td>114200</td>\n",
       "    </tr>\n",
       "    <tr>\n",
       "      <th>2</th>\n",
       "      <td>2</td>\n",
       "      <td>1</td>\n",
       "      <td>No</td>\n",
       "      <td>East</td>\n",
       "      <td>3</td>\n",
       "      <td>1740</td>\n",
       "      <td>114800</td>\n",
       "    </tr>\n",
       "    <tr>\n",
       "      <th>3</th>\n",
       "      <td>2</td>\n",
       "      <td>3</td>\n",
       "      <td>No</td>\n",
       "      <td>East</td>\n",
       "      <td>3</td>\n",
       "      <td>1980</td>\n",
       "      <td>94700</td>\n",
       "    </tr>\n",
       "    <tr>\n",
       "      <th>4</th>\n",
       "      <td>3</td>\n",
       "      <td>3</td>\n",
       "      <td>No</td>\n",
       "      <td>East</td>\n",
       "      <td>3</td>\n",
       "      <td>2130</td>\n",
       "      <td>119800</td>\n",
       "    </tr>\n",
       "  </tbody>\n",
       "</table>\n",
       "</div>"
      ],
      "text/plain": [
       "   Bathrooms  Offers Brick Neighborhood  Bedrooms  SqFt   Price\n",
       "0          2       2    No         East         2  1790  114300\n",
       "1          2       3    No         East         4  2030  114200\n",
       "2          2       1    No         East         3  1740  114800\n",
       "3          2       3    No         East         3  1980   94700\n",
       "4          3       3    No         East         3  2130  119800"
      ]
     },
     "execution_count": 4,
     "metadata": {},
     "output_type": "execute_result"
    }
   ],
   "source": [
    "df.head()"
   ]
  },
  {
   "cell_type": "markdown",
   "id": "4b74ef85-94c6-4aa3-a189-068bb7f2e6d2",
   "metadata": {},
   "source": [
    "# EDA"
   ]
  },
  {
   "cell_type": "code",
   "execution_count": null,
   "id": "f6a2b1b4-b434-4c36-91c0-141939cadaff",
   "metadata": {},
   "outputs": [],
   "source": []
  },
  {
   "cell_type": "markdown",
   "id": "2eb1d79d-abbd-46c9-838e-51979224d7ae",
   "metadata": {},
   "source": [
    "# Data Preparation"
   ]
  },
  {
   "cell_type": "code",
   "execution_count": 6,
   "id": "2ee3e052-20f8-4c82-b78c-c6fb603f3ffa",
   "metadata": {},
   "outputs": [
    {
     "data": {
      "text/html": [
       "<div>\n",
       "<style scoped>\n",
       "    .dataframe tbody tr th:only-of-type {\n",
       "        vertical-align: middle;\n",
       "    }\n",
       "\n",
       "    .dataframe tbody tr th {\n",
       "        vertical-align: top;\n",
       "    }\n",
       "\n",
       "    .dataframe thead th {\n",
       "        text-align: right;\n",
       "    }\n",
       "</style>\n",
       "<table border=\"1\" class=\"dataframe\">\n",
       "  <thead>\n",
       "    <tr style=\"text-align: right;\">\n",
       "      <th></th>\n",
       "      <th>Bathrooms</th>\n",
       "      <th>Offers</th>\n",
       "      <th>Bedrooms</th>\n",
       "      <th>SqFt</th>\n",
       "      <th>Price</th>\n",
       "      <th>Brick_Yes</th>\n",
       "      <th>Neighborhood_North</th>\n",
       "      <th>Neighborhood_West</th>\n",
       "    </tr>\n",
       "  </thead>\n",
       "  <tbody>\n",
       "    <tr>\n",
       "      <th>0</th>\n",
       "      <td>2</td>\n",
       "      <td>2</td>\n",
       "      <td>2</td>\n",
       "      <td>1790</td>\n",
       "      <td>114300</td>\n",
       "      <td>0</td>\n",
       "      <td>0</td>\n",
       "      <td>0</td>\n",
       "    </tr>\n",
       "    <tr>\n",
       "      <th>1</th>\n",
       "      <td>2</td>\n",
       "      <td>3</td>\n",
       "      <td>4</td>\n",
       "      <td>2030</td>\n",
       "      <td>114200</td>\n",
       "      <td>0</td>\n",
       "      <td>0</td>\n",
       "      <td>0</td>\n",
       "    </tr>\n",
       "    <tr>\n",
       "      <th>2</th>\n",
       "      <td>2</td>\n",
       "      <td>1</td>\n",
       "      <td>3</td>\n",
       "      <td>1740</td>\n",
       "      <td>114800</td>\n",
       "      <td>0</td>\n",
       "      <td>0</td>\n",
       "      <td>0</td>\n",
       "    </tr>\n",
       "    <tr>\n",
       "      <th>3</th>\n",
       "      <td>2</td>\n",
       "      <td>3</td>\n",
       "      <td>3</td>\n",
       "      <td>1980</td>\n",
       "      <td>94700</td>\n",
       "      <td>0</td>\n",
       "      <td>0</td>\n",
       "      <td>0</td>\n",
       "    </tr>\n",
       "    <tr>\n",
       "      <th>4</th>\n",
       "      <td>3</td>\n",
       "      <td>3</td>\n",
       "      <td>3</td>\n",
       "      <td>2130</td>\n",
       "      <td>119800</td>\n",
       "      <td>0</td>\n",
       "      <td>0</td>\n",
       "      <td>0</td>\n",
       "    </tr>\n",
       "  </tbody>\n",
       "</table>\n",
       "</div>"
      ],
      "text/plain": [
       "   Bathrooms  Offers  Bedrooms  SqFt   Price  Brick_Yes  Neighborhood_North  \\\n",
       "0          2       2         2  1790  114300          0                   0   \n",
       "1          2       3         4  2030  114200          0                   0   \n",
       "2          2       1         3  1740  114800          0                   0   \n",
       "3          2       3         3  1980   94700          0                   0   \n",
       "4          3       3         3  2130  119800          0                   0   \n",
       "\n",
       "   Neighborhood_West  \n",
       "0                  0  \n",
       "1                  0  \n",
       "2                  0  \n",
       "3                  0  \n",
       "4                  0  "
      ]
     },
     "execution_count": 6,
     "metadata": {},
     "output_type": "execute_result"
    }
   ],
   "source": [
    "## Feature Encoding\n",
    "df_dummy = pd.get_dummies(data=df, columns=['Brick','Neighborhood'],drop_first=True,dtype=int)\n",
    "df_dummy.head()"
   ]
  },
  {
   "cell_type": "code",
   "execution_count": 8,
   "id": "d17910f5-8bd0-46d4-a38b-bd4ed012c369",
   "metadata": {},
   "outputs": [],
   "source": [
    "# separate features and outcome\n",
    "X = df_dummy.drop(columns='Price')\n",
    "y = df_dummy['Price']\n",
    "\n",
    "#split the data into train and test\n",
    "from sklearn.model_selection import train_test_split\n",
    "X_train,X_test,y_train,y_test = train_test_split(X,y,random_state=0)"
   ]
  },
  {
   "cell_type": "code",
   "execution_count": 11,
   "id": "e73f4e71-ee7d-4c67-9b73-50beaa291930",
   "metadata": {},
   "outputs": [],
   "source": [
    "# standardize data\n",
    "from sklearn.preprocessing import StandardScaler\n",
    "st = StandardScaler()\n",
    "st.fit(X_train[['Bathrooms','Offers','Bedrooms','SqFt']])\n",
    "X_train[['Bathrooms','Offers','Bedrooms','SqFt']]=st.transform(X_train[['Bathrooms','Offers','Bedrooms','SqFt']])\n",
    "\n",
    "X_test[['Bathrooms','Offers','Bedrooms','SqFt']]=st.transform(X_test[['Bathrooms','Offers','Bedrooms','SqFt']])"
   ]
  },
  {
   "cell_type": "code",
   "execution_count": 20,
   "id": "f817d6f8-d8c8-423b-a37e-008a00a51feb",
   "metadata": {},
   "outputs": [
    {
     "data": {
      "text/plain": [
       "array([   2.44791667,    2.51041667,    2.96875   , 1981.77083333])"
      ]
     },
     "execution_count": 20,
     "metadata": {},
     "output_type": "execute_result"
    }
   ],
   "source": [
    "st.mean_ # mean for each columns"
   ]
  },
  {
   "cell_type": "code",
   "execution_count": 22,
   "id": "c246d664-63d5-4032-82a1-9fc8017706f4",
   "metadata": {},
   "outputs": [
    {
     "data": {
      "text/plain": [
       "array([2.68120660e-01, 1.08322483e+00, 5.09440104e-01, 4.69958225e+04])"
      ]
     },
     "execution_count": 22,
     "metadata": {},
     "output_type": "execute_result"
    }
   ],
   "source": [
    "st.var_ # variance for each columns"
   ]
  },
  {
   "cell_type": "code",
   "execution_count": 21,
   "id": "fd71e5a6-ae2d-41ac-b876-fb32d76c9430",
   "metadata": {},
   "outputs": [
    {
     "data": {
      "text/plain": [
       "array(['Bathrooms', 'Offers', 'Bedrooms', 'SqFt'], dtype=object)"
      ]
     },
     "execution_count": 21,
     "metadata": {},
     "output_type": "execute_result"
    }
   ],
   "source": [
    "st.feature_names_in_"
   ]
  },
  {
   "cell_type": "code",
   "execution_count": 18,
   "id": "cf82b6ca-329f-4de4-ad81-9a3423d8fc28",
   "metadata": {},
   "outputs": [
    {
     "data": {
      "text/plain": [
       "Index(['Bathrooms', 'Offers', 'Bedrooms', 'SqFt', 'Brick_Yes',\n",
       "       'Neighborhood_North', 'Neighborhood_West'],\n",
       "      dtype='object')"
      ]
     },
     "execution_count": 18,
     "metadata": {},
     "output_type": "execute_result"
    }
   ],
   "source": [
    "X_train.columns"
   ]
  },
  {
   "cell_type": "code",
   "execution_count": 17,
   "id": "850f3642-053d-482d-addf-a8bf5bccaae5",
   "metadata": {},
   "outputs": [
    {
     "data": {
      "text/plain": [
       "'/voc/work/Weekdays ML/Instructor_Materials/0.1_Instructor_Slides_and_Notebooks/Lesson_04_Regression_and_Its_Applications'"
      ]
     },
     "execution_count": 17,
     "metadata": {},
     "output_type": "execute_result"
    }
   ],
   "source": [
    "import os\n",
    "os.getcwd()"
   ]
  },
  {
   "cell_type": "code",
   "execution_count": null,
   "id": "b26cb96c-2389-434f-996a-0da932fff858",
   "metadata": {},
   "outputs": [],
   "source": [
    "os.chdir(\"\")"
   ]
  },
  {
   "cell_type": "markdown",
   "id": "54200b32-1516-4962-ab9e-cba19602fee0",
   "metadata": {},
   "source": [
    "# Model Building"
   ]
  },
  {
   "cell_type": "code",
   "execution_count": 13,
   "id": "6c4176db-7c0f-4e2e-8626-0406ffbfc735",
   "metadata": {},
   "outputs": [
    {
     "name": "stdout",
     "output_type": "stream",
     "text": [
      "Train Score:  0.8697938712626114\n",
      "Test Score:  0.8582961043180666\n"
     ]
    }
   ],
   "source": [
    "from sklearn.linear_model import LinearRegression\n",
    "model = LinearRegression()\n",
    "model.fit(X_train,y_train)\n",
    "print(\"Train Score: \",model.score(X_train,y_train))\n",
    "print(\"Test Score: \",model.score(X_test,y_test))"
   ]
  },
  {
   "cell_type": "markdown",
   "id": "2296319f-ea32-4004-9b91-4a1bdbadac41",
   "metadata": {},
   "source": [
    "# Save model"
   ]
  },
  {
   "cell_type": "code",
   "execution_count": 14,
   "id": "cca6b692-8514-4e46-82f4-c0730277ed55",
   "metadata": {},
   "outputs": [
    {
     "data": {
      "text/plain": [
       "['Lineareg_house.h5']"
      ]
     },
     "execution_count": 14,
     "metadata": {},
     "output_type": "execute_result"
    }
   ],
   "source": [
    "import joblib\n",
    "# save the Standard Scaler model\n",
    "joblib.dump(st,\"StandardScaler_house.h5\")\n",
    "#save the linear regression model\n",
    "joblib.dump(model,\"Lineareg_house.h5\")"
   ]
  },
  {
   "cell_type": "code",
   "execution_count": 19,
   "id": "3b8bf709-0f94-4462-9063-e6081495fe49",
   "metadata": {},
   "outputs": [
    {
     "data": {
      "text/plain": [
       "array([ 4464.62691012, -8525.33737224,  3631.31814115, 11406.39780838,\n",
       "       16220.52416008,  1480.2392325 , 20948.60993449])"
      ]
     },
     "execution_count": 19,
     "metadata": {},
     "output_type": "execute_result"
    }
   ],
   "source": [
    "model.coef_"
   ]
  },
  {
   "cell_type": "markdown",
   "id": "e2aebb67-299e-402f-8e97-e122e27f65fe",
   "metadata": {},
   "source": [
    "# Model Evaluation Techniques"
   ]
  },
  {
   "cell_type": "code",
   "execution_count": 25,
   "id": "900cf1be-2777-454c-8559-1d29ac65d99d",
   "metadata": {},
   "outputs": [],
   "source": [
    "y_train_pred=model.predict(X_train)\n",
    "y_test_pred=model.predict(X_test)"
   ]
  },
  {
   "cell_type": "code",
   "execution_count": 26,
   "id": "8a4d0332-45e8-4041-a8ae-85dccd7fb689",
   "metadata": {},
   "outputs": [],
   "source": [
    "from sklearn import metrics"
   ]
  },
  {
   "cell_type": "code",
   "execution_count": 32,
   "id": "cb886427-6996-48aa-9fc5-838d6e49aefc",
   "metadata": {},
   "outputs": [
    {
     "data": {
      "text/plain": [
       "97781979.28846645"
      ]
     },
     "execution_count": 32,
     "metadata": {},
     "output_type": "execute_result"
    }
   ],
   "source": [
    "# mean squared error on train data set\n",
    "metrics.mean_squared_error(y_train,y_train_pred)"
   ]
  },
  {
   "cell_type": "code",
   "execution_count": 28,
   "id": "77e62118-4731-4b93-bfae-1c40f40b9bfa",
   "metadata": {},
   "outputs": [
    {
     "data": {
      "text/plain": [
       "86538966.25133625"
      ]
     },
     "execution_count": 28,
     "metadata": {},
     "output_type": "execute_result"
    }
   ],
   "source": [
    "# mean squared error on test data set\n",
    "metrics.mean_squared_error(y_test,y_test_pred)"
   ]
  },
  {
   "cell_type": "code",
   "execution_count": 35,
   "id": "94c13f97-d683-4dd7-8c3d-c80cba422572",
   "metadata": {},
   "outputs": [
    {
     "data": {
      "text/plain": [
       "9888.47709652333"
      ]
     },
     "execution_count": 35,
     "metadata": {},
     "output_type": "execute_result"
    }
   ],
   "source": [
    "## root mean squared error on train data set\n",
    "np.sqrt(metrics.mean_squared_error(y_train,y_train_pred))"
   ]
  },
  {
   "cell_type": "code",
   "execution_count": 34,
   "id": "12d7b901-ef89-493b-88be-a51e3897bdb1",
   "metadata": {},
   "outputs": [
    {
     "data": {
      "text/plain": [
       "9302.632221652979"
      ]
     },
     "execution_count": 34,
     "metadata": {},
     "output_type": "execute_result"
    }
   ],
   "source": [
    "## root mean squared error on test data set\n",
    "np.sqrt(metrics.mean_squared_error(y_test,y_test_pred))"
   ]
  },
  {
   "cell_type": "code",
   "execution_count": 36,
   "id": "9a9b6460-2241-4e7f-92de-c6b162711507",
   "metadata": {},
   "outputs": [
    {
     "data": {
      "text/html": [
       "<div>\n",
       "<style scoped>\n",
       "    .dataframe tbody tr th:only-of-type {\n",
       "        vertical-align: middle;\n",
       "    }\n",
       "\n",
       "    .dataframe tbody tr th {\n",
       "        vertical-align: top;\n",
       "    }\n",
       "\n",
       "    .dataframe thead th {\n",
       "        text-align: right;\n",
       "    }\n",
       "</style>\n",
       "<table border=\"1\" class=\"dataframe\">\n",
       "  <thead>\n",
       "    <tr style=\"text-align: right;\">\n",
       "      <th></th>\n",
       "      <th>Observed</th>\n",
       "      <th>Predicted</th>\n",
       "    </tr>\n",
       "  </thead>\n",
       "  <tbody>\n",
       "    <tr>\n",
       "      <th>76</th>\n",
       "      <td>129800</td>\n",
       "      <td>136384.719222</td>\n",
       "    </tr>\n",
       "    <tr>\n",
       "      <th>43</th>\n",
       "      <td>154000</td>\n",
       "      <td>139321.761601</td>\n",
       "    </tr>\n",
       "    <tr>\n",
       "      <th>15</th>\n",
       "      <td>145800</td>\n",
       "      <td>141771.245376</td>\n",
       "    </tr>\n",
       "    <tr>\n",
       "      <th>93</th>\n",
       "      <td>157100</td>\n",
       "      <td>131950.767034</td>\n",
       "    </tr>\n",
       "    <tr>\n",
       "      <th>95</th>\n",
       "      <td>152500</td>\n",
       "      <td>157813.522001</td>\n",
       "    </tr>\n",
       "    <tr>\n",
       "      <th>...</th>\n",
       "      <td>...</td>\n",
       "      <td>...</td>\n",
       "    </tr>\n",
       "    <tr>\n",
       "      <th>67</th>\n",
       "      <td>151900</td>\n",
       "      <td>126742.488415</td>\n",
       "    </tr>\n",
       "    <tr>\n",
       "      <th>64</th>\n",
       "      <td>130300</td>\n",
       "      <td>132701.590251</td>\n",
       "    </tr>\n",
       "    <tr>\n",
       "      <th>117</th>\n",
       "      <td>117800</td>\n",
       "      <td>116390.187238</td>\n",
       "    </tr>\n",
       "    <tr>\n",
       "      <th>47</th>\n",
       "      <td>90300</td>\n",
       "      <td>90465.126157</td>\n",
       "    </tr>\n",
       "    <tr>\n",
       "      <th>44</th>\n",
       "      <td>166500</td>\n",
       "      <td>161753.643187</td>\n",
       "    </tr>\n",
       "  </tbody>\n",
       "</table>\n",
       "<p>96 rows × 2 columns</p>\n",
       "</div>"
      ],
      "text/plain": [
       "     Observed      Predicted\n",
       "76     129800  136384.719222\n",
       "43     154000  139321.761601\n",
       "15     145800  141771.245376\n",
       "93     157100  131950.767034\n",
       "95     152500  157813.522001\n",
       "..        ...            ...\n",
       "67     151900  126742.488415\n",
       "64     130300  132701.590251\n",
       "117    117800  116390.187238\n",
       "47      90300   90465.126157\n",
       "44     166500  161753.643187\n",
       "\n",
       "[96 rows x 2 columns]"
      ]
     },
     "execution_count": 36,
     "metadata": {},
     "output_type": "execute_result"
    }
   ],
   "source": [
    "# print obeserverd values vs predicted\n",
    "pd.DataFrame({'Observed':y_train,\"Predicted\":y_train_pred})\n"
   ]
  },
  {
   "cell_type": "code",
   "execution_count": 30,
   "id": "7c9fa227-8669-4e67-82c4-f6775d73eca2",
   "metadata": {},
   "outputs": [
    {
     "data": {
      "text/plain": [
       "7798.073585992388"
      ]
     },
     "execution_count": 30,
     "metadata": {},
     "output_type": "execute_result"
    }
   ],
   "source": [
    "# MAE for train\n",
    "metrics.mean_absolute_error(y_train,y_train_pred)"
   ]
  },
  {
   "cell_type": "code",
   "execution_count": 31,
   "id": "a2c7ba58-671c-4fc5-874f-11fb19ad80ad",
   "metadata": {},
   "outputs": [
    {
     "data": {
      "text/plain": [
       "7080.190154744372"
      ]
     },
     "execution_count": 31,
     "metadata": {},
     "output_type": "execute_result"
    }
   ],
   "source": [
    "# MAE for test\n",
    "metrics.mean_absolute_error(y_test,y_test_pred)"
   ]
  },
  {
   "cell_type": "code",
   "execution_count": 38,
   "id": "fed67847-34a9-42f6-9ed8-da3269c8e0d5",
   "metadata": {},
   "outputs": [
    {
     "data": {
      "text/html": [
       "<div>\n",
       "<style scoped>\n",
       "    .dataframe tbody tr th:only-of-type {\n",
       "        vertical-align: middle;\n",
       "    }\n",
       "\n",
       "    .dataframe tbody tr th {\n",
       "        vertical-align: top;\n",
       "    }\n",
       "\n",
       "    .dataframe thead th {\n",
       "        text-align: right;\n",
       "    }\n",
       "</style>\n",
       "<table border=\"1\" class=\"dataframe\">\n",
       "  <thead>\n",
       "    <tr style=\"text-align: right;\">\n",
       "      <th></th>\n",
       "      <th>Observed</th>\n",
       "      <th>Predicted</th>\n",
       "    </tr>\n",
       "  </thead>\n",
       "  <tbody>\n",
       "    <tr>\n",
       "      <th>76</th>\n",
       "      <td>129800</td>\n",
       "      <td>136384.719222</td>\n",
       "    </tr>\n",
       "    <tr>\n",
       "      <th>43</th>\n",
       "      <td>154000</td>\n",
       "      <td>139321.761601</td>\n",
       "    </tr>\n",
       "    <tr>\n",
       "      <th>15</th>\n",
       "      <td>145800</td>\n",
       "      <td>141771.245376</td>\n",
       "    </tr>\n",
       "    <tr>\n",
       "      <th>93</th>\n",
       "      <td>157100</td>\n",
       "      <td>131950.767034</td>\n",
       "    </tr>\n",
       "    <tr>\n",
       "      <th>95</th>\n",
       "      <td>152500</td>\n",
       "      <td>157813.522001</td>\n",
       "    </tr>\n",
       "    <tr>\n",
       "      <th>...</th>\n",
       "      <td>...</td>\n",
       "      <td>...</td>\n",
       "    </tr>\n",
       "    <tr>\n",
       "      <th>67</th>\n",
       "      <td>151900</td>\n",
       "      <td>126742.488415</td>\n",
       "    </tr>\n",
       "    <tr>\n",
       "      <th>64</th>\n",
       "      <td>130300</td>\n",
       "      <td>132701.590251</td>\n",
       "    </tr>\n",
       "    <tr>\n",
       "      <th>117</th>\n",
       "      <td>117800</td>\n",
       "      <td>116390.187238</td>\n",
       "    </tr>\n",
       "    <tr>\n",
       "      <th>47</th>\n",
       "      <td>90300</td>\n",
       "      <td>90465.126157</td>\n",
       "    </tr>\n",
       "    <tr>\n",
       "      <th>44</th>\n",
       "      <td>166500</td>\n",
       "      <td>161753.643187</td>\n",
       "    </tr>\n",
       "  </tbody>\n",
       "</table>\n",
       "<p>96 rows × 2 columns</p>\n",
       "</div>"
      ],
      "text/plain": [
       "     Observed      Predicted\n",
       "76     129800  136384.719222\n",
       "43     154000  139321.761601\n",
       "15     145800  141771.245376\n",
       "93     157100  131950.767034\n",
       "95     152500  157813.522001\n",
       "..        ...            ...\n",
       "67     151900  126742.488415\n",
       "64     130300  132701.590251\n",
       "117    117800  116390.187238\n",
       "47      90300   90465.126157\n",
       "44     166500  161753.643187\n",
       "\n",
       "[96 rows x 2 columns]"
      ]
     },
     "execution_count": 38,
     "metadata": {},
     "output_type": "execute_result"
    }
   ],
   "source": [
    "# print obeserverd values vs predicted\n",
    "pd.DataFrame({'Observed':y_train,\"Predicted\":y_train_pred})\n"
   ]
  },
  {
   "cell_type": "markdown",
   "id": "73060127-3cd4-4f00-95e2-0156167d2c40",
   "metadata": {},
   "source": [
    "# Polynomial Features"
   ]
  },
  {
   "cell_type": "code",
   "execution_count": 46,
   "id": "5ab8c927-bc10-4116-8284-119c1d6417b8",
   "metadata": {},
   "outputs": [
    {
     "name": "stdout",
     "output_type": "stream",
     "text": [
      "Train Score:  0.8915436027829815\n",
      "Test Score:  0.6548145611239538\n"
     ]
    }
   ],
   "source": [
    "from sklearn.preprocessing import PolynomialFeatures\n",
    "pf = PolynomialFeatures(degree=2)\n",
    "X_poly = pf.fit_transform(X)\n",
    "\n",
    "from sklearn.model_selection import train_test_split\n",
    "X_train,X_test,y_train,y_test = train_test_split(X_poly,y,random_state=0)\n",
    "\n",
    "model = LinearRegression()\n",
    "model.fit(X_train,y_train)\n",
    "print(\"Train Score: \",model.score(X_train,y_train))\n",
    "print(\"Test Score: \",model.score(X_test,y_test))"
   ]
  },
  {
   "cell_type": "code",
   "execution_count": 58,
   "id": "2fce0678-7d22-49d0-b1d6-899fd61584cf",
   "metadata": {},
   "outputs": [
    {
     "name": "stdout",
     "output_type": "stream",
     "text": [
      "Train Score:  0.8689037234923355\n",
      "Test Score:  0.8621948254306241\n"
     ]
    }
   ],
   "source": [
    "# Model is overfitted, lets try regularizing it with Ridge/Lasso\n",
    "from sklearn.linear_model import Lasso\n",
    "lassoModel = Lasso(alpha=900,max_iter=200000)\n",
    "lassoModel.fit(X_train,y_train)\n",
    "print(\"Train Score: \",lassoModel.score(X_train,y_train))\n",
    "print(\"Test Score: \",lassoModel.score(X_test,y_test))"
   ]
  },
  {
   "cell_type": "markdown",
   "id": "8cab4135-f724-4dab-9bca-694eb18768da",
   "metadata": {},
   "source": [
    "# Hyperparameter Tuning"
   ]
  },
  {
   "cell_type": "code",
   "execution_count": 70,
   "id": "2862169c-1359-4cde-b331-196eefd44ab9",
   "metadata": {},
   "outputs": [
    {
     "data": {
      "text/html": [
       "<style>#sk-container-id-7 {color: black;}#sk-container-id-7 pre{padding: 0;}#sk-container-id-7 div.sk-toggleable {background-color: white;}#sk-container-id-7 label.sk-toggleable__label {cursor: pointer;display: block;width: 100%;margin-bottom: 0;padding: 0.3em;box-sizing: border-box;text-align: center;}#sk-container-id-7 label.sk-toggleable__label-arrow:before {content: \"▸\";float: left;margin-right: 0.25em;color: #696969;}#sk-container-id-7 label.sk-toggleable__label-arrow:hover:before {color: black;}#sk-container-id-7 div.sk-estimator:hover label.sk-toggleable__label-arrow:before {color: black;}#sk-container-id-7 div.sk-toggleable__content {max-height: 0;max-width: 0;overflow: hidden;text-align: left;background-color: #f0f8ff;}#sk-container-id-7 div.sk-toggleable__content pre {margin: 0.2em;color: black;border-radius: 0.25em;background-color: #f0f8ff;}#sk-container-id-7 input.sk-toggleable__control:checked~div.sk-toggleable__content {max-height: 200px;max-width: 100%;overflow: auto;}#sk-container-id-7 input.sk-toggleable__control:checked~label.sk-toggleable__label-arrow:before {content: \"▾\";}#sk-container-id-7 div.sk-estimator input.sk-toggleable__control:checked~label.sk-toggleable__label {background-color: #d4ebff;}#sk-container-id-7 div.sk-label input.sk-toggleable__control:checked~label.sk-toggleable__label {background-color: #d4ebff;}#sk-container-id-7 input.sk-hidden--visually {border: 0;clip: rect(1px 1px 1px 1px);clip: rect(1px, 1px, 1px, 1px);height: 1px;margin: -1px;overflow: hidden;padding: 0;position: absolute;width: 1px;}#sk-container-id-7 div.sk-estimator {font-family: monospace;background-color: #f0f8ff;border: 1px dotted black;border-radius: 0.25em;box-sizing: border-box;margin-bottom: 0.5em;}#sk-container-id-7 div.sk-estimator:hover {background-color: #d4ebff;}#sk-container-id-7 div.sk-parallel-item::after {content: \"\";width: 100%;border-bottom: 1px solid gray;flex-grow: 1;}#sk-container-id-7 div.sk-label:hover label.sk-toggleable__label {background-color: #d4ebff;}#sk-container-id-7 div.sk-serial::before {content: \"\";position: absolute;border-left: 1px solid gray;box-sizing: border-box;top: 0;bottom: 0;left: 50%;z-index: 0;}#sk-container-id-7 div.sk-serial {display: flex;flex-direction: column;align-items: center;background-color: white;padding-right: 0.2em;padding-left: 0.2em;position: relative;}#sk-container-id-7 div.sk-item {position: relative;z-index: 1;}#sk-container-id-7 div.sk-parallel {display: flex;align-items: stretch;justify-content: center;background-color: white;position: relative;}#sk-container-id-7 div.sk-item::before, #sk-container-id-7 div.sk-parallel-item::before {content: \"\";position: absolute;border-left: 1px solid gray;box-sizing: border-box;top: 0;bottom: 0;left: 50%;z-index: -1;}#sk-container-id-7 div.sk-parallel-item {display: flex;flex-direction: column;z-index: 1;position: relative;background-color: white;}#sk-container-id-7 div.sk-parallel-item:first-child::after {align-self: flex-end;width: 50%;}#sk-container-id-7 div.sk-parallel-item:last-child::after {align-self: flex-start;width: 50%;}#sk-container-id-7 div.sk-parallel-item:only-child::after {width: 0;}#sk-container-id-7 div.sk-dashed-wrapped {border: 1px dashed gray;margin: 0 0.4em 0.5em 0.4em;box-sizing: border-box;padding-bottom: 0.4em;background-color: white;}#sk-container-id-7 div.sk-label label {font-family: monospace;font-weight: bold;display: inline-block;line-height: 1.2em;}#sk-container-id-7 div.sk-label-container {text-align: center;}#sk-container-id-7 div.sk-container {/* jupyter's `normalize.less` sets `[hidden] { display: none; }` but bootstrap.min.css set `[hidden] { display: none !important; }` so we also need the `!important` here to be able to override the default hidden behavior on the sphinx rendered scikit-learn.org. See: https://github.com/scikit-learn/scikit-learn/issues/21755 */display: inline-block !important;position: relative;}#sk-container-id-7 div.sk-text-repr-fallback {display: none;}</style><div id=\"sk-container-id-7\" class=\"sk-top-container\"><div class=\"sk-text-repr-fallback\"><pre>Lasso(alpha=1000, max_iter=200000)</pre><b>In a Jupyter environment, please rerun this cell to show the HTML representation or trust the notebook. <br />On GitHub, the HTML representation is unable to render, please try loading this page with nbviewer.org.</b></div><div class=\"sk-container\" hidden><div class=\"sk-item\"><div class=\"sk-estimator sk-toggleable\"><input class=\"sk-toggleable__control sk-hidden--visually\" id=\"sk-estimator-id-13\" type=\"checkbox\" checked><label for=\"sk-estimator-id-13\" class=\"sk-toggleable__label sk-toggleable__label-arrow\">Lasso</label><div class=\"sk-toggleable__content\"><pre>Lasso(alpha=1000, max_iter=200000)</pre></div></div></div></div></div>"
      ],
      "text/plain": [
       "Lasso(alpha=1000, max_iter=200000)"
      ]
     },
     "execution_count": 70,
     "metadata": {},
     "output_type": "execute_result"
    }
   ],
   "source": [
    "from sklearn.model_selection import GridSearchCV\n",
    "\n",
    "parameter_grid = {'alpha':[0.5,2,10,20,100,0.9,1.2,1000,458]}\n",
    "\n",
    "model = Lasso(max_iter=200000)\n",
    "gridModel = GridSearchCV(model,param_grid=parameter_grid,cv=2)\n",
    "\n",
    "gridModel.fit(X_train,y_train)\n",
    "\n",
    "gridModel.best_estimator_"
   ]
  },
  {
   "cell_type": "code",
   "execution_count": 72,
   "id": "43bf37b5-12e3-458c-9f4a-23eb2721e183",
   "metadata": {},
   "outputs": [
    {
     "data": {
      "image/png": "[encoded data removed]",
      "text/plain": [
       "<Figure size 720x720 with 2 Axes>"
      ]
     },
     "metadata": {
      "needs_background": "light"
     },
     "output_type": "display_data"
    }
   ],
   "source": [
    "plt.figure(figsize=(10,10))\n",
    "sns.heatmap(df_dummy.corr(),cmap='viridis',annot=True)\n",
    "plt.show()"
   ]
  },
  {
   "cell_type": "code",
   "execution_count": null,
   "id": "702d7298-5e54-46d0-be3c-ecfe24e6d580",
   "metadata": {},
   "outputs": [],
   "source": [
    "# Variance Inflation Factor"
   ]
  }
 ],
 "metadata": {
  "kernelspec": {
   "display_name": "Python 3 [3.10]",
   "language": "python",
   "name": "python3"
  },
  "language_info": {
   "codemirror_mode": {
    "name": "ipython",
    "version": 3
   },
   "file_extension": ".py",
   "mimetype": "text/x-python",
   "name": "python",
   "nbconvert_exporter": "python",
   "pygments_lexer": "ipython3",
   "version": "3.10.2"
  }
 },
 "nbformat": 4,
 "nbformat_minor": 5
}

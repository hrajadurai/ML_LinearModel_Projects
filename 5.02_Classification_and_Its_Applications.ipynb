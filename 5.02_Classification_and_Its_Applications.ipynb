{
 "cells": [
  {
   "cell_type": "markdown",
   "metadata": {
    "id": "FnEvCmckv_Pg"
   },
   "source": [
    "#__Supervised Learning: Classification__#"
   ]
  },
  {
   "cell_type": "markdown",
   "metadata": {
    "id": "ARvfHqjzwAVA"
   },
   "source": [
    "##__Agenda__##"
   ]
  },
  {
   "cell_type": "markdown",
   "metadata": {
    "id": "RQGiepsf2BC5"
   },
   "source": [
    "- Supervised Learning\n",
    "- Decision Tree\n",
    "  * Working of Decision Tree\n",
    "  * Decision Tree Assumptions\n",
    "  * Advantages of Decision Tree\n",
    "  * Disadvantages of Decision Tree\n",
    "- Random Forest\n",
    "  * Advantages of Random Forest\n",
    "  * Disadvantages of Random Forest\n",
    "- Support Vector Machine"
   ]
  },
  {
   "cell_type": "markdown",
   "metadata": {
    "id": "054auVR2wAYg"
   },
   "source": [
    "##__1. Supervised Learning__##"
   ]
  },
  {
   "cell_type": "markdown",
   "metadata": {
    "id": "1TOzA3tD2LMT"
   },
   "source": [
    "Supervised learning is a type of machine learning where the algorithm learns from labeled data, which consists of input-output pairs. In supervised learning, the algorithm is trained on a dataset, including input features and corresponding correct output labels. The goal is for the algorithm to learn the mapping or relationship between the input features and the output labels to make predictions or decisions about new, unseen data."
   ]
  },
  {
   "cell_type": "markdown",
   "metadata": {
    "id": "93qtRbLI0D-6"
   },
   "source": [
    "There are two categories of supervised learning:\n",
    "- Regression\n",
    "- Classification\n"
   ]
  },
  {
   "cell_type": "markdown",
   "metadata": {
    "id": "eSDecJOazZ-p"
   },
   "source": [
    "![link text](https://labcontent.simplicdn.net/data-content/content-assets/Data_and_AI/ML/updated/Lesson_05/types.jpg)"
   ]
  },
  {
   "cell_type": "markdown",
   "metadata": {
    "id": "4yUPt4T90UbH"
   },
   "source": [
    "- The prediction task is a classification when the target variable is discrete. An example can be predicting whether a person has diabetes based on his sugar level, blood pressure, and so on.\n",
    "- The prediction task is a regression when the target variable is continuous. An example can be predicting the salary of a person given their education degree, previous work experience, geographical location, and level of seniority."
   ]
  },
  {
   "cell_type": "markdown",
   "metadata": {
    "id": "-ZchVK4A0Ud5"
   },
   "source": [
    "Various algorithms help you build classification models. In the previous lesson, you covered some classification models like Naive Bayes, Stochastic Gradient Descent, and K-Nearest Neighbour. In this lesson, you will cover a few more classification algorithms."
   ]
  },
  {
   "cell_type": "markdown",
   "metadata": {
    "id": "xlRBtWXB0Uf3"
   },
   "source": [
    "##__2. Decision Tree__##"
   ]
  },
  {
   "cell_type": "markdown",
   "metadata": {
    "id": "sJC2jTpZ0Ujj"
   },
   "source": [
    "A decision tree is a non-parametric supervised learning algorithm for classification and regression tasks.\n",
    "- It has a hierarchical tree structure consisting of a root node, branches, internal nodes, and leaf nodes.\n",
    "- Decision trees are used for classification and regression tasks, providing easy-to-understand models."
   ]
  },
  {
   "cell_type": "markdown",
   "metadata": {
    "id": "eGa1FgE9rz_N"
   },
   "source": [
    "The following diagram demonstrates the different parts of a decision tree:\n"
   ]
  },
  {
   "cell_type": "markdown",
   "metadata": {
    "id": "ed5RgWKjsL_B"
   },
   "source": [
    "![link text](https://labcontent.simplicdn.net/data-content/content-assets/Data_and_AI/ML/updated/Lesson_05/5.02node.png)"
   ]
  },
  {
   "cell_type": "markdown",
   "metadata": {
    "id": "rqQgEMWvzaBM"
   },
   "source": [
    "The tree-like structure consists of nodes, branches, and leaves.\n",
    "\n",
    "A node represents a place where a question is asked or an attribute is selected.\n",
    "\n",
    "The leaves represent the output or class label.\n",
    "\n"
   ]
  },
  {
   "cell_type": "markdown",
   "metadata": {
    "id": "bLiBQoCwzaDn"
   },
   "source": [
    "**Root Node:** This is the top node of the tree, from which the decision-making process begins. It represents the entire dataset and is split into two or more child nodes based on the feature that provides the best split."
   ]
  },
  {
   "cell_type": "markdown",
   "metadata": {
    "id": "WVbUJe4fzaF4"
   },
   "source": [
    "**Decision Node:** These are intermediate nodes in the tree that represent a decision based on a feature's value. Each decision node splits the dataset into smaller subsets based on a specific feature and its value."
   ]
  },
  {
   "cell_type": "markdown",
   "metadata": {
    "id": "fe8_l__pzaH9"
   },
   "source": [
    "**Leaf Node:** These are the endpoints of the decision tree branches. They represent the final decision or outcome. A leaf node does not split further and contains the predicted outcome or class label."
   ]
  },
  {
   "cell_type": "markdown",
   "metadata": {
    "id": "lRHZ5TMHzaKE"
   },
   "source": [
    "Example: The following decision tree diagram represents the criteria for buying a car based on its color, model year, and mileage.\n"
   ]
  },
  {
   "cell_type": "markdown",
   "metadata": {
    "id": "Y-ZKMNlptfcD"
   },
   "source": [
    "![link text](https://labcontent.simplicdn.net/data-content/content-assets/Data_and_AI/ML/New/Lesson_05_Supervised_Learning_Classification/decision_tree_example.png)"
   ]
  },
  {
   "cell_type": "markdown",
   "metadata": {
    "id": "bjCqwn5Xtffc"
   },
   "source": [
    "###__2.1 Working of Decision Tree__###"
   ]
  },
  {
   "cell_type": "markdown",
   "metadata": {
    "id": "tjdX7-RFtfq2"
   },
   "source": [
    "Starting at the Root: The algorithm begins at the top, called the root node, representing the entire dataset.\n",
    "\n",
    "Asking the Best Questions: It looks for the most important feature or question that splits the data into the most distinct groups, akin to asking a question at a fork in the tree.\n",
    "\n",
    "Branching Out: Based on the answer to the question, it divides the data into smaller subsets, creating new branches. Each branch represents a possible route through the tree.\n",
    "\n",
    "Repeating the Process: The algorithm continues asking questions and splitting the data at each branch until it reaches the final \"leaf nodes,\" which represent the predicted outcomes or classifications.\n"
   ]
  },
  {
   "cell_type": "markdown",
   "metadata": {
    "id": "1lybtUChtfyE"
   },
   "source": [
    "###__2.2 Decision Tree Assumptions__###"
   ]
  },
  {
   "cell_type": "markdown",
   "metadata": {
    "id": "203fgpsntfzy"
   },
   "source": [
    "- Decision trees typically make binary splits, meaning each node divides the data into two subsets based on a single feature or condition, assuming each decision can be represented as a binary choice.\n",
    "\n",
    "- Decision trees often assume that the features for splitting nodes are independent, although this may not be true. Nonetheless, decision trees can still perform well if features are correlated.\n",
    "\n",
    "- Decision trees are constructed using a top-down, greedy approach, where each split is chosen to maximize information gain or minimize impurity at the current node, which may not always result in the globally optimal tree.\n",
    "\n",
    "- Decision trees may assume equal importance for all features unless feature scaling or weighting is applied to emphasize certain features.\n"
   ]
  },
  {
   "cell_type": "markdown",
   "metadata": {
    "id": "XstBJzvWtf1d"
   },
   "source": [
    "###__2.3 Advantages of Decision Tree__###"
   ]
  },
  {
   "cell_type": "markdown",
   "metadata": {
    "id": "QQ5IH3SQtf3F"
   },
   "source": [
    "- Captures the interactions between features within the data\n",
    "- Is easy to interpret\n",
    "- Does not require data normalization\n"
   ]
  },
  {
   "cell_type": "markdown",
   "metadata": {
    "id": "xcKj_3dt0GJ2"
   },
   "source": [
    "###__2.4 Disadvantages of Decision Tree__###"
   ]
  },
  {
   "cell_type": "markdown",
   "metadata": {
    "id": "xAVRmUegtf4q"
   },
   "source": [
    "- Does not account for linear relationships\n",
    "- Requires additional time to train the model\n",
    "- Becomes costly due to its complexity and extended training time\n"
   ]
  },
  {
   "cell_type": "markdown",
   "metadata": {
    "id": "mZA17ek6tf6W"
   },
   "source": [
    "Let's now build a decision tree model."
   ]
  },
  {
   "cell_type": "markdown",
   "metadata": {
    "id": "MwMsrJX0i61G"
   },
   "source": [
    "- Import NumPy, pandas, Seaborn, and matplotlib.pyplot libraries.\n",
    "- Configure matplotlib settings.\n",
    "- Read the dataset and display the first few rows.\n"
   ]
  },
  {
   "cell_type": "code",
   "execution_count": 1,
   "metadata": {
    "id": "RmtbIB9ZiZwR"
   },
   "outputs": [],
   "source": [
    "import numpy as np\n",
    "import pandas as pd\n",
    "import seaborn as sns\n",
    "import matplotlib.pyplot as plt\n",
    "%matplotlib inline"
   ]
  },
  {
   "cell_type": "code",
   "execution_count": 2,
   "metadata": {
    "colab": {
     "base_uri": "https://localhost:8080/",
     "height": 206
    },
    "id": "xKQcpLSNiZwS",
    "outputId": "ed1d638c-d299-4f52-a88f-be3968f20877"
   },
   "outputs": [
    {
     "data": {
      "text/html": [
       "<div>\n",
       "<style scoped>\n",
       "    .dataframe tbody tr th:only-of-type {\n",
       "        vertical-align: middle;\n",
       "    }\n",
       "\n",
       "    .dataframe tbody tr th {\n",
       "        vertical-align: top;\n",
       "    }\n",
       "\n",
       "    .dataframe thead th {\n",
       "        text-align: right;\n",
       "    }\n",
       "</style>\n",
       "<table border=\"1\" class=\"dataframe\">\n",
       "  <thead>\n",
       "    <tr style=\"text-align: right;\">\n",
       "      <th></th>\n",
       "      <th>Class Name</th>\n",
       "      <th>Left weight</th>\n",
       "      <th>Left distance</th>\n",
       "      <th>Right weight</th>\n",
       "      <th>Right distance</th>\n",
       "    </tr>\n",
       "  </thead>\n",
       "  <tbody>\n",
       "    <tr>\n",
       "      <th>0</th>\n",
       "      <td>B</td>\n",
       "      <td>1</td>\n",
       "      <td>1</td>\n",
       "      <td>1</td>\n",
       "      <td>1</td>\n",
       "    </tr>\n",
       "    <tr>\n",
       "      <th>1</th>\n",
       "      <td>R</td>\n",
       "      <td>1</td>\n",
       "      <td>1</td>\n",
       "      <td>1</td>\n",
       "      <td>2</td>\n",
       "    </tr>\n",
       "    <tr>\n",
       "      <th>2</th>\n",
       "      <td>R</td>\n",
       "      <td>1</td>\n",
       "      <td>1</td>\n",
       "      <td>1</td>\n",
       "      <td>3</td>\n",
       "    </tr>\n",
       "    <tr>\n",
       "      <th>3</th>\n",
       "      <td>R</td>\n",
       "      <td>1</td>\n",
       "      <td>1</td>\n",
       "      <td>1</td>\n",
       "      <td>4</td>\n",
       "    </tr>\n",
       "    <tr>\n",
       "      <th>4</th>\n",
       "      <td>R</td>\n",
       "      <td>1</td>\n",
       "      <td>1</td>\n",
       "      <td>1</td>\n",
       "      <td>5</td>\n",
       "    </tr>\n",
       "  </tbody>\n",
       "</table>\n",
       "</div>"
      ],
      "text/plain": [
       "  Class Name  Left weight  Left distance  Right weight  Right distance\n",
       "0          B            1              1             1               1\n",
       "1          R            1              1             1               2\n",
       "2          R            1              1             1               3\n",
       "3          R            1              1             1               4\n",
       "4          R            1              1             1               5"
      ]
     },
     "execution_count": 2,
     "metadata": {},
     "output_type": "execute_result"
    }
   ],
   "source": [
    "df = pd.read_csv('balance-scale.data',sep=',')\n",
    "df.head()"
   ]
  },
  {
   "cell_type": "markdown",
   "metadata": {
    "id": "9OJ7i_wP5AMm"
   },
   "source": [
    "__Observation__\n",
    "- In the above output, the first few rows of the dataset can be seen."
   ]
  },
  {
   "cell_type": "markdown",
   "metadata": {
    "id": "316A0AT0jA29"
   },
   "source": [
    "- Display information about the dataset.\n"
   ]
  },
  {
   "cell_type": "code",
   "execution_count": 3,
   "metadata": {
    "colab": {
     "base_uri": "https://localhost:8080/"
    },
    "id": "-xsxaKmLiZwT",
    "outputId": "26328a57-e691-4da1-f6cb-7be3d498b72f"
   },
   "outputs": [
    {
     "name": "stdout",
     "output_type": "stream",
     "text": [
      "<class 'pandas.core.frame.DataFrame'>\n",
      "RangeIndex: 625 entries, 0 to 624\n",
      "Data columns (total 5 columns):\n",
      " #   Column          Non-Null Count  Dtype \n",
      "---  ------          --------------  ----- \n",
      " 0   Class Name      625 non-null    object\n",
      " 1   Left weight     625 non-null    int64 \n",
      " 2   Left distance   625 non-null    int64 \n",
      " 3   Right weight    625 non-null    int64 \n",
      " 4   Right distance  625 non-null    int64 \n",
      "dtypes: int64(4), object(1)\n",
      "memory usage: 24.5+ KB\n"
     ]
    }
   ],
   "source": [
    "df.info()"
   ]
  },
  {
   "cell_type": "markdown",
   "metadata": {
    "id": "yxtX0JKA5Vsu"
   },
   "source": [
    "__Observations__\n",
    "- The Class Name is the target variable that you are going to predict.\n",
    "- You can see that these values are not null.\n",
    "\n"
   ]
  },
  {
   "cell_type": "markdown",
   "metadata": {
    "id": "WZht4OcCjE61"
   },
   "source": [
    "- Split the dataset into training and testing sets.\n"
   ]
  },
  {
   "cell_type": "code",
   "execution_count": 4,
   "metadata": {
    "id": "dK9XU_MXiZwT"
   },
   "outputs": [],
   "source": [
    "from sklearn.model_selection import train_test_split\n",
    "X = df.drop('Class Name',axis=1)\n",
    "y = df[['Class Name']]\n",
    "X_train, X_test, y_train, y_test = train_test_split(X, y, test_size = 0.3,random_state=42)"
   ]
  },
  {
   "cell_type": "markdown",
   "metadata": {
    "id": "ChtrPYGMjJGq"
   },
   "source": [
    "\n",
    "- Import DecisionTreeClassifier from sklearn.tree.\n",
    "- Train the model using the training dataset.\n"
   ]
  },
  {
   "cell_type": "code",
   "execution_count": 5,
   "metadata": {
    "colab": {
     "base_uri": "https://localhost:8080/",
     "height": 75
    },
    "id": "2uFIp8FdiZwU",
    "outputId": "81e56a4e-759e-42e3-b39a-443b1d7be2a9"
   },
   "outputs": [
    {
     "data": {
      "text/html": [
       "<style>#sk-container-id-1 {\n",
       "  /* Definition of color scheme common for light and dark mode */\n",
       "  --sklearn-color-text: black;\n",
       "  --sklearn-color-line: gray;\n",
       "  /* Definition of color scheme for unfitted estimators */\n",
       "  --sklearn-color-unfitted-level-0: #fff5e6;\n",
       "  --sklearn-color-unfitted-level-1: #f6e4d2;\n",
       "  --sklearn-color-unfitted-level-2: #ffe0b3;\n",
       "  --sklearn-color-unfitted-level-3: chocolate;\n",
       "  /* Definition of color scheme for fitted estimators */\n",
       "  --sklearn-color-fitted-level-0: #f0f8ff;\n",
       "  --sklearn-color-fitted-level-1: #d4ebff;\n",
       "  --sklearn-color-fitted-level-2: #b3dbfd;\n",
       "  --sklearn-color-fitted-level-3: cornflowerblue;\n",
       "\n",
       "  /* Specific color for light theme */\n",
       "  --sklearn-color-text-on-default-background: var(--sg-text-color, var(--theme-code-foreground, var(--jp-content-font-color1, black)));\n",
       "  --sklearn-color-background: var(--sg-background-color, var(--theme-background, var(--jp-layout-color0, white)));\n",
       "  --sklearn-color-border-box: var(--sg-text-color, var(--theme-code-foreground, var(--jp-content-font-color1, black)));\n",
       "  --sklearn-color-icon: #696969;\n",
       "\n",
       "  @media (prefers-color-scheme: dark) {\n",
       "    /* Redefinition of color scheme for dark theme */\n",
       "    --sklearn-color-text-on-default-background: var(--sg-text-color, var(--theme-code-foreground, var(--jp-content-font-color1, white)));\n",
       "    --sklearn-color-background: var(--sg-background-color, var(--theme-background, var(--jp-layout-color0, #111)));\n",
       "    --sklearn-color-border-box: var(--sg-text-color, var(--theme-code-foreground, var(--jp-content-font-color1, white)));\n",
       "    --sklearn-color-icon: #878787;\n",
       "  }\n",
       "}\n",
       "\n",
       "#sk-container-id-1 {\n",
       "  color: var(--sklearn-color-text);\n",
       "}\n",
       "\n",
       "#sk-container-id-1 pre {\n",
       "  padding: 0;\n",
       "}\n",
       "\n",
       "#sk-container-id-1 input.sk-hidden--visually {\n",
       "  border: 0;\n",
       "  clip: rect(1px 1px 1px 1px);\n",
       "  clip: rect(1px, 1px, 1px, 1px);\n",
       "  height: 1px;\n",
       "  margin: -1px;\n",
       "  overflow: hidden;\n",
       "  padding: 0;\n",
       "  position: absolute;\n",
       "  width: 1px;\n",
       "}\n",
       "\n",
       "#sk-container-id-1 div.sk-dashed-wrapped {\n",
       "  border: 1px dashed var(--sklearn-color-line);\n",
       "  margin: 0 0.4em 0.5em 0.4em;\n",
       "  box-sizing: border-box;\n",
       "  padding-bottom: 0.4em;\n",
       "  background-color: var(--sklearn-color-background);\n",
       "}\n",
       "\n",
       "#sk-container-id-1 div.sk-container {\n",
       "  /* jupyter's `normalize.less` sets `[hidden] { display: none; }`\n",
       "     but bootstrap.min.css set `[hidden] { display: none !important; }`\n",
       "     so we also need the `!important` here to be able to override the\n",
       "     default hidden behavior on the sphinx rendered scikit-learn.org.\n",
       "     See: https://github.com/scikit-learn/scikit-learn/issues/21755 */\n",
       "  display: inline-block !important;\n",
       "  position: relative;\n",
       "}\n",
       "\n",
       "#sk-container-id-1 div.sk-text-repr-fallback {\n",
       "  display: none;\n",
       "}\n",
       "\n",
       "div.sk-parallel-item,\n",
       "div.sk-serial,\n",
       "div.sk-item {\n",
       "  /* draw centered vertical line to link estimators */\n",
       "  background-image: linear-gradient(var(--sklearn-color-text-on-default-background), var(--sklearn-color-text-on-default-background));\n",
       "  background-size: 2px 100%;\n",
       "  background-repeat: no-repeat;\n",
       "  background-position: center center;\n",
       "}\n",
       "\n",
       "/* Parallel-specific style estimator block */\n",
       "\n",
       "#sk-container-id-1 div.sk-parallel-item::after {\n",
       "  content: \"\";\n",
       "  width: 100%;\n",
       "  border-bottom: 2px solid var(--sklearn-color-text-on-default-background);\n",
       "  flex-grow: 1;\n",
       "}\n",
       "\n",
       "#sk-container-id-1 div.sk-parallel {\n",
       "  display: flex;\n",
       "  align-items: stretch;\n",
       "  justify-content: center;\n",
       "  background-color: var(--sklearn-color-background);\n",
       "  position: relative;\n",
       "}\n",
       "\n",
       "#sk-container-id-1 div.sk-parallel-item {\n",
       "  display: flex;\n",
       "  flex-direction: column;\n",
       "}\n",
       "\n",
       "#sk-container-id-1 div.sk-parallel-item:first-child::after {\n",
       "  align-self: flex-end;\n",
       "  width: 50%;\n",
       "}\n",
       "\n",
       "#sk-container-id-1 div.sk-parallel-item:last-child::after {\n",
       "  align-self: flex-start;\n",
       "  width: 50%;\n",
       "}\n",
       "\n",
       "#sk-container-id-1 div.sk-parallel-item:only-child::after {\n",
       "  width: 0;\n",
       "}\n",
       "\n",
       "/* Serial-specific style estimator block */\n",
       "\n",
       "#sk-container-id-1 div.sk-serial {\n",
       "  display: flex;\n",
       "  flex-direction: column;\n",
       "  align-items: center;\n",
       "  background-color: var(--sklearn-color-background);\n",
       "  padding-right: 1em;\n",
       "  padding-left: 1em;\n",
       "}\n",
       "\n",
       "\n",
       "/* Toggleable style: style used for estimator/Pipeline/ColumnTransformer box that is\n",
       "clickable and can be expanded/collapsed.\n",
       "- Pipeline and ColumnTransformer use this feature and define the default style\n",
       "- Estimators will overwrite some part of the style using the `sk-estimator` class\n",
       "*/\n",
       "\n",
       "/* Pipeline and ColumnTransformer style (default) */\n",
       "\n",
       "#sk-container-id-1 div.sk-toggleable {\n",
       "  /* Default theme specific background. It is overwritten whether we have a\n",
       "  specific estimator or a Pipeline/ColumnTransformer */\n",
       "  background-color: var(--sklearn-color-background);\n",
       "}\n",
       "\n",
       "/* Toggleable label */\n",
       "#sk-container-id-1 label.sk-toggleable__label {\n",
       "  cursor: pointer;\n",
       "  display: block;\n",
       "  width: 100%;\n",
       "  margin-bottom: 0;\n",
       "  padding: 0.5em;\n",
       "  box-sizing: border-box;\n",
       "  text-align: center;\n",
       "}\n",
       "\n",
       "#sk-container-id-1 label.sk-toggleable__label-arrow:before {\n",
       "  /* Arrow on the left of the label */\n",
       "  content: \"▸\";\n",
       "  float: left;\n",
       "  margin-right: 0.25em;\n",
       "  color: var(--sklearn-color-icon);\n",
       "}\n",
       "\n",
       "#sk-container-id-1 label.sk-toggleable__label-arrow:hover:before {\n",
       "  color: var(--sklearn-color-text);\n",
       "}\n",
       "\n",
       "/* Toggleable content - dropdown */\n",
       "\n",
       "#sk-container-id-1 div.sk-toggleable__content {\n",
       "  max-height: 0;\n",
       "  max-width: 0;\n",
       "  overflow: hidden;\n",
       "  text-align: left;\n",
       "  /* unfitted */\n",
       "  background-color: var(--sklearn-color-unfitted-level-0);\n",
       "}\n",
       "\n",
       "#sk-container-id-1 div.sk-toggleable__content.fitted {\n",
       "  /* fitted */\n",
       "  background-color: var(--sklearn-color-fitted-level-0);\n",
       "}\n",
       "\n",
       "#sk-container-id-1 div.sk-toggleable__content pre {\n",
       "  margin: 0.2em;\n",
       "  border-radius: 0.25em;\n",
       "  color: var(--sklearn-color-text);\n",
       "  /* unfitted */\n",
       "  background-color: var(--sklearn-color-unfitted-level-0);\n",
       "}\n",
       "\n",
       "#sk-container-id-1 div.sk-toggleable__content.fitted pre {\n",
       "  /* unfitted */\n",
       "  background-color: var(--sklearn-color-fitted-level-0);\n",
       "}\n",
       "\n",
       "#sk-container-id-1 input.sk-toggleable__control:checked~div.sk-toggleable__content {\n",
       "  /* Expand drop-down */\n",
       "  max-height: 200px;\n",
       "  max-width: 100%;\n",
       "  overflow: auto;\n",
       "}\n",
       "\n",
       "#sk-container-id-1 input.sk-toggleable__control:checked~label.sk-toggleable__label-arrow:before {\n",
       "  content: \"▾\";\n",
       "}\n",
       "\n",
       "/* Pipeline/ColumnTransformer-specific style */\n",
       "\n",
       "#sk-container-id-1 div.sk-label input.sk-toggleable__control:checked~label.sk-toggleable__label {\n",
       "  color: var(--sklearn-color-text);\n",
       "  background-color: var(--sklearn-color-unfitted-level-2);\n",
       "}\n",
       "\n",
       "#sk-container-id-1 div.sk-label.fitted input.sk-toggleable__control:checked~label.sk-toggleable__label {\n",
       "  background-color: var(--sklearn-color-fitted-level-2);\n",
       "}\n",
       "\n",
       "/* Estimator-specific style */\n",
       "\n",
       "/* Colorize estimator box */\n",
       "#sk-container-id-1 div.sk-estimator input.sk-toggleable__control:checked~label.sk-toggleable__label {\n",
       "  /* unfitted */\n",
       "  background-color: var(--sklearn-color-unfitted-level-2);\n",
       "}\n",
       "\n",
       "#sk-container-id-1 div.sk-estimator.fitted input.sk-toggleable__control:checked~label.sk-toggleable__label {\n",
       "  /* fitted */\n",
       "  background-color: var(--sklearn-color-fitted-level-2);\n",
       "}\n",
       "\n",
       "#sk-container-id-1 div.sk-label label.sk-toggleable__label,\n",
       "#sk-container-id-1 div.sk-label label {\n",
       "  /* The background is the default theme color */\n",
       "  color: var(--sklearn-color-text-on-default-background);\n",
       "}\n",
       "\n",
       "/* On hover, darken the color of the background */\n",
       "#sk-container-id-1 div.sk-label:hover label.sk-toggleable__label {\n",
       "  color: var(--sklearn-color-text);\n",
       "  background-color: var(--sklearn-color-unfitted-level-2);\n",
       "}\n",
       "\n",
       "/* Label box, darken color on hover, fitted */\n",
       "#sk-container-id-1 div.sk-label.fitted:hover label.sk-toggleable__label.fitted {\n",
       "  color: var(--sklearn-color-text);\n",
       "  background-color: var(--sklearn-color-fitted-level-2);\n",
       "}\n",
       "\n",
       "/* Estimator label */\n",
       "\n",
       "#sk-container-id-1 div.sk-label label {\n",
       "  font-family: monospace;\n",
       "  font-weight: bold;\n",
       "  display: inline-block;\n",
       "  line-height: 1.2em;\n",
       "}\n",
       "\n",
       "#sk-container-id-1 div.sk-label-container {\n",
       "  text-align: center;\n",
       "}\n",
       "\n",
       "/* Estimator-specific */\n",
       "#sk-container-id-1 div.sk-estimator {\n",
       "  font-family: monospace;\n",
       "  border: 1px dotted var(--sklearn-color-border-box);\n",
       "  border-radius: 0.25em;\n",
       "  box-sizing: border-box;\n",
       "  margin-bottom: 0.5em;\n",
       "  /* unfitted */\n",
       "  background-color: var(--sklearn-color-unfitted-level-0);\n",
       "}\n",
       "\n",
       "#sk-container-id-1 div.sk-estimator.fitted {\n",
       "  /* fitted */\n",
       "  background-color: var(--sklearn-color-fitted-level-0);\n",
       "}\n",
       "\n",
       "/* on hover */\n",
       "#sk-container-id-1 div.sk-estimator:hover {\n",
       "  /* unfitted */\n",
       "  background-color: var(--sklearn-color-unfitted-level-2);\n",
       "}\n",
       "\n",
       "#sk-container-id-1 div.sk-estimator.fitted:hover {\n",
       "  /* fitted */\n",
       "  background-color: var(--sklearn-color-fitted-level-2);\n",
       "}\n",
       "\n",
       "/* Specification for estimator info (e.g. \"i\" and \"?\") */\n",
       "\n",
       "/* Common style for \"i\" and \"?\" */\n",
       "\n",
       ".sk-estimator-doc-link,\n",
       "a:link.sk-estimator-doc-link,\n",
       "a:visited.sk-estimator-doc-link {\n",
       "  float: right;\n",
       "  font-size: smaller;\n",
       "  line-height: 1em;\n",
       "  font-family: monospace;\n",
       "  background-color: var(--sklearn-color-background);\n",
       "  border-radius: 1em;\n",
       "  height: 1em;\n",
       "  width: 1em;\n",
       "  text-decoration: none !important;\n",
       "  margin-left: 1ex;\n",
       "  /* unfitted */\n",
       "  border: var(--sklearn-color-unfitted-level-1) 1pt solid;\n",
       "  color: var(--sklearn-color-unfitted-level-1);\n",
       "}\n",
       "\n",
       ".sk-estimator-doc-link.fitted,\n",
       "a:link.sk-estimator-doc-link.fitted,\n",
       "a:visited.sk-estimator-doc-link.fitted {\n",
       "  /* fitted */\n",
       "  border: var(--sklearn-color-fitted-level-1) 1pt solid;\n",
       "  color: var(--sklearn-color-fitted-level-1);\n",
       "}\n",
       "\n",
       "/* On hover */\n",
       "div.sk-estimator:hover .sk-estimator-doc-link:hover,\n",
       ".sk-estimator-doc-link:hover,\n",
       "div.sk-label-container:hover .sk-estimator-doc-link:hover,\n",
       ".sk-estimator-doc-link:hover {\n",
       "  /* unfitted */\n",
       "  background-color: var(--sklearn-color-unfitted-level-3);\n",
       "  color: var(--sklearn-color-background);\n",
       "  text-decoration: none;\n",
       "}\n",
       "\n",
       "div.sk-estimator.fitted:hover .sk-estimator-doc-link.fitted:hover,\n",
       ".sk-estimator-doc-link.fitted:hover,\n",
       "div.sk-label-container:hover .sk-estimator-doc-link.fitted:hover,\n",
       ".sk-estimator-doc-link.fitted:hover {\n",
       "  /* fitted */\n",
       "  background-color: var(--sklearn-color-fitted-level-3);\n",
       "  color: var(--sklearn-color-background);\n",
       "  text-decoration: none;\n",
       "}\n",
       "\n",
       "/* Span, style for the box shown on hovering the info icon */\n",
       ".sk-estimator-doc-link span {\n",
       "  display: none;\n",
       "  z-index: 9999;\n",
       "  position: relative;\n",
       "  font-weight: normal;\n",
       "  right: .2ex;\n",
       "  padding: .5ex;\n",
       "  margin: .5ex;\n",
       "  width: min-content;\n",
       "  min-width: 20ex;\n",
       "  max-width: 50ex;\n",
       "  color: var(--sklearn-color-text);\n",
       "  box-shadow: 2pt 2pt 4pt #999;\n",
       "  /* unfitted */\n",
       "  background: var(--sklearn-color-unfitted-level-0);\n",
       "  border: .5pt solid var(--sklearn-color-unfitted-level-3);\n",
       "}\n",
       "\n",
       ".sk-estimator-doc-link.fitted span {\n",
       "  /* fitted */\n",
       "  background: var(--sklearn-color-fitted-level-0);\n",
       "  border: var(--sklearn-color-fitted-level-3);\n",
       "}\n",
       "\n",
       ".sk-estimator-doc-link:hover span {\n",
       "  display: block;\n",
       "}\n",
       "\n",
       "/* \"?\"-specific style due to the `<a>` HTML tag */\n",
       "\n",
       "#sk-container-id-1 a.estimator_doc_link {\n",
       "  float: right;\n",
       "  font-size: 1rem;\n",
       "  line-height: 1em;\n",
       "  font-family: monospace;\n",
       "  background-color: var(--sklearn-color-background);\n",
       "  border-radius: 1rem;\n",
       "  height: 1rem;\n",
       "  width: 1rem;\n",
       "  text-decoration: none;\n",
       "  /* unfitted */\n",
       "  color: var(--sklearn-color-unfitted-level-1);\n",
       "  border: var(--sklearn-color-unfitted-level-1) 1pt solid;\n",
       "}\n",
       "\n",
       "#sk-container-id-1 a.estimator_doc_link.fitted {\n",
       "  /* fitted */\n",
       "  border: var(--sklearn-color-fitted-level-1) 1pt solid;\n",
       "  color: var(--sklearn-color-fitted-level-1);\n",
       "}\n",
       "\n",
       "/* On hover */\n",
       "#sk-container-id-1 a.estimator_doc_link:hover {\n",
       "  /* unfitted */\n",
       "  background-color: var(--sklearn-color-unfitted-level-3);\n",
       "  color: var(--sklearn-color-background);\n",
       "  text-decoration: none;\n",
       "}\n",
       "\n",
       "#sk-container-id-1 a.estimator_doc_link.fitted:hover {\n",
       "  /* fitted */\n",
       "  background-color: var(--sklearn-color-fitted-level-3);\n",
       "}\n",
       "</style><div id=\"sk-container-id-1\" class=\"sk-top-container\"><div class=\"sk-text-repr-fallback\"><pre>DecisionTreeClassifier(max_depth=3, min_samples_leaf=5, random_state=42)</pre><b>In a Jupyter environment, please rerun this cell to show the HTML representation or trust the notebook. <br />On GitHub, the HTML representation is unable to render, please try loading this page with nbviewer.org.</b></div><div class=\"sk-container\" hidden><div class=\"sk-item\"><div class=\"sk-estimator fitted sk-toggleable\"><input class=\"sk-toggleable__control sk-hidden--visually\" id=\"sk-estimator-id-1\" type=\"checkbox\" checked><label for=\"sk-estimator-id-1\" class=\"sk-toggleable__label fitted sk-toggleable__label-arrow fitted\">&nbsp;&nbsp;DecisionTreeClassifier<a class=\"sk-estimator-doc-link fitted\" rel=\"noreferrer\" target=\"_blank\" href=\"https://scikit-learn.org/1.4/modules/generated/sklearn.tree.DecisionTreeClassifier.html\">?<span>Documentation for DecisionTreeClassifier</span></a><span class=\"sk-estimator-doc-link fitted\">i<span>Fitted</span></span></label><div class=\"sk-toggleable__content fitted\"><pre>DecisionTreeClassifier(max_depth=3, min_samples_leaf=5, random_state=42)</pre></div> </div></div></div></div>"
      ],
      "text/plain": [
       "DecisionTreeClassifier(max_depth=3, min_samples_leaf=5, random_state=42)"
      ]
     },
     "execution_count": 5,
     "metadata": {},
     "output_type": "execute_result"
    }
   ],
   "source": [
    "from sklearn.tree import DecisionTreeClassifier\n",
    "clf_model = DecisionTreeClassifier(criterion=\"gini\", random_state=42,max_depth=3, min_samples_leaf=5)\n",
    "clf_model.fit(X_train,y_train)"
   ]
  },
  {
   "cell_type": "markdown",
   "metadata": {
    "id": "A1217pbzjSpj"
   },
   "source": [
    "\n",
    "- Predict the outcomes using the testing dataset.\n"
   ]
  },
  {
   "cell_type": "code",
   "execution_count": 6,
   "metadata": {
    "id": "KY3fbKHBiZwU"
   },
   "outputs": [],
   "source": [
    "y_predict = clf_model.predict(X_test)"
   ]
  },
  {
   "cell_type": "markdown",
   "metadata": {
    "id": "pWeS9wxOjV_b"
   },
   "source": [
    "\n",
    "- Import accuracy_score, classification_report, and confusion_matrix from sklearn.metrics.\n",
    "- Calculate the accuracy score.\n"
   ]
  },
  {
   "cell_type": "code",
   "execution_count": 7,
   "metadata": {
    "colab": {
     "base_uri": "https://localhost:8080/"
    },
    "id": "-q_K3vJ3iZwU",
    "outputId": "2eed26e9-c47f-4d1d-99dd-0d3bd7a4e5b5"
   },
   "outputs": [
    {
     "name": "stdout",
     "output_type": "stream",
     "text": [
      "Accuracy: 0.7021276595744681\n",
      "Confusion Matrix:\n",
      "[[ 0  8 10]\n",
      " [ 0 62 18]\n",
      " [ 0 20 70]]\n",
      "Classification Report:\n",
      "              precision    recall  f1-score   support\n",
      "\n",
      "           B       1.00      0.00      0.00        18\n",
      "           L       0.69      0.78      0.73        80\n",
      "           R       0.71      0.78      0.74        90\n",
      "\n",
      "    accuracy                           0.70       188\n",
      "   macro avg       0.80      0.52      0.49       188\n",
      "weighted avg       0.73      0.70      0.67       188\n",
      "\n"
     ]
    }
   ],
   "source": [
    "from sklearn.metrics import accuracy_score, classification_report, confusion_matrix\n",
    "\n",
    "# Assuming y_test contains the true labels and y_predict contains the predicted labels\n",
    "accuracy = accuracy_score(y_test, y_predict)\n",
    "print(\"Accuracy:\", accuracy)\n",
    "\n",
    "cm = confusion_matrix(y_test, y_predict)\n",
    "print(\"Confusion Matrix:\")\n",
    "print(cm)\n",
    "\n",
    "report = classification_report(y_test, y_predict, zero_division=1)\n",
    "print(\"Classification Report:\")\n",
    "print(report)"
   ]
  },
  {
   "cell_type": "markdown",
   "metadata": {
    "id": "zrdOT9kT7ZFz"
   },
   "source": [
    "__Observation__\n",
    "- In the above output, you can see the confusion matrix and the values for accuracy, precision, recall, f1-score, and support."
   ]
  },
  {
   "cell_type": "markdown",
   "metadata": {
    "id": "oYStRuYujaWJ"
   },
   "source": [
    "\n",
    "- Create a list of target and feature names.\n",
    "- Import export_text from sklearn.tree.\n",
    "- Display the decision tree as text.\n"
   ]
  },
  {
   "cell_type": "code",
   "execution_count": 8,
   "metadata": {
    "id": "0rPBvlNIiZwU"
   },
   "outputs": [],
   "source": [
    "target = list(df['Class Name'].unique())\n",
    "feature_names = list(X.columns)"
   ]
  },
  {
   "cell_type": "markdown",
   "metadata": {
    "id": "oQh-V-8o8FTt"
   },
   "source": [
    "__Observation__\n",
    "- Now, you have created a target."
   ]
  },
  {
   "cell_type": "markdown",
   "metadata": {
    "id": "6DCBohAs8Qnr"
   },
   "source": [
    "Let's plot the decision tree using an export_tree."
   ]
  },
  {
   "cell_type": "code",
   "execution_count": 9,
   "metadata": {
    "colab": {
     "base_uri": "https://localhost:8080/"
    },
    "id": "mw5OtYhUiZwU",
    "outputId": "45106bd5-aa8f-4516-f167-5a097ddc0912"
   },
   "outputs": [
    {
     "name": "stdout",
     "output_type": "stream",
     "text": [
      "|--- Left weight <= 2.50\n",
      "|   |--- Right distance <= 1.50\n",
      "|   |   |--- Left distance <= 2.50\n",
      "|   |   |   |--- class: R\n",
      "|   |   |--- Left distance >  2.50\n",
      "|   |   |   |--- class: L\n",
      "|   |--- Right distance >  1.50\n",
      "|   |   |--- Right weight <= 2.50\n",
      "|   |   |   |--- class: R\n",
      "|   |   |--- Right weight >  2.50\n",
      "|   |   |   |--- class: R\n",
      "|--- Left weight >  2.50\n",
      "|   |--- Left distance <= 2.50\n",
      "|   |   |--- Right weight <= 2.50\n",
      "|   |   |   |--- class: L\n",
      "|   |   |--- Right weight >  2.50\n",
      "|   |   |   |--- class: R\n",
      "|   |--- Left distance >  2.50\n",
      "|   |   |--- Right distance <= 3.50\n",
      "|   |   |   |--- class: L\n",
      "|   |   |--- Right distance >  3.50\n",
      "|   |   |   |--- class: L\n",
      "\n"
     ]
    }
   ],
   "source": [
    "from sklearn.tree import export_text\n",
    "r = export_text(clf_model, feature_names=feature_names)\n",
    "print(r)"
   ]
  },
  {
   "cell_type": "markdown",
   "metadata": {
    "id": "saV6taJNcUMb"
   },
   "source": [
    "__Observations__\n",
    "- You can see how the decision tree has spread.\n",
    "- For example, in the above case, the left weight is distributed between two points: less than 2.5 and greater than 2.5.\n",
    "- The right distance is divided into two points: less than 1.5 and greater than 5.\n",
    "- Finally, you have a class making predictions, as this is how it is predicted from top to bottom."
   ]
  },
  {
   "cell_type": "markdown",
   "metadata": {
    "id": "sZiMqVBI5hFX"
   },
   "source": [
    "## __3. Random Forest__"
   ]
  },
  {
   "cell_type": "markdown",
   "metadata": {
    "id": "mruFGXNV5nQF"
   },
   "source": [
    "Random Forest, an ensemble learning method, is used for classification and regression tasks. It constructs multiple decision trees during training and outputs the mode."
   ]
  },
  {
   "cell_type": "markdown",
   "metadata": {
    "id": "gWxQOQjk5nKg"
   },
   "source": [
    "![link text](https://labcontent.simplicdn.net/data-content/content-assets/Data_and_AI/ML/New/Lesson_05_Supervised_Learning_Classification/random_forest.png)"
   ]
  },
  {
   "cell_type": "markdown",
   "metadata": {
    "id": "sFhbOubb5nNM"
   },
   "source": [
    "It is an ensemble learning technique that combines multiple classifiers to solve a complex problem."
   ]
  },
  {
   "cell_type": "markdown",
   "metadata": {
    "id": "VlGHiEUrAmi2"
   },
   "source": [
    "The primary difference between a typical decision tree and a random forest algorithm lies in how they select features."
   ]
  },
  {
   "cell_type": "markdown",
   "metadata": {
    "id": "d74e32qJAmpL"
   },
   "source": [
    "- Random forests choose a subset of features.\n",
    "- Decision trees evaluate all possible feature splits.\n",
    "\n"
   ]
  },
  {
   "cell_type": "markdown",
   "metadata": {
    "id": "BlIKWpOaAmsV"
   },
   "source": [
    "###__3.1 Advantages of Random Forest__###"
   ]
  },
  {
   "cell_type": "markdown",
   "metadata": {
    "id": "J4hxWgvZAmv3"
   },
   "source": [
    "- Reduced risk of overfitting: While decision trees fix data in nodes and leaves, making predictions straightforward, random forests lower the risk of overfitting.\n",
    "\n",
    "- Provides flexibility: It can handle the data set for classification as well as regression.\n",
    "- Easy to determine: It makes it easy to determine which variable or feature is more important and has the highest contribution towards the model.\n"
   ]
  },
  {
   "cell_type": "markdown",
   "metadata": {
    "id": "yD9hs-C2Am81"
   },
   "source": [
    "###__3.2 Disadvantages of Random Forest__###"
   ]
  },
  {
   "cell_type": "markdown",
   "metadata": {
    "id": "LDnaIzBRAnB0"
   },
   "source": [
    "- Time-consuming: While effective with large datasets, the algorithm slows down processing.\n",
    "- Requires more resources: It doesn’t work with a small data set.\n",
    "- More complex: Interpreting the prediction of a forest can be complex.\n",
    "\n"
   ]
  },
  {
   "cell_type": "markdown",
   "metadata": {
    "id": "tN3wqM2cAnE8"
   },
   "source": [
    "Now let us build a Random Forest model."
   ]
  },
  {
   "cell_type": "markdown",
   "metadata": {
    "id": "Y2aGelTNkI95"
   },
   "source": [
    "\n",
    "- Import pandas for data handling and NumPy for numerical operations.\n",
    "- Load the dataset using pandas __.read_csv()__ and inspect the first few rows with __.head()__ to understand the data structure.\n",
    "- Use __.info()__ to check for data types and missing values.\n"
   ]
  },
  {
   "cell_type": "code",
   "execution_count": 1,
   "metadata": {
    "id": "8amcdf-sjlSX",
    "outputId": "c950d2de-93c7-4b40-bd67-a4eeca24f640"
   },
   "outputs": [],
   "source": [
    "import pandas as pd\n",
    "import numpy as np\n",
    "dataset = pd.read_csv('petrol_consumption.csv')"
   ]
  },
  {
   "cell_type": "code",
   "execution_count": 2,
   "metadata": {
    "id": "8amcdf-sjlSX",
    "outputId": "c950d2de-93c7-4b40-bd67-a4eeca24f640"
   },
   "outputs": [
    {
     "data": {
      "text/html": [
       "<div>\n",
       "<style scoped>\n",
       "    .dataframe tbody tr th:only-of-type {\n",
       "        vertical-align: middle;\n",
       "    }\n",
       "\n",
       "    .dataframe tbody tr th {\n",
       "        vertical-align: top;\n",
       "    }\n",
       "\n",
       "    .dataframe thead th {\n",
       "        text-align: right;\n",
       "    }\n",
       "</style>\n",
       "<table border=\"1\" class=\"dataframe\">\n",
       "  <thead>\n",
       "    <tr style=\"text-align: right;\">\n",
       "      <th></th>\n",
       "      <th>Petrol_tax</th>\n",
       "      <th>Average_income</th>\n",
       "      <th>Paved_Highways</th>\n",
       "      <th>Population_Driver_licence(%)</th>\n",
       "      <th>Petrol_Consumption</th>\n",
       "    </tr>\n",
       "  </thead>\n",
       "  <tbody>\n",
       "    <tr>\n",
       "      <th>0</th>\n",
       "      <td>9.0</td>\n",
       "      <td>3571</td>\n",
       "      <td>1976</td>\n",
       "      <td>0.525</td>\n",
       "      <td>541</td>\n",
       "    </tr>\n",
       "    <tr>\n",
       "      <th>1</th>\n",
       "      <td>9.0</td>\n",
       "      <td>4092</td>\n",
       "      <td>1250</td>\n",
       "      <td>0.572</td>\n",
       "      <td>524</td>\n",
       "    </tr>\n",
       "    <tr>\n",
       "      <th>2</th>\n",
       "      <td>9.0</td>\n",
       "      <td>3865</td>\n",
       "      <td>1586</td>\n",
       "      <td>0.580</td>\n",
       "      <td>561</td>\n",
       "    </tr>\n",
       "    <tr>\n",
       "      <th>3</th>\n",
       "      <td>7.5</td>\n",
       "      <td>4870</td>\n",
       "      <td>2351</td>\n",
       "      <td>0.529</td>\n",
       "      <td>414</td>\n",
       "    </tr>\n",
       "    <tr>\n",
       "      <th>4</th>\n",
       "      <td>8.0</td>\n",
       "      <td>4399</td>\n",
       "      <td>431</td>\n",
       "      <td>0.544</td>\n",
       "      <td>410</td>\n",
       "    </tr>\n",
       "  </tbody>\n",
       "</table>\n",
       "</div>"
      ],
      "text/plain": [
       "   Petrol_tax  Average_income  Paved_Highways  Population_Driver_licence(%)  \\\n",
       "0         9.0            3571            1976                         0.525   \n",
       "1         9.0            4092            1250                         0.572   \n",
       "2         9.0            3865            1586                         0.580   \n",
       "3         7.5            4870            2351                         0.529   \n",
       "4         8.0            4399             431                         0.544   \n",
       "\n",
       "   Petrol_Consumption  \n",
       "0                 541  \n",
       "1                 524  \n",
       "2                 561  \n",
       "3                 414  \n",
       "4                 410  "
      ]
     },
     "execution_count": 2,
     "metadata": {},
     "output_type": "execute_result"
    }
   ],
   "source": [
    "dataset.head()"
   ]
  },
  {
   "cell_type": "code",
   "execution_count": 3,
   "metadata": {
    "id": "8amcdf-sjlSX",
    "outputId": "c950d2de-93c7-4b40-bd67-a4eeca24f640"
   },
   "outputs": [
    {
     "name": "stdout",
     "output_type": "stream",
     "text": [
      "<class 'pandas.core.frame.DataFrame'>\n",
      "RangeIndex: 48 entries, 0 to 47\n",
      "Data columns (total 5 columns):\n",
      " #   Column                        Non-Null Count  Dtype  \n",
      "---  ------                        --------------  -----  \n",
      " 0   Petrol_tax                    48 non-null     float64\n",
      " 1   Average_income                48 non-null     int64  \n",
      " 2   Paved_Highways                48 non-null     int64  \n",
      " 3   Population_Driver_licence(%)  48 non-null     float64\n",
      " 4   Petrol_Consumption            48 non-null     int64  \n",
      "dtypes: float64(2), int64(3)\n",
      "memory usage: 2.0 KB\n",
      "None\n"
     ]
    }
   ],
   "source": [
    "print(dataset.info())"
   ]
  },
  {
   "cell_type": "markdown",
   "metadata": {
    "id": "9KPFqbQMkMzW"
   },
   "source": [
    "- Select all columns except the target as features __(X)__.\n",
    "- This is done by excluding the last column of the dataset.\n",
    "- Convert the target variable, __Petrol_Consumption__, into a binary categorical variable __(y)__.\n",
    "- This involves categorizing the consumption into two groups (above or below the median) to frame it as a classification problem.\n"
   ]
  },
  {
   "cell_type": "code",
   "execution_count": 9,
   "metadata": {
    "id": "3CWaxBjQjlSb"
   },
   "outputs": [],
   "source": [
    "X = dataset.iloc[:, :-1]\n",
    "\n",
    "# For demonstration, let's assume 'Petrol_Consumption' has been converted to a categorical target variable\n",
    "y = np.where(dataset['Petrol_Consumption'] > dataset['Petrol_Consumption'].median(), 1, 0)\n"
   ]
  },
  {
   "cell_type": "markdown",
   "metadata": {
    "id": "gtQwE9_8kO_X"
   },
   "source": [
    "- Divide the dataset into training and testing sets to train the model and evaluate its performance on unseen data.\n",
    "- Use __train_test_split from sklearn.model_selection__ to split the features and target variable into training __(X_train, y_train)__ and testing sets __(X_test, y_test)__.\n",
    "- Specify the __test_size__ (example: 0.2 for 20% of the data as the test set) and a __random_state__ for reproducibility."
   ]
  },
  {
   "cell_type": "code",
   "execution_count": 10,
   "metadata": {
    "id": "K1qNFfkxjlSb"
   },
   "outputs": [],
   "source": [
    "from sklearn.model_selection import train_test_split\n",
    "\n",
    "X_train, X_test, y_train, y_test = train_test_split(X, y, test_size=0.2, random_state=0)\n"
   ]
  },
  {
   "cell_type": "markdown",
   "metadata": {
    "id": "JC77OXyLkiGw"
   },
   "source": [
    "- Import __RandomForestClassifier__ from sklearn.ensemble.\n",
    "- Initialize the classifier with a specified number of trees (example: n_estimators=100) and a random_state for reproducibility.\n",
    "- Fit the model to the training data __(X_train, y_train)__."
   ]
  },
  {
   "cell_type": "code",
   "execution_count": 18,
   "metadata": {
    "id": "zL_lmlkxjlSc",
    "outputId": "0e4f8ae0-c984-48fa-845e-f138f7c3ff9a"
   },
   "outputs": [
    {
     "data": {
      "text/html": [
       "<style>#sk-container-id-3 {color: black;}#sk-container-id-3 pre{padding: 0;}#sk-container-id-3 div.sk-toggleable {background-color: white;}#sk-container-id-3 label.sk-toggleable__label {cursor: pointer;display: block;width: 100%;margin-bottom: 0;padding: 0.3em;box-sizing: border-box;text-align: center;}#sk-container-id-3 label.sk-toggleable__label-arrow:before {content: \"▸\";float: left;margin-right: 0.25em;color: #696969;}#sk-container-id-3 label.sk-toggleable__label-arrow:hover:before {color: black;}#sk-container-id-3 div.sk-estimator:hover label.sk-toggleable__label-arrow:before {color: black;}#sk-container-id-3 div.sk-toggleable__content {max-height: 0;max-width: 0;overflow: hidden;text-align: left;background-color: #f0f8ff;}#sk-container-id-3 div.sk-toggleable__content pre {margin: 0.2em;color: black;border-radius: 0.25em;background-color: #f0f8ff;}#sk-container-id-3 input.sk-toggleable__control:checked~div.sk-toggleable__content {max-height: 200px;max-width: 100%;overflow: auto;}#sk-container-id-3 input.sk-toggleable__control:checked~label.sk-toggleable__label-arrow:before {content: \"▾\";}#sk-container-id-3 div.sk-estimator input.sk-toggleable__control:checked~label.sk-toggleable__label {background-color: #d4ebff;}#sk-container-id-3 div.sk-label input.sk-toggleable__control:checked~label.sk-toggleable__label {background-color: #d4ebff;}#sk-container-id-3 input.sk-hidden--visually {border: 0;clip: rect(1px 1px 1px 1px);clip: rect(1px, 1px, 1px, 1px);height: 1px;margin: -1px;overflow: hidden;padding: 0;position: absolute;width: 1px;}#sk-container-id-3 div.sk-estimator {font-family: monospace;background-color: #f0f8ff;border: 1px dotted black;border-radius: 0.25em;box-sizing: border-box;margin-bottom: 0.5em;}#sk-container-id-3 div.sk-estimator:hover {background-color: #d4ebff;}#sk-container-id-3 div.sk-parallel-item::after {content: \"\";width: 100%;border-bottom: 1px solid gray;flex-grow: 1;}#sk-container-id-3 div.sk-label:hover label.sk-toggleable__label {background-color: #d4ebff;}#sk-container-id-3 div.sk-serial::before {content: \"\";position: absolute;border-left: 1px solid gray;box-sizing: border-box;top: 0;bottom: 0;left: 50%;z-index: 0;}#sk-container-id-3 div.sk-serial {display: flex;flex-direction: column;align-items: center;background-color: white;padding-right: 0.2em;padding-left: 0.2em;position: relative;}#sk-container-id-3 div.sk-item {position: relative;z-index: 1;}#sk-container-id-3 div.sk-parallel {display: flex;align-items: stretch;justify-content: center;background-color: white;position: relative;}#sk-container-id-3 div.sk-item::before, #sk-container-id-3 div.sk-parallel-item::before {content: \"\";position: absolute;border-left: 1px solid gray;box-sizing: border-box;top: 0;bottom: 0;left: 50%;z-index: -1;}#sk-container-id-3 div.sk-parallel-item {display: flex;flex-direction: column;z-index: 1;position: relative;background-color: white;}#sk-container-id-3 div.sk-parallel-item:first-child::after {align-self: flex-end;width: 50%;}#sk-container-id-3 div.sk-parallel-item:last-child::after {align-self: flex-start;width: 50%;}#sk-container-id-3 div.sk-parallel-item:only-child::after {width: 0;}#sk-container-id-3 div.sk-dashed-wrapped {border: 1px dashed gray;margin: 0 0.4em 0.5em 0.4em;box-sizing: border-box;padding-bottom: 0.4em;background-color: white;}#sk-container-id-3 div.sk-label label {font-family: monospace;font-weight: bold;display: inline-block;line-height: 1.2em;}#sk-container-id-3 div.sk-label-container {text-align: center;}#sk-container-id-3 div.sk-container {/* jupyter's `normalize.less` sets `[hidden] { display: none; }` but bootstrap.min.css set `[hidden] { display: none !important; }` so we also need the `!important` here to be able to override the default hidden behavior on the sphinx rendered scikit-learn.org. See: https://github.com/scikit-learn/scikit-learn/issues/21755 */display: inline-block !important;position: relative;}#sk-container-id-3 div.sk-text-repr-fallback {display: none;}</style><div id=\"sk-container-id-3\" class=\"sk-top-container\"><div class=\"sk-text-repr-fallback\"><pre>RandomForestClassifier(oob_score=True, random_state=0)</pre><b>In a Jupyter environment, please rerun this cell to show the HTML representation or trust the notebook. <br />On GitHub, the HTML representation is unable to render, please try loading this page with nbviewer.org.</b></div><div class=\"sk-container\" hidden><div class=\"sk-item\"><div class=\"sk-estimator sk-toggleable\"><input class=\"sk-toggleable__control sk-hidden--visually\" id=\"sk-estimator-id-3\" type=\"checkbox\" checked><label for=\"sk-estimator-id-3\" class=\"sk-toggleable__label sk-toggleable__label-arrow\">RandomForestClassifier</label><div class=\"sk-toggleable__content\"><pre>RandomForestClassifier(oob_score=True, random_state=0)</pre></div></div></div></div></div>"
      ],
      "text/plain": [
       "RandomForestClassifier(oob_score=True, random_state=0)"
      ]
     },
     "execution_count": 18,
     "metadata": {},
     "output_type": "execute_result"
    }
   ],
   "source": [
    "from sklearn.ensemble import RandomForestClassifier\n",
    "\n",
    "classifier = RandomForestClassifier(n_estimators=100, random_state=0,oob_score=True)\n",
    "classifier.fit(X_train, y_train)"
   ]
  },
  {
   "cell_type": "markdown",
   "metadata": {
    "id": "235UlWLZklQP"
   },
   "source": [
    "- Use the trained classifier to make predictions on the test set __(X_test)__.\n",
    "- Calculate and print evaluation metrics such as accuracy, precision, and recall to understand the model's performance.\n",
    "- Import the necessary functions from __sklearn.metrics__."
   ]
  },
  {
   "cell_type": "code",
   "execution_count": 19,
   "metadata": {
    "id": "e3LWeaRQjlSc",
    "outputId": "d567e1ba-c9f2-4530-8535-33185ffc30d2"
   },
   "outputs": [
    {
     "name": "stdout",
     "output_type": "stream",
     "text": [
      "Train Accuracy: 1.0\n",
      "Train Precision: 1.0\n",
      "Train Recall: 1.0\n",
      "Test Accuracy: 0.7\n",
      "Test Precision: 0.8\n",
      "Test Recall: 0.6666666666666666\n"
     ]
    }
   ],
   "source": [
    "from sklearn import metrics\n",
    "\n",
    "y_pred_train = classifier.predict(X_train)\n",
    "print('Train Accuracy:', metrics.accuracy_score(y_train, y_pred_train))\n",
    "print('Train Precision:', metrics.precision_score(y_train, y_pred_train))\n",
    "print('Train Recall:', metrics.recall_score(y_train, y_pred_train))\n",
    "\n",
    "y_pred = classifier.predict(X_test)\n",
    "print('Test Accuracy:', metrics.accuracy_score(y_test, y_pred))\n",
    "print('Test Precision:', metrics.precision_score(y_test, y_pred))\n",
    "print('Test Recall:', metrics.recall_score(y_test, y_pred))"
   ]
  },
  {
   "cell_type": "code",
   "execution_count": 13,
   "metadata": {},
   "outputs": [
    {
     "data": {
      "text/plain": [
       "Index(['Petrol_tax', 'Average_income', 'Paved_Highways',\n",
       "       'Population_Driver_licence(%)'],\n",
       "      dtype='object')"
      ]
     },
     "execution_count": 13,
     "metadata": {},
     "output_type": "execute_result"
    }
   ],
   "source": [
    "X_train.columns"
   ]
  },
  {
   "cell_type": "code",
   "execution_count": 14,
   "metadata": {},
   "outputs": [
    {
     "data": {
      "text/plain": [
       "array([0.22527314, 0.26766953, 0.16359547, 0.34346185])"
      ]
     },
     "execution_count": 14,
     "metadata": {},
     "output_type": "execute_result"
    }
   ],
   "source": [
    "classifier.feature_importances_"
   ]
  },
  {
   "cell_type": "code",
   "execution_count": 16,
   "metadata": {},
   "outputs": [
    {
     "data": {
      "text/html": [
       "<div>\n",
       "<style scoped>\n",
       "    .dataframe tbody tr th:only-of-type {\n",
       "        vertical-align: middle;\n",
       "    }\n",
       "\n",
       "    .dataframe tbody tr th {\n",
       "        vertical-align: top;\n",
       "    }\n",
       "\n",
       "    .dataframe thead th {\n",
       "        text-align: right;\n",
       "    }\n",
       "</style>\n",
       "<table border=\"1\" class=\"dataframe\">\n",
       "  <thead>\n",
       "    <tr style=\"text-align: right;\">\n",
       "      <th></th>\n",
       "      <th>Feature Name</th>\n",
       "      <th>Importance Score</th>\n",
       "    </tr>\n",
       "  </thead>\n",
       "  <tbody>\n",
       "    <tr>\n",
       "      <th>0</th>\n",
       "      <td>Petrol_tax</td>\n",
       "      <td>0.225273</td>\n",
       "    </tr>\n",
       "    <tr>\n",
       "      <th>1</th>\n",
       "      <td>Average_income</td>\n",
       "      <td>0.267670</td>\n",
       "    </tr>\n",
       "    <tr>\n",
       "      <th>2</th>\n",
       "      <td>Paved_Highways</td>\n",
       "      <td>0.163595</td>\n",
       "    </tr>\n",
       "    <tr>\n",
       "      <th>3</th>\n",
       "      <td>Population_Driver_licence(%)</td>\n",
       "      <td>0.343462</td>\n",
       "    </tr>\n",
       "  </tbody>\n",
       "</table>\n",
       "</div>"
      ],
      "text/plain": [
       "                   Feature Name  Importance Score\n",
       "0                    Petrol_tax          0.225273\n",
       "1                Average_income          0.267670\n",
       "2                Paved_Highways          0.163595\n",
       "3  Population_Driver_licence(%)          0.343462"
      ]
     },
     "execution_count": 16,
     "metadata": {},
     "output_type": "execute_result"
    }
   ],
   "source": [
    "pd.DataFrame({'Feature Name':dataset.iloc[:,:-1].columns,'Importance Score':classifier.feature_importances_})"
   ]
  },
  {
   "cell_type": "code",
   "execution_count": 22,
   "metadata": {},
   "outputs": [
    {
     "data": {
      "text/plain": [
       "0.7631578947368421"
      ]
     },
     "execution_count": 22,
     "metadata": {},
     "output_type": "execute_result"
    }
   ],
   "source": [
    "classifier.oob_score_"
   ]
  },
  {
   "cell_type": "markdown",
   "metadata": {},
   "source": [
    "### the model is overfitted"
   ]
  },
  {
   "cell_type": "code",
   "execution_count": 29,
   "metadata": {},
   "outputs": [
    {
     "name": "stdout",
     "output_type": "stream",
     "text": [
      "Train Accuracy: 0.9736842105263158\n",
      "Train Precision: 0.9473684210526315\n",
      "Train Recall: 1.0\n",
      "Test Accuracy: 0.8\n",
      "Test Precision: 1.0\n",
      "Test Recall: 0.6666666666666666\n"
     ]
    }
   ],
   "source": [
    "classifier = RandomForestClassifier(n_estimators=100, random_state=0,oob_score=True,min_samples_split=12)\n",
    "classifier.fit(X_train, y_train)\n",
    "\n",
    "y_pred_train = classifier.predict(X_train)\n",
    "print('Train Accuracy:', metrics.accuracy_score(y_train, y_pred_train))\n",
    "print('Train Precision:', metrics.precision_score(y_train, y_pred_train))\n",
    "print('Train Recall:', metrics.recall_score(y_train, y_pred_train))\n",
    "\n",
    "y_pred = classifier.predict(X_test)\n",
    "print('Test Accuracy:', metrics.accuracy_score(y_test, y_pred))\n",
    "print('Test Precision:', metrics.precision_score(y_test, y_pred))\n",
    "print('Test Recall:', metrics.recall_score(y_test, y_pred))"
   ]
  },
  {
   "cell_type": "code",
   "execution_count": 30,
   "metadata": {},
   "outputs": [
    {
     "name": "stderr",
     "output_type": "stream",
     "text": [
      "[Parallel(n_jobs=-1)]: Using backend ThreadingBackend with 8 concurrent workers.\n",
      "[Parallel(n_jobs=-1)]: Done  34 tasks      | elapsed:    0.3s\n",
      "[Parallel(n_jobs=-1)]: Done 100 out of 100 | elapsed:    0.6s finished\n"
     ]
    },
    {
     "data": {
      "text/html": [
       "<style>#sk-container-id-7 {color: black;}#sk-container-id-7 pre{padding: 0;}#sk-container-id-7 div.sk-toggleable {background-color: white;}#sk-container-id-7 label.sk-toggleable__label {cursor: pointer;display: block;width: 100%;margin-bottom: 0;padding: 0.3em;box-sizing: border-box;text-align: center;}#sk-container-id-7 label.sk-toggleable__label-arrow:before {content: \"▸\";float: left;margin-right: 0.25em;color: #696969;}#sk-container-id-7 label.sk-toggleable__label-arrow:hover:before {color: black;}#sk-container-id-7 div.sk-estimator:hover label.sk-toggleable__label-arrow:before {color: black;}#sk-container-id-7 div.sk-toggleable__content {max-height: 0;max-width: 0;overflow: hidden;text-align: left;background-color: #f0f8ff;}#sk-container-id-7 div.sk-toggleable__content pre {margin: 0.2em;color: black;border-radius: 0.25em;background-color: #f0f8ff;}#sk-container-id-7 input.sk-toggleable__control:checked~div.sk-toggleable__content {max-height: 200px;max-width: 100%;overflow: auto;}#sk-container-id-7 input.sk-toggleable__control:checked~label.sk-toggleable__label-arrow:before {content: \"▾\";}#sk-container-id-7 div.sk-estimator input.sk-toggleable__control:checked~label.sk-toggleable__label {background-color: #d4ebff;}#sk-container-id-7 div.sk-label input.sk-toggleable__control:checked~label.sk-toggleable__label {background-color: #d4ebff;}#sk-container-id-7 input.sk-hidden--visually {border: 0;clip: rect(1px 1px 1px 1px);clip: rect(1px, 1px, 1px, 1px);height: 1px;margin: -1px;overflow: hidden;padding: 0;position: absolute;width: 1px;}#sk-container-id-7 div.sk-estimator {font-family: monospace;background-color: #f0f8ff;border: 1px dotted black;border-radius: 0.25em;box-sizing: border-box;margin-bottom: 0.5em;}#sk-container-id-7 div.sk-estimator:hover {background-color: #d4ebff;}#sk-container-id-7 div.sk-parallel-item::after {content: \"\";width: 100%;border-bottom: 1px solid gray;flex-grow: 1;}#sk-container-id-7 div.sk-label:hover label.sk-toggleable__label {background-color: #d4ebff;}#sk-container-id-7 div.sk-serial::before {content: \"\";position: absolute;border-left: 1px solid gray;box-sizing: border-box;top: 0;bottom: 0;left: 50%;z-index: 0;}#sk-container-id-7 div.sk-serial {display: flex;flex-direction: column;align-items: center;background-color: white;padding-right: 0.2em;padding-left: 0.2em;position: relative;}#sk-container-id-7 div.sk-item {position: relative;z-index: 1;}#sk-container-id-7 div.sk-parallel {display: flex;align-items: stretch;justify-content: center;background-color: white;position: relative;}#sk-container-id-7 div.sk-item::before, #sk-container-id-7 div.sk-parallel-item::before {content: \"\";position: absolute;border-left: 1px solid gray;box-sizing: border-box;top: 0;bottom: 0;left: 50%;z-index: -1;}#sk-container-id-7 div.sk-parallel-item {display: flex;flex-direction: column;z-index: 1;position: relative;background-color: white;}#sk-container-id-7 div.sk-parallel-item:first-child::after {align-self: flex-end;width: 50%;}#sk-container-id-7 div.sk-parallel-item:last-child::after {align-self: flex-start;width: 50%;}#sk-container-id-7 div.sk-parallel-item:only-child::after {width: 0;}#sk-container-id-7 div.sk-dashed-wrapped {border: 1px dashed gray;margin: 0 0.4em 0.5em 0.4em;box-sizing: border-box;padding-bottom: 0.4em;background-color: white;}#sk-container-id-7 div.sk-label label {font-family: monospace;font-weight: bold;display: inline-block;line-height: 1.2em;}#sk-container-id-7 div.sk-label-container {text-align: center;}#sk-container-id-7 div.sk-container {/* jupyter's `normalize.less` sets `[hidden] { display: none; }` but bootstrap.min.css set `[hidden] { display: none !important; }` so we also need the `!important` here to be able to override the default hidden behavior on the sphinx rendered scikit-learn.org. See: https://github.com/scikit-learn/scikit-learn/issues/21755 */display: inline-block !important;position: relative;}#sk-container-id-7 div.sk-text-repr-fallback {display: none;}</style><div id=\"sk-container-id-7\" class=\"sk-top-container\"><div class=\"sk-text-repr-fallback\"><pre>RandomForestClassifier(min_samples_split=12, n_jobs=-1, oob_score=True,\n",
       "                       random_state=0, verbose=True)</pre><b>In a Jupyter environment, please rerun this cell to show the HTML representation or trust the notebook. <br />On GitHub, the HTML representation is unable to render, please try loading this page with nbviewer.org.</b></div><div class=\"sk-container\" hidden><div class=\"sk-item\"><div class=\"sk-estimator sk-toggleable\"><input class=\"sk-toggleable__control sk-hidden--visually\" id=\"sk-estimator-id-7\" type=\"checkbox\" checked><label for=\"sk-estimator-id-7\" class=\"sk-toggleable__label sk-toggleable__label-arrow\">RandomForestClassifier</label><div class=\"sk-toggleable__content\"><pre>RandomForestClassifier(min_samples_split=12, n_jobs=-1, oob_score=True,\n",
       "                       random_state=0, verbose=True)</pre></div></div></div></div></div>"
      ],
      "text/plain": [
       "RandomForestClassifier(min_samples_split=12, n_jobs=-1, oob_score=True,\n",
       "                       random_state=0, verbose=True)"
      ]
     },
     "execution_count": 30,
     "metadata": {},
     "output_type": "execute_result"
    }
   ],
   "source": [
    "classifier = RandomForestClassifier(n_estimators=100, random_state=0,oob_score=True,min_samples_split=12,n_jobs=-1,verbose=True)\n",
    "classifier.fit(X_train, y_train)\n"
   ]
  },
  {
   "cell_type": "markdown",
   "metadata": {
    "id": "8J0SZlGtx7yq"
   },
   "source": [
    "### __Conclusion__\n",
    "\n",
    "- These steps outline a complete workflow for a machine learning classification task, from data preparation to model evaluation.\n",
    "- This process involves critical stages such as understanding the dataset, preparing the data for modeling, choosing an appropriate model, training the model, and evaluating its performance to ensure it can make accurate predictions on new, unseen data."
   ]
  },
  {
   "cell_type": "markdown",
   "metadata": {
    "id": "fcqygBLFHD7M"
   },
   "source": [
    "## __4. Support Vector Machine (SVM)__ \n"
   ]
  },
  {
   "cell_type": "markdown",
   "metadata": {
    "id": "3b6Ujv3aJjB7"
   },
   "source": [
    "It is a supervised machine-learning algorithm used for both classification and regression challenges. It is mainly utilized for classification-related problems.\n",
    "\n"
   ]
  },
  {
   "cell_type": "markdown",
   "metadata": {
    "id": "gt79PR_aJjGt"
   },
   "source": [
    "Let’s plot the data points in n-dimensional space, where n is the number of features in the data.\n"
   ]
  },
  {
   "cell_type": "markdown",
   "metadata": {
    "id": "OH3s-rXjJjKw"
   },
   "source": [
    "![link text](https://labcontent.simplicdn.net/data-content/content-assets/Data_and_AI/ML/New/Lesson_05_Supervised_Learning_Classification/svm.png)"
   ]
  },
  {
   "cell_type": "markdown",
   "metadata": {
    "id": "gqEhSRoLJjPB"
   },
   "source": [
    "- Perform classification using hyperplane.\n",
    "- Hyperplane helps differentiate the classes.\n"
   ]
  },
  {
   "cell_type": "markdown",
   "metadata": {
    "id": "0wpXZgQiLkG-"
   },
   "source": [
    "Following is a support vector algorithm:\n"
   ]
  },
  {
   "cell_type": "markdown",
   "metadata": {
    "id": "STnz-8Y3JjSi"
   },
   "source": [
    "![link text](https://labcontent.simplicdn.net/data-content/content-assets/Data_and_AI/ML/New/Lesson_05_Supervised_Learning_Classification/support_vector_algorithm2.png)"
   ]
  },
  {
   "cell_type": "markdown",
   "metadata": {
    "id": "G8u17u05JjWB"
   },
   "source": [
    "It provides analysis of data for classification and regression."
   ]
  },
  {
   "cell_type": "markdown",
   "metadata": {
    "id": "zsZLfPVPL2lN"
   },
   "source": [
    "In this, plotting is done in the nth dimension.\n"
   ]
  },
  {
   "cell_type": "markdown",
   "metadata": {
    "id": "-CzU0WLcLc91"
   },
   "source": [
    "![link text](https://labcontent.simplicdn.net/data-content/content-assets/Data_and_AI/ML/updated/Lesson_05/5.02.png)"
   ]
  },
  {
   "cell_type": "markdown",
   "metadata": {
    "id": "DycPpa9jLdBs"
   },
   "source": [
    "- The value of the data point and the value of the coordinate in the dimension are the same.\n",
    "\n",
    "- The hyperplane helps classify the two classes of data.\n",
    "\n",
    "- In KNN, a kernel function maps lower-dimensional data to higher-dimensional data.\n"
   ]
  },
  {
   "cell_type": "markdown",
   "metadata": {
    "id": "cIJzTwN3LyEh"
   },
   "source": [
    "There are two types of support vector machines:\n",
    "\n",
    "Linear SVM separates the data in a linear format.\n",
    "If the data set is separated into two using a straight line, the data is linearly separable.\n"
   ]
  },
  {
   "cell_type": "markdown",
   "metadata": {
    "id": "EGRhB0X2LyId"
   },
   "source": [
    "Nonlinear SVM is used when data is nonlinearly separated.\n",
    "\n",
    "If the dataset cannot be separated into two using a straight line, the data is nonlinear.\n"
   ]
  },
  {
   "cell_type": "markdown",
   "metadata": {
    "id": "ssulpegMHD9i"
   },
   "source": [
    "Now let's implement SVM."
   ]
  },
  {
   "cell_type": "markdown",
   "metadata": {
    "id": "TXv-ST6yoBxr"
   },
   "source": [
    "- Install and import the required libraries: NumPy, pandas, Seaborn, matplotlib, and scikit-learn.\n",
    "- Load the heart.csv dataset.\n"
   ]
  },
  {
   "cell_type": "code",
   "execution_count": 15,
   "metadata": {
    "colab": {
     "base_uri": "https://localhost:8080/"
    },
    "id": "WbuH6yRkyCpu",
    "outputId": "c65adb83-599c-4fd9-ab03-c890e9c5cccc"
   },
   "outputs": [
    {
     "name": "stdout",
     "output_type": "stream",
     "text": [
      "Defaulting to user installation because normal site-packages is not writeable\n",
      "Requirement already satisfied: scikit-learn in ./.local/lib/python3.10/site-packages (1.4.2)\n",
      "Requirement already satisfied: numpy>=1.19.5 in /usr/local/lib/python3.10/site-packages (from scikit-learn) (1.23.5)\n",
      "Requirement already satisfied: scipy>=1.6.0 in /usr/local/lib/python3.10/site-packages (from scikit-learn) (1.9.3)\n",
      "Requirement already satisfied: joblib>=1.2.0 in /usr/local/lib/python3.10/site-packages (from scikit-learn) (1.2.0)\n",
      "Requirement already satisfied: threadpoolctl>=2.0.0 in /usr/local/lib/python3.10/site-packages (from scikit-learn) (3.1.0)\n",
      "\n",
      "\u001b[1m[\u001b[0m\u001b[34;49mnotice\u001b[0m\u001b[1;39;49m]\u001b[0m\u001b[39;49m A new release of pip is available: \u001b[0m\u001b[31;49m23.3\u001b[0m\u001b[39;49m -> \u001b[0m\u001b[32;49m24.0\u001b[0m\n",
      "\u001b[1m[\u001b[0m\u001b[34;49mnotice\u001b[0m\u001b[1;39;49m]\u001b[0m\u001b[39;49m To update, run: \u001b[0m\u001b[32;49mpip install --upgrade pip\u001b[0m\n",
      "Note: you may need to restart the kernel to use updated packages.\n"
     ]
    }
   ],
   "source": [
    "pip install --upgrade scikit-learn"
   ]
  },
  {
   "cell_type": "code",
   "execution_count": 16,
   "metadata": {
    "id": "0U0cDz8Emry0"
   },
   "outputs": [],
   "source": [
    "import numpy as np\n",
    "import pandas as pd\n",
    "import seaborn as sns\n",
    "import matplotlib.pyplot as plt\n",
    "from sklearn.model_selection import train_test_split\n",
    "from sklearn import svm\n",
    "from sklearn import metrics\n",
    "from sklearn.metrics import confusion_matrix, classification_report\n",
    "from sklearn.metrics import ConfusionMatrixDisplay"
   ]
  },
  {
   "cell_type": "code",
   "execution_count": 17,
   "metadata": {
    "id": "jxWBmJcWmry2"
   },
   "outputs": [],
   "source": [
    "df = pd.read_csv(\"heart.csv\")"
   ]
  },
  {
   "cell_type": "markdown",
   "metadata": {
    "id": "FP0hKgJ0oE9B"
   },
   "source": [
    "- Display dataset information and summary statistics.\n",
    "- Create a scatter plot of age and cholesterol.\n",
    "- Check for missing values.\n",
    "- Describe and see the basic statistics of the given features.\n"
   ]
  },
  {
   "cell_type": "code",
   "execution_count": 18,
   "metadata": {
    "colab": {
     "base_uri": "https://localhost:8080/",
     "height": 206
    },
    "id": "A5hRWM6Amry3",
    "outputId": "637c46fb-0921-4be8-cea4-8950fd338f14"
   },
   "outputs": [
    {
     "data": {
      "text/html": [
       "<div>\n",
       "<style scoped>\n",
       "    .dataframe tbody tr th:only-of-type {\n",
       "        vertical-align: middle;\n",
       "    }\n",
       "\n",
       "    .dataframe tbody tr th {\n",
       "        vertical-align: top;\n",
       "    }\n",
       "\n",
       "    .dataframe thead th {\n",
       "        text-align: right;\n",
       "    }\n",
       "</style>\n",
       "<table border=\"1\" class=\"dataframe\">\n",
       "  <thead>\n",
       "    <tr style=\"text-align: right;\">\n",
       "      <th></th>\n",
       "      <th>Age</th>\n",
       "      <th>Sex</th>\n",
       "      <th>ChestPain</th>\n",
       "      <th>RestBP</th>\n",
       "      <th>Chol</th>\n",
       "      <th>Fbs</th>\n",
       "      <th>RestECG</th>\n",
       "      <th>MaxHR</th>\n",
       "      <th>ExAng</th>\n",
       "      <th>Oldpeak</th>\n",
       "      <th>Slope</th>\n",
       "      <th>Ca</th>\n",
       "      <th>Thal</th>\n",
       "      <th>AHD</th>\n",
       "    </tr>\n",
       "  </thead>\n",
       "  <tbody>\n",
       "    <tr>\n",
       "      <th>0</th>\n",
       "      <td>63</td>\n",
       "      <td>1</td>\n",
       "      <td>typical</td>\n",
       "      <td>145</td>\n",
       "      <td>233</td>\n",
       "      <td>1</td>\n",
       "      <td>2</td>\n",
       "      <td>150</td>\n",
       "      <td>0</td>\n",
       "      <td>2.3</td>\n",
       "      <td>3</td>\n",
       "      <td>0</td>\n",
       "      <td>fixed</td>\n",
       "      <td>No</td>\n",
       "    </tr>\n",
       "    <tr>\n",
       "      <th>1</th>\n",
       "      <td>67</td>\n",
       "      <td>1</td>\n",
       "      <td>asymptomatic</td>\n",
       "      <td>160</td>\n",
       "      <td>286</td>\n",
       "      <td>0</td>\n",
       "      <td>2</td>\n",
       "      <td>108</td>\n",
       "      <td>1</td>\n",
       "      <td>1.5</td>\n",
       "      <td>2</td>\n",
       "      <td>3</td>\n",
       "      <td>normal</td>\n",
       "      <td>Yes</td>\n",
       "    </tr>\n",
       "    <tr>\n",
       "      <th>2</th>\n",
       "      <td>67</td>\n",
       "      <td>1</td>\n",
       "      <td>asymptomatic</td>\n",
       "      <td>120</td>\n",
       "      <td>229</td>\n",
       "      <td>0</td>\n",
       "      <td>2</td>\n",
       "      <td>129</td>\n",
       "      <td>1</td>\n",
       "      <td>2.6</td>\n",
       "      <td>2</td>\n",
       "      <td>2</td>\n",
       "      <td>reversable</td>\n",
       "      <td>Yes</td>\n",
       "    </tr>\n",
       "    <tr>\n",
       "      <th>3</th>\n",
       "      <td>37</td>\n",
       "      <td>1</td>\n",
       "      <td>nonanginal</td>\n",
       "      <td>130</td>\n",
       "      <td>250</td>\n",
       "      <td>0</td>\n",
       "      <td>0</td>\n",
       "      <td>187</td>\n",
       "      <td>0</td>\n",
       "      <td>3.5</td>\n",
       "      <td>3</td>\n",
       "      <td>0</td>\n",
       "      <td>normal</td>\n",
       "      <td>No</td>\n",
       "    </tr>\n",
       "    <tr>\n",
       "      <th>4</th>\n",
       "      <td>41</td>\n",
       "      <td>0</td>\n",
       "      <td>nontypical</td>\n",
       "      <td>130</td>\n",
       "      <td>204</td>\n",
       "      <td>0</td>\n",
       "      <td>2</td>\n",
       "      <td>172</td>\n",
       "      <td>0</td>\n",
       "      <td>1.4</td>\n",
       "      <td>1</td>\n",
       "      <td>0</td>\n",
       "      <td>normal</td>\n",
       "      <td>No</td>\n",
       "    </tr>\n",
       "  </tbody>\n",
       "</table>\n",
       "</div>"
      ],
      "text/plain": [
       "   Age  Sex     ChestPain  RestBP  Chol  Fbs  RestECG  MaxHR  ExAng  Oldpeak  \\\n",
       "0   63    1       typical     145   233    1        2    150      0      2.3   \n",
       "1   67    1  asymptomatic     160   286    0        2    108      1      1.5   \n",
       "2   67    1  asymptomatic     120   229    0        2    129      1      2.6   \n",
       "3   37    1    nonanginal     130   250    0        0    187      0      3.5   \n",
       "4   41    0    nontypical     130   204    0        2    172      0      1.4   \n",
       "\n",
       "   Slope  Ca        Thal  AHD  \n",
       "0      3   0       fixed   No  \n",
       "1      2   3      normal  Yes  \n",
       "2      2   2  reversable  Yes  \n",
       "3      3   0      normal   No  \n",
       "4      1   0      normal   No  "
      ]
     },
     "execution_count": 18,
     "metadata": {},
     "output_type": "execute_result"
    }
   ],
   "source": [
    "df.head()"
   ]
  },
  {
   "cell_type": "markdown",
   "metadata": {
    "id": "ae18--i_J6bJ"
   },
   "source": [
    "__Observation__\n",
    "- Here, you can see a few rows of the dataset."
   ]
  },
  {
   "cell_type": "code",
   "execution_count": 19,
   "metadata": {
    "colab": {
     "base_uri": "https://localhost:8080/"
    },
    "id": "knvza0bKmry4",
    "outputId": "05a769c8-1512-4637-a825-73ce7043ed95"
   },
   "outputs": [
    {
     "name": "stdout",
     "output_type": "stream",
     "text": [
      "<class 'pandas.core.frame.DataFrame'>\n",
      "RangeIndex: 303 entries, 0 to 302\n",
      "Data columns (total 14 columns):\n",
      " #   Column     Non-Null Count  Dtype  \n",
      "---  ------     --------------  -----  \n",
      " 0   Age        303 non-null    int64  \n",
      " 1   Sex        303 non-null    int64  \n",
      " 2   ChestPain  303 non-null    object \n",
      " 3   RestBP     303 non-null    int64  \n",
      " 4   Chol       303 non-null    int64  \n",
      " 5   Fbs        303 non-null    int64  \n",
      " 6   RestECG    303 non-null    int64  \n",
      " 7   MaxHR      303 non-null    int64  \n",
      " 8   ExAng      303 non-null    int64  \n",
      " 9   Oldpeak    303 non-null    float64\n",
      " 10  Slope      303 non-null    int64  \n",
      " 11  Ca         303 non-null    int64  \n",
      " 12  Thal       303 non-null    object \n",
      " 13  AHD        303 non-null    object \n",
      "dtypes: float64(1), int64(10), object(3)\n",
      "memory usage: 33.3+ KB\n"
     ]
    }
   ],
   "source": [
    "df.info()"
   ]
  },
  {
   "cell_type": "markdown",
   "metadata": {
    "id": "_wM0KCVKKEif"
   },
   "source": [
    "__Observations__\n",
    "- As shown here, there are 303 observations and 14 features.\n",
    "- All the features have a numeric data type except for ChestPain and Thal,\n",
    "and there are no missing values."
   ]
  },
  {
   "cell_type": "markdown",
   "metadata": {
    "id": "-9TbWI4fKskk"
   },
   "source": [
    "Let’s describe and see the basic statistics of these features."
   ]
  },
  {
   "cell_type": "code",
   "execution_count": 20,
   "metadata": {
    "colab": {
     "base_uri": "https://localhost:8080/",
     "height": 300
    },
    "id": "2DtOlcDWmry4",
    "outputId": "cbd58a49-fd3d-41db-d2e2-71808323ca7b"
   },
   "outputs": [
    {
     "data": {
      "text/html": [
       "<div>\n",
       "<style scoped>\n",
       "    .dataframe tbody tr th:only-of-type {\n",
       "        vertical-align: middle;\n",
       "    }\n",
       "\n",
       "    .dataframe tbody tr th {\n",
       "        vertical-align: top;\n",
       "    }\n",
       "\n",
       "    .dataframe thead th {\n",
       "        text-align: right;\n",
       "    }\n",
       "</style>\n",
       "<table border=\"1\" class=\"dataframe\">\n",
       "  <thead>\n",
       "    <tr style=\"text-align: right;\">\n",
       "      <th></th>\n",
       "      <th>Age</th>\n",
       "      <th>Sex</th>\n",
       "      <th>RestBP</th>\n",
       "      <th>Chol</th>\n",
       "      <th>Fbs</th>\n",
       "      <th>RestECG</th>\n",
       "      <th>MaxHR</th>\n",
       "      <th>ExAng</th>\n",
       "      <th>Oldpeak</th>\n",
       "      <th>Slope</th>\n",
       "      <th>Ca</th>\n",
       "    </tr>\n",
       "  </thead>\n",
       "  <tbody>\n",
       "    <tr>\n",
       "      <th>count</th>\n",
       "      <td>303.000000</td>\n",
       "      <td>303.000000</td>\n",
       "      <td>303.000000</td>\n",
       "      <td>303.000000</td>\n",
       "      <td>303.000000</td>\n",
       "      <td>303.000000</td>\n",
       "      <td>303.000000</td>\n",
       "      <td>303.000000</td>\n",
       "      <td>303.000000</td>\n",
       "      <td>303.000000</td>\n",
       "      <td>303.000000</td>\n",
       "    </tr>\n",
       "    <tr>\n",
       "      <th>mean</th>\n",
       "      <td>54.438944</td>\n",
       "      <td>0.679868</td>\n",
       "      <td>131.689769</td>\n",
       "      <td>246.693069</td>\n",
       "      <td>0.148515</td>\n",
       "      <td>0.990099</td>\n",
       "      <td>149.607261</td>\n",
       "      <td>0.326733</td>\n",
       "      <td>1.039604</td>\n",
       "      <td>1.600660</td>\n",
       "      <td>0.683168</td>\n",
       "    </tr>\n",
       "    <tr>\n",
       "      <th>std</th>\n",
       "      <td>9.038662</td>\n",
       "      <td>0.467299</td>\n",
       "      <td>17.599748</td>\n",
       "      <td>51.776918</td>\n",
       "      <td>0.356198</td>\n",
       "      <td>0.994971</td>\n",
       "      <td>22.875003</td>\n",
       "      <td>0.469794</td>\n",
       "      <td>1.161075</td>\n",
       "      <td>0.616226</td>\n",
       "      <td>0.944808</td>\n",
       "    </tr>\n",
       "    <tr>\n",
       "      <th>min</th>\n",
       "      <td>29.000000</td>\n",
       "      <td>0.000000</td>\n",
       "      <td>94.000000</td>\n",
       "      <td>126.000000</td>\n",
       "      <td>0.000000</td>\n",
       "      <td>0.000000</td>\n",
       "      <td>71.000000</td>\n",
       "      <td>0.000000</td>\n",
       "      <td>0.000000</td>\n",
       "      <td>1.000000</td>\n",
       "      <td>0.000000</td>\n",
       "    </tr>\n",
       "    <tr>\n",
       "      <th>25%</th>\n",
       "      <td>48.000000</td>\n",
       "      <td>0.000000</td>\n",
       "      <td>120.000000</td>\n",
       "      <td>211.000000</td>\n",
       "      <td>0.000000</td>\n",
       "      <td>0.000000</td>\n",
       "      <td>133.500000</td>\n",
       "      <td>0.000000</td>\n",
       "      <td>0.000000</td>\n",
       "      <td>1.000000</td>\n",
       "      <td>0.000000</td>\n",
       "    </tr>\n",
       "    <tr>\n",
       "      <th>50%</th>\n",
       "      <td>56.000000</td>\n",
       "      <td>1.000000</td>\n",
       "      <td>130.000000</td>\n",
       "      <td>241.000000</td>\n",
       "      <td>0.000000</td>\n",
       "      <td>1.000000</td>\n",
       "      <td>153.000000</td>\n",
       "      <td>0.000000</td>\n",
       "      <td>0.800000</td>\n",
       "      <td>2.000000</td>\n",
       "      <td>0.000000</td>\n",
       "    </tr>\n",
       "    <tr>\n",
       "      <th>75%</th>\n",
       "      <td>61.000000</td>\n",
       "      <td>1.000000</td>\n",
       "      <td>140.000000</td>\n",
       "      <td>275.000000</td>\n",
       "      <td>0.000000</td>\n",
       "      <td>2.000000</td>\n",
       "      <td>166.000000</td>\n",
       "      <td>1.000000</td>\n",
       "      <td>1.600000</td>\n",
       "      <td>2.000000</td>\n",
       "      <td>1.000000</td>\n",
       "    </tr>\n",
       "    <tr>\n",
       "      <th>max</th>\n",
       "      <td>77.000000</td>\n",
       "      <td>1.000000</td>\n",
       "      <td>200.000000</td>\n",
       "      <td>564.000000</td>\n",
       "      <td>1.000000</td>\n",
       "      <td>2.000000</td>\n",
       "      <td>202.000000</td>\n",
       "      <td>1.000000</td>\n",
       "      <td>6.200000</td>\n",
       "      <td>3.000000</td>\n",
       "      <td>3.000000</td>\n",
       "    </tr>\n",
       "  </tbody>\n",
       "</table>\n",
       "</div>"
      ],
      "text/plain": [
       "              Age         Sex      RestBP        Chol         Fbs     RestECG  \\\n",
       "count  303.000000  303.000000  303.000000  303.000000  303.000000  303.000000   \n",
       "mean    54.438944    0.679868  131.689769  246.693069    0.148515    0.990099   \n",
       "std      9.038662    0.467299   17.599748   51.776918    0.356198    0.994971   \n",
       "min     29.000000    0.000000   94.000000  126.000000    0.000000    0.000000   \n",
       "25%     48.000000    0.000000  120.000000  211.000000    0.000000    0.000000   \n",
       "50%     56.000000    1.000000  130.000000  241.000000    0.000000    1.000000   \n",
       "75%     61.000000    1.000000  140.000000  275.000000    0.000000    2.000000   \n",
       "max     77.000000    1.000000  200.000000  564.000000    1.000000    2.000000   \n",
       "\n",
       "            MaxHR       ExAng     Oldpeak       Slope          Ca  \n",
       "count  303.000000  303.000000  303.000000  303.000000  303.000000  \n",
       "mean   149.607261    0.326733    1.039604    1.600660    0.683168  \n",
       "std     22.875003    0.469794    1.161075    0.616226    0.944808  \n",
       "min     71.000000    0.000000    0.000000    1.000000    0.000000  \n",
       "25%    133.500000    0.000000    0.000000    1.000000    0.000000  \n",
       "50%    153.000000    0.000000    0.800000    2.000000    0.000000  \n",
       "75%    166.000000    1.000000    1.600000    2.000000    1.000000  \n",
       "max    202.000000    1.000000    6.200000    3.000000    3.000000  "
      ]
     },
     "execution_count": 20,
     "metadata": {},
     "output_type": "execute_result"
    }
   ],
   "source": [
    "df.describe()"
   ]
  },
  {
   "cell_type": "markdown",
   "metadata": {
    "id": "Pwyix6MMVFO1"
   },
   "source": [
    "__Observations__\n",
    "- The average age is 54, and the standard deviation is 9.\n",
    "- The average cholesterol is 246."
   ]
  },
  {
   "cell_type": "markdown",
   "metadata": {
    "id": "LxmcD8lKLkRY"
   },
   "source": [
    "- Let’s plot age and cholesterol.\n",
    "- Let's see if there is any relationship between age and cholesterol."
   ]
  },
  {
   "cell_type": "code",
   "execution_count": 21,
   "metadata": {
    "id": "LYaYJPXkNNp3",
    "outputId": "1b25f76f-3eb9-428a-aa0a-0c4c2d475422"
   },
   "outputs": [
    {
     "data": {
      "image/png": "[encoded data removed]",
      "text/plain": [
       "<Figure size 432x288 with 1 Axes>"
      ]
     },
     "metadata": {
      "needs_background": "light"
     },
     "output_type": "display_data"
    }
   ],
   "source": [
    "# Group data by age and calculate mean cholesterol level for each age group\n",
    "age_chol_mean = df.groupby('Age')['Chol'].mean()\n",
    "\n",
    "# Plot a line plot with markers to show the trend in cholesterol levels with age\n",
    "plt.plot(age_chol_mean.index, age_chol_mean.values, marker='o', color='red')\n",
    "\n",
    "# Enhance labeling\n",
    "plt.xlabel('Age')\n",
    "plt.ylabel('Average cholesterol level')\n",
    "plt.title('Trend of average cholesterol level with age')\n",
    "\n",
    "# Show grid for better visualization\n",
    "plt.grid(True)\n",
    "\n",
    "# Show plot\n",
    "plt.show()\n"
   ]
  },
  {
   "cell_type": "markdown",
   "metadata": {
    "id": "f6H2uB7fWw4W"
   },
   "source": [
    "__Observations__\n",
    "- You can see that as age increases, cholesterol also increases."
   ]
  },
  {
   "cell_type": "code",
   "execution_count": 22,
   "metadata": {
    "colab": {
     "base_uri": "https://localhost:8080/"
    },
    "id": "t98QiiXOmry5",
    "outputId": "738f1adf-e49e-4494-d10d-fad83fdc11a2"
   },
   "outputs": [
    {
     "data": {
      "text/plain": [
       "Age          0\n",
       "Sex          0\n",
       "ChestPain    0\n",
       "RestBP       0\n",
       "Chol         0\n",
       "Fbs          0\n",
       "RestECG      0\n",
       "MaxHR        0\n",
       "ExAng        0\n",
       "Oldpeak      0\n",
       "Slope        0\n",
       "Ca           0\n",
       "Thal         0\n",
       "AHD          0\n",
       "dtype: int64"
      ]
     },
     "execution_count": 22,
     "metadata": {},
     "output_type": "execute_result"
    }
   ],
   "source": [
    "df.isna().sum()"
   ]
  },
  {
   "cell_type": "markdown",
   "metadata": {
    "id": "teJqzs4qoIVZ"
   },
   "source": [
    "- Create dummy variables for categorical features.\n",
    "- Separate the feature and target matrices.\n",
    "- Split the dataset into training and testing sets.\n"
   ]
  },
  {
   "cell_type": "code",
   "execution_count": 23,
   "metadata": {
    "id": "HkR-d98Hmry5"
   },
   "outputs": [],
   "source": [
    "df_new = pd.get_dummies(df, columns= ['ChestPain', 'Thal'],drop_first= True)"
   ]
  },
  {
   "cell_type": "markdown",
   "metadata": {
    "id": "xfzj4M4gd3sF"
   },
   "source": [
    "Let's create x and y."
   ]
  },
  {
   "cell_type": "code",
   "execution_count": 24,
   "metadata": {
    "id": "N6C_5z2omry5"
   },
   "outputs": [],
   "source": [
    "x = df_new.drop('AHD',axis = 1)\n",
    "y = df_new.AHD"
   ]
  },
  {
   "cell_type": "markdown",
   "metadata": {
    "id": "M8-ipXTGd_SL"
   },
   "source": [
    "Let's divide the data into training and testing sets.\n"
   ]
  },
  {
   "cell_type": "code",
   "execution_count": 25,
   "metadata": {
    "id": "xmP1LSJZmry6"
   },
   "outputs": [],
   "source": [
    "x_train, x_test, y_train, y_test = train_test_split(x, y, test_size=0.2,random_state=100)"
   ]
  },
  {
   "cell_type": "markdown",
   "metadata": {
    "id": "NUjTh2lroSwx"
   },
   "source": [
    "- Let’s import the GridSearchCV from the model selection.\n",
    "- Create an SVM classifier.\n",
    "- Define the parameter grid for tuning.\n",
    "- Use GridSearchCV for hyperparameter tuning.\n",
    "- The values inserted into param_grid are SVM model hyperparameter values, such as C, Gamma, and kernel.\n",
    "- Fit the model to the training data.\n"
   ]
  },
  {
   "cell_type": "code",
   "execution_count": null,
   "metadata": {
    "colab": {
     "base_uri": "https://localhost:8080/"
    },
    "id": "l-iFxc3Hmry6",
    "outputId": "9428e66a-2c16-4962-c8ac-aa320d9159f9"
   },
   "outputs": [
    {
     "name": "stdout",
     "output_type": "stream",
     "text": [
      "Fitting 5 folds for each of 25 candidates, totalling 125 fits\n"
     ]
    }
   ],
   "source": [
    "from sklearn.model_selection import GridSearchCV\n",
    "\n",
    "ml = svm.SVC()\n",
    "\n",
    "param_grid = {'C': [ 1, 10, 100, 1000,10000],\n",
    "              'gamma': [1,0.1,0.01,0.001,0.0001],\n",
    "              'kernel': ['rbf']}\n",
    "\n",
    "grid = GridSearchCV(ml, param_grid, refit = True, verbose = 1, cv=5, n_jobs=-1)\n",
    "\n",
    "grid_search=grid.fit(x_train, y_train)"
   ]
  },
  {
   "cell_type": "code",
   "execution_count": null,
   "metadata": {
    "colab": {
     "base_uri": "https://localhost:8080/"
    },
    "id": "eHKkM-VXmry6",
    "outputId": "c50ecf4f-3bfe-45e4-fa96-5f4ee8e8a7bf"
   },
   "outputs": [],
   "source": [
    "print(grid_search.best_params_)"
   ]
  },
  {
   "cell_type": "markdown",
   "metadata": {
    "id": "co4QaL7iYAaf"
   },
   "source": [
    "__Observation__\n",
    "- Based on the grid search, the best parameters are C at 10, gamma at 0.001, and kernel at rbf."
   ]
  },
  {
   "cell_type": "markdown",
   "metadata": {
    "id": "O3-GcrRdoaI-"
   },
   "source": [
    "- Calculate the accuracy of the training data.\n",
    "- Predict the target variable for the test data.\n",
    "- Calculate the accuracy of the test data.\n",
    "- Display the confusion matrix and classification report."
   ]
  },
  {
   "cell_type": "code",
   "execution_count": null,
   "metadata": {
    "id": "jGn6HtI5mry7"
   },
   "outputs": [],
   "source": [
    "accuracy = grid_search.best_score_"
   ]
  },
  {
   "cell_type": "code",
   "execution_count": null,
   "metadata": {
    "colab": {
     "base_uri": "https://localhost:8080/"
    },
    "id": "VZY_5nOTmT0P",
    "outputId": "8664e560-1dd4-4e60-90e4-cecc0d78e782"
   },
   "outputs": [],
   "source": [
    "accuracy"
   ]
  },
  {
   "cell_type": "markdown",
   "metadata": {
    "id": "81GKT71ahL5Y"
   },
   "source": [
    "__Observation__\n",
    "- The accuracy is 75%."
   ]
  },
  {
   "cell_type": "code",
   "execution_count": null,
   "metadata": {
    "id": "iIgZornUmry7"
   },
   "outputs": [],
   "source": [
    "y_test_hat = grid.predict(x_test)"
   ]
  },
  {
   "cell_type": "markdown",
   "metadata": {
    "id": "dGludKwchdua"
   },
   "source": [
    "Let's examine the confusion matrix for the test data.\n"
   ]
  },
  {
   "cell_type": "code",
   "execution_count": null,
   "metadata": {
    "colab": {
     "base_uri": "https://localhost:8080/",
     "height": 184
    },
    "id": "wd2J3SZemry7",
    "outputId": "f1fb9c33-de7d-4fca-f48e-68f0031be259"
   },
   "outputs": [],
   "source": [
    "confusion_mat = confusion_matrix(y_test, y_test_hat)\n",
    "disp = ConfusionMatrixDisplay(confusion_matrix=confusion_mat, display_labels=grid.classes_)\n",
    "disp.plot(cmap=plt.cm.Blues, ax=plt.gca())\n",
    "plt.show()"
   ]
  },
  {
   "cell_type": "markdown",
   "metadata": {
    "id": "lYbZ58gPhqWT"
   },
   "source": [
    "__Observations__\n",
    "- The model misclassified 31 cases as **No** instead of **Yes**.\n",
    "- It predicted 23 cases as **Yes** instead of **No**."
   ]
  },
  {
   "cell_type": "markdown",
   "metadata": {
    "id": "TCyxFu00iD9y"
   },
   "source": [
    "Let's check the classification report."
   ]
  },
  {
   "cell_type": "code",
   "execution_count": null,
   "metadata": {
    "id": "YISsfsn2mry7",
    "outputId": "23131c80-3c92-49e9-f8db-a0c195aba862"
   },
   "outputs": [],
   "source": [
    "print(classification_report(y_test,y_test_hat))"
   ]
  },
  {
   "cell_type": "markdown",
   "metadata": {
    "id": "aW02e-BpiIew"
   },
   "source": [
    "__Observation__\n",
    "- The results show an accuracy of 0.89, with precision and recall at 0.88 and 0.85, respectively.\n"
   ]
  },
  {
   "cell_type": "markdown",
   "metadata": {
    "id": "bMt3xhqSndor"
   },
   "source": [
    "##__Conclusion__##"
   ]
  },
  {
   "cell_type": "markdown",
   "metadata": {
    "id": "-ah-lo8hnf3n"
   },
   "source": [
    "This lesson offers a thorough understanding of a fundamental task in supervised learning.\n",
    " In this lesson, you explored classification's definition, types, techniques, and evaluation metrics. You examined classification models such as decision trees, random forests, and support vector machines.\n",
    " Overall, this lesson has provided you with a solid foundation in machine learning classification, enabling you to apply these techniques to a wide array of real-world problems.\n"
   ]
  }
 ],
 "metadata": {
  "colab": {
   "provenance": []
  },
  "kernelspec": {
   "display_name": "Python 3 [3.10]",
   "language": "python",
   "name": "python3"
  },
  "language_info": {
   "codemirror_mode": {
    "name": "ipython",
    "version": 3
   },
   "file_extension": ".py",
   "mimetype": "text/x-python",
   "name": "python",
   "nbconvert_exporter": "python",
   "pygments_lexer": "ipython3",
   "version": "3.10.2"
  }
 },
 "nbformat": 4,
 "nbformat_minor": 4
}
